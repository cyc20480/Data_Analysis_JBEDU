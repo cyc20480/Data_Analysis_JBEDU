{
 "cells": [
  {
   "cell_type": "code",
   "execution_count": 1,
   "id": "b8d20fbc-1943-4a95-a139-47e1d8611209",
   "metadata": {
    "tags": []
   },
   "outputs": [],
   "source": [
    "# 경고(warning)비표시\n",
    "import warnings\n",
    "warnings.filterwarnings('ignore')"
   ]
  },
  {
   "cell_type": "code",
   "execution_count": 2,
   "id": "dfb67194-4e78-40bb-91b0-224aad24c2e2",
   "metadata": {},
   "outputs": [],
   "source": [
    "## happiness score : 행복지수\n",
    "## GDP per capita : 1인당 국내 총생산 (평균 소득 수준)\n",
    "## social suppory : 사회적 지지 정도 (사회적 연대)\n",
    "## healty life expectancy : 건강한 기대 수명\n",
    "## freedom tp make life choices : 선택의 자유 (하고싶은 것을 할 수 있는 자유)\n",
    "## generosity : 관용, 너그러움\n",
    "## upperwhisker : 최대값(boxplot에서 상자의 위쪽 수염)\n",
    "## lowerwhisker : 최소값\n",
    "## Dystopia : 불안정하고 불행한 사회적 환경, 특정 상황이나 사회적 현상에 대한 부정적인 감정이나 평가"
   ]
  },
  {
   "cell_type": "code",
   "execution_count": 13,
   "id": "d7f5f545-585d-4a85-9d04-7f56ceb2d6a3",
   "metadata": {
    "tags": []
   },
   "outputs": [],
   "source": [
    "import pandas as pd\n",
    "\n",
    "df2020 = pd.read_csv(\"Data/2020.csv\", index_col=0)\n",
    "df2021 = pd.read_csv(\"Data/2021.csv\", index_col=0)"
   ]
  },
  {
   "cell_type": "code",
   "execution_count": 14,
   "id": "65637bf0-8aba-45e5-a52a-98788c956b90",
   "metadata": {
    "tags": []
   },
   "outputs": [
    {
     "data": {
      "text/plain": [
       "Country name                     object\n",
       "Happiness score                 float64\n",
       "upperwhisker                    float64\n",
       "lowerwhisker                    float64\n",
       "GDP per capita                  float64\n",
       "Social support                  float64\n",
       "Healthy life expectancy         float64\n",
       "Freedom to make life choices    float64\n",
       "Generosity                      float64\n",
       "Dystopia                        float64\n",
       "dtype: object"
      ]
     },
     "execution_count": 14,
     "metadata": {},
     "output_type": "execute_result"
    }
   ],
   "source": [
    "df2020.dtypes"
   ]
  },
  {
   "cell_type": "code",
   "execution_count": 15,
   "id": "afe882a9-ee9d-4c44-9325-4110ed9d2cf9",
   "metadata": {
    "tags": []
   },
   "outputs": [
    {
     "data": {
      "text/html": [
       "<div>\n",
       "<style scoped>\n",
       "    .dataframe tbody tr th:only-of-type {\n",
       "        vertical-align: middle;\n",
       "    }\n",
       "\n",
       "    .dataframe tbody tr th {\n",
       "        vertical-align: top;\n",
       "    }\n",
       "\n",
       "    .dataframe thead th {\n",
       "        text-align: right;\n",
       "    }\n",
       "</style>\n",
       "<table border=\"1\" class=\"dataframe\">\n",
       "  <thead>\n",
       "    <tr style=\"text-align: right;\">\n",
       "      <th></th>\n",
       "      <th>Country name</th>\n",
       "      <th>Happiness score</th>\n",
       "      <th>upperwhisker</th>\n",
       "      <th>lowerwhisker</th>\n",
       "      <th>GDP per capita</th>\n",
       "      <th>Social support</th>\n",
       "      <th>Healthy life expectancy</th>\n",
       "      <th>Freedom to make life choices</th>\n",
       "      <th>Generosity</th>\n",
       "      <th>Dystopia</th>\n",
       "    </tr>\n",
       "    <tr>\n",
       "      <th>Rank</th>\n",
       "      <th></th>\n",
       "      <th></th>\n",
       "      <th></th>\n",
       "      <th></th>\n",
       "      <th></th>\n",
       "      <th></th>\n",
       "      <th></th>\n",
       "      <th></th>\n",
       "      <th></th>\n",
       "      <th></th>\n",
       "    </tr>\n",
       "  </thead>\n",
       "  <tbody>\n",
       "    <tr>\n",
       "      <th>1</th>\n",
       "      <td>Finland</td>\n",
       "      <td>7.8087</td>\n",
       "      <td>7.869766</td>\n",
       "      <td>7.747634</td>\n",
       "      <td>10.639267</td>\n",
       "      <td>0.954330</td>\n",
       "      <td>71.900825</td>\n",
       "      <td>0.949172</td>\n",
       "      <td>-0.059482</td>\n",
       "      <td>2.762835</td>\n",
       "    </tr>\n",
       "    <tr>\n",
       "      <th>2</th>\n",
       "      <td>Denmark</td>\n",
       "      <td>7.6456</td>\n",
       "      <td>7.711245</td>\n",
       "      <td>7.579955</td>\n",
       "      <td>10.774001</td>\n",
       "      <td>0.955991</td>\n",
       "      <td>72.402504</td>\n",
       "      <td>0.951444</td>\n",
       "      <td>0.066202</td>\n",
       "      <td>2.432741</td>\n",
       "    </tr>\n",
       "  </tbody>\n",
       "</table>\n",
       "</div>"
      ],
      "text/plain": [
       "     Country name  Happiness score  upperwhisker  lowerwhisker  \\\n",
       "Rank                                                             \n",
       "1         Finland           7.8087      7.869766      7.747634   \n",
       "2         Denmark           7.6456      7.711245      7.579955   \n",
       "\n",
       "      GDP per capita  Social support  Healthy life expectancy  \\\n",
       "Rank                                                            \n",
       "1          10.639267        0.954330                71.900825   \n",
       "2          10.774001        0.955991                72.402504   \n",
       "\n",
       "      Freedom to make life choices  Generosity  Dystopia  \n",
       "Rank                                                      \n",
       "1                         0.949172   -0.059482  2.762835  \n",
       "2                         0.951444    0.066202  2.432741  "
      ]
     },
     "execution_count": 15,
     "metadata": {},
     "output_type": "execute_result"
    }
   ],
   "source": [
    "df2020.head(2)"
   ]
  },
  {
   "cell_type": "markdown",
   "id": "7e1a9b08-2da6-4c5d-a5cb-f8a0a98250dc",
   "metadata": {},
   "source": [
    "### Data 가공"
   ]
  },
  {
   "cell_type": "code",
   "execution_count": 16,
   "id": "863203ae-24e2-4477-844a-1a737d928e12",
   "metadata": {
    "tags": []
   },
   "outputs": [],
   "source": [
    "# 불필요한 컬럼 삭제\n",
    "df2020.drop(['upperwhisker', 'lowerwhisker', 'Dystopia'], axis = 1, inplace = True)\n",
    "df2021.drop(['upperwhisker', 'lowerwhisker', 'Dystopia'], axis = 1, inplace = True)"
   ]
  },
  {
   "cell_type": "code",
   "execution_count": 17,
   "id": "6ea76cf9-facc-4504-8b3c-9153f130fe63",
   "metadata": {
    "tags": []
   },
   "outputs": [
    {
     "name": "stdout",
     "output_type": "stream",
     "text": [
      "<class 'pandas.core.frame.DataFrame'>\n",
      "Index: 153 entries, 1 to 153\n",
      "Data columns (total 7 columns):\n",
      " #   Column                        Non-Null Count  Dtype  \n",
      "---  ------                        --------------  -----  \n",
      " 0   Country name                  153 non-null    object \n",
      " 1   Happiness score               153 non-null    float64\n",
      " 2   GDP per capita                153 non-null    float64\n",
      " 3   Social support                153 non-null    float64\n",
      " 4   Healthy life expectancy       153 non-null    float64\n",
      " 5   Freedom to make life choices  153 non-null    float64\n",
      " 6   Generosity                    153 non-null    float64\n",
      "dtypes: float64(6), object(1)\n",
      "memory usage: 9.6+ KB\n"
     ]
    }
   ],
   "source": [
    "df2020.info()"
   ]
  },
  {
   "cell_type": "code",
   "execution_count": 20,
   "id": "8ddbaefe-7d24-4be1-bafc-577096e1e75d",
   "metadata": {
    "tags": []
   },
   "outputs": [],
   "source": [
    "#항목의 이름 변경 (공백을 _ 로 )\n",
    "\n",
    "df2020.columns = df2020.columns.str.replace(' ' , '_')\n",
    "df2021.columns = df2021.columns.str.replace(' ' , '_')"
   ]
  },
  {
   "cell_type": "code",
   "execution_count": 21,
   "id": "8c64eb82-ff9d-4f7c-a404-241517b0b02e",
   "metadata": {
    "tags": []
   },
   "outputs": [
    {
     "name": "stdout",
     "output_type": "stream",
     "text": [
      "<class 'pandas.core.frame.DataFrame'>\n",
      "Index: 153 entries, 1 to 153\n",
      "Data columns (total 7 columns):\n",
      " #   Column                        Non-Null Count  Dtype  \n",
      "---  ------                        --------------  -----  \n",
      " 0   Country_name                  153 non-null    object \n",
      " 1   Happiness_score               153 non-null    float64\n",
      " 2   GDP_per_capita                153 non-null    float64\n",
      " 3   Social_support                153 non-null    float64\n",
      " 4   Healthy_life_expectancy       153 non-null    float64\n",
      " 5   Freedom_to_make_life_choices  153 non-null    float64\n",
      " 6   Generosity                    153 non-null    float64\n",
      "dtypes: float64(6), object(1)\n",
      "memory usage: 9.6+ KB\n"
     ]
    }
   ],
   "source": [
    "df2020.info()"
   ]
  },
  {
   "cell_type": "code",
   "execution_count": 22,
   "id": "6adb169a-bbe1-4631-8f74-680cc839cba8",
   "metadata": {
    "tags": []
   },
   "outputs": [
    {
     "data": {
      "text/html": [
       "<div>\n",
       "<style scoped>\n",
       "    .dataframe tbody tr th:only-of-type {\n",
       "        vertical-align: middle;\n",
       "    }\n",
       "\n",
       "    .dataframe tbody tr th {\n",
       "        vertical-align: top;\n",
       "    }\n",
       "\n",
       "    .dataframe thead th {\n",
       "        text-align: right;\n",
       "    }\n",
       "</style>\n",
       "<table border=\"1\" class=\"dataframe\">\n",
       "  <thead>\n",
       "    <tr style=\"text-align: right;\">\n",
       "      <th></th>\n",
       "      <th>Country_name</th>\n",
       "      <th>Happiness_score</th>\n",
       "      <th>GDP_per_capita</th>\n",
       "      <th>Social_support</th>\n",
       "      <th>Healthy_life_expectancy</th>\n",
       "      <th>Freedom_to_make_life_choices</th>\n",
       "      <th>Generosity</th>\n",
       "    </tr>\n",
       "    <tr>\n",
       "      <th>Rank</th>\n",
       "      <th></th>\n",
       "      <th></th>\n",
       "      <th></th>\n",
       "      <th></th>\n",
       "      <th></th>\n",
       "      <th></th>\n",
       "      <th></th>\n",
       "    </tr>\n",
       "  </thead>\n",
       "  <tbody>\n",
       "    <tr>\n",
       "      <th>1</th>\n",
       "      <td>Finland</td>\n",
       "      <td>7.842</td>\n",
       "      <td>10.775</td>\n",
       "      <td>0.954</td>\n",
       "      <td>72.0</td>\n",
       "      <td>0.949</td>\n",
       "      <td>-0.098</td>\n",
       "    </tr>\n",
       "    <tr>\n",
       "      <th>2</th>\n",
       "      <td>Denmark</td>\n",
       "      <td>7.620</td>\n",
       "      <td>10.933</td>\n",
       "      <td>0.954</td>\n",
       "      <td>72.7</td>\n",
       "      <td>0.946</td>\n",
       "      <td>0.030</td>\n",
       "    </tr>\n",
       "  </tbody>\n",
       "</table>\n",
       "</div>"
      ],
      "text/plain": [
       "     Country_name  Happiness_score  GDP_per_capita  Social_support  \\\n",
       "Rank                                                                 \n",
       "1         Finland            7.842          10.775           0.954   \n",
       "2         Denmark            7.620          10.933           0.954   \n",
       "\n",
       "      Healthy_life_expectancy  Freedom_to_make_life_choices  Generosity  \n",
       "Rank                                                                     \n",
       "1                        72.0                         0.949      -0.098  \n",
       "2                        72.7                         0.946       0.030  "
      ]
     },
     "execution_count": 22,
     "metadata": {},
     "output_type": "execute_result"
    }
   ],
   "source": [
    "df2021.head(2)"
   ]
  },
  {
   "cell_type": "code",
   "execution_count": 23,
   "id": "e42fbb2f-3e02-49c1-a228-b798fc390502",
   "metadata": {
    "tags": []
   },
   "outputs": [],
   "source": [
    "df2020.columns=['Country','Score','GDP.per.capita','Social.support','Life.expectancy','Freedom','Generosity']\n",
    "df2021.columns=['Country','Score','GDP.per.capita','Social.support','Life.expectancy','Freedom','Generosity']"
   ]
  },
  {
   "cell_type": "code",
   "execution_count": 24,
   "id": "23ba8d3e-63d4-4871-bbfa-d763dcc5a0f2",
   "metadata": {
    "tags": []
   },
   "outputs": [
    {
     "name": "stdout",
     "output_type": "stream",
     "text": [
      "<class 'pandas.core.frame.DataFrame'>\n",
      "Index: 153 entries, 1 to 153\n",
      "Data columns (total 7 columns):\n",
      " #   Column           Non-Null Count  Dtype  \n",
      "---  ------           --------------  -----  \n",
      " 0   Country          153 non-null    object \n",
      " 1   Score            153 non-null    float64\n",
      " 2   GDP.per.capita   153 non-null    float64\n",
      " 3   Social.support   153 non-null    float64\n",
      " 4   Life.expectancy  153 non-null    float64\n",
      " 5   Freedom          153 non-null    float64\n",
      " 6   Generosity       153 non-null    float64\n",
      "dtypes: float64(6), object(1)\n",
      "memory usage: 9.6+ KB\n"
     ]
    }
   ],
   "source": [
    "df2020.info()"
   ]
  },
  {
   "cell_type": "markdown",
   "id": "04269db0-b993-46be-9fa0-c35af5104b10",
   "metadata": {},
   "source": [
    "### Data 시각화"
   ]
  },
  {
   "cell_type": "code",
   "execution_count": 26,
   "id": "ff77467a-66ea-4e0f-b190-34a050f0dfbe",
   "metadata": {
    "tags": []
   },
   "outputs": [],
   "source": [
    "#행복지수에 영향주는 요인 파악\n",
    "# 행복 점수와 각 항묵의 상관관계\n",
    "\n",
    "df1 = df2020.copy()\n",
    "df1.drop(['Social.support', 'Life.expectancy', 'Generosity'], axis = 1, inplace = True )"
   ]
  },
  {
   "cell_type": "code",
   "execution_count": 27,
   "id": "915689f2-ad25-4f8d-8a1c-f77dacf0e4aa",
   "metadata": {
    "tags": []
   },
   "outputs": [
    {
     "name": "stdout",
     "output_type": "stream",
     "text": [
      "<class 'pandas.core.frame.DataFrame'>\n",
      "Index: 153 entries, 1 to 153\n",
      "Data columns (total 4 columns):\n",
      " #   Column          Non-Null Count  Dtype  \n",
      "---  ------          --------------  -----  \n",
      " 0   Country         153 non-null    object \n",
      " 1   Score           153 non-null    float64\n",
      " 2   GDP.per.capita  153 non-null    float64\n",
      " 3   Freedom         153 non-null    float64\n",
      "dtypes: float64(3), object(1)\n",
      "memory usage: 6.0+ KB\n"
     ]
    }
   ],
   "source": [
    "df1.info()"
   ]
  },
  {
   "cell_type": "code",
   "execution_count": 30,
   "id": "78b35ba7-1e7f-4423-a8f5-480400150952",
   "metadata": {
    "tags": []
   },
   "outputs": [
    {
     "data": {
      "text/html": [
       "<div>\n",
       "<style scoped>\n",
       "    .dataframe tbody tr th:only-of-type {\n",
       "        vertical-align: middle;\n",
       "    }\n",
       "\n",
       "    .dataframe tbody tr th {\n",
       "        vertical-align: top;\n",
       "    }\n",
       "\n",
       "    .dataframe thead th {\n",
       "        text-align: right;\n",
       "    }\n",
       "</style>\n",
       "<table border=\"1\" class=\"dataframe\">\n",
       "  <thead>\n",
       "    <tr style=\"text-align: right;\">\n",
       "      <th></th>\n",
       "      <th>Score</th>\n",
       "      <th>GDP.per.capita</th>\n",
       "      <th>Freedom</th>\n",
       "    </tr>\n",
       "  </thead>\n",
       "  <tbody>\n",
       "    <tr>\n",
       "      <th>Score</th>\n",
       "      <td>1.000000</td>\n",
       "      <td>0.775374</td>\n",
       "      <td>0.590597</td>\n",
       "    </tr>\n",
       "    <tr>\n",
       "      <th>GDP.per.capita</th>\n",
       "      <td>0.775374</td>\n",
       "      <td>1.000000</td>\n",
       "      <td>0.419019</td>\n",
       "    </tr>\n",
       "    <tr>\n",
       "      <th>Freedom</th>\n",
       "      <td>0.590597</td>\n",
       "      <td>0.419019</td>\n",
       "      <td>1.000000</td>\n",
       "    </tr>\n",
       "  </tbody>\n",
       "</table>\n",
       "</div>"
      ],
      "text/plain": [
       "                   Score  GDP.per.capita   Freedom\n",
       "Score           1.000000        0.775374  0.590597\n",
       "GDP.per.capita  0.775374        1.000000  0.419019\n",
       "Freedom         0.590597        0.419019  1.000000"
      ]
     },
     "execution_count": 30,
     "metadata": {},
     "output_type": "execute_result"
    }
   ],
   "source": [
    "# 상관게수\n",
    "\n",
    "corr = df1.corr(numeric_only = True)\n",
    "corr"
   ]
  },
  {
   "cell_type": "code",
   "execution_count": 32,
   "id": "aeda6aa4-9328-4276-b14d-224abaf6af61",
   "metadata": {
    "tags": []
   },
   "outputs": [
    {
     "data": {
      "text/plain": [
       "<Axes: >"
      ]
     },
     "execution_count": 32,
     "metadata": {},
     "output_type": "execute_result"
    },
    {
     "data": {
      "image/png": "[encoded data removed]",
      "text/plain": [
       "<Figure size 640x480 with 2 Axes>"
      ]
     },
     "metadata": {},
     "output_type": "display_data"
    }
   ],
   "source": [
    "## 히트맵\n",
    "\n",
    "import seaborn as sns\n",
    "sns.heatmap(corr, annot = True, cmap = 'Blues')"
   ]
  },
  {
   "cell_type": "code",
   "execution_count": 33,
   "id": "607dcf3d-fc09-47b2-9af8-8c8a93836323",
   "metadata": {
    "tags": []
   },
   "outputs": [],
   "source": [
    "df2 = df2021.copy()\n",
    "df2.drop(['Social.support', 'Life.expectancy', 'Generosity'], axis = 1, inplace = True )"
   ]
  },
  {
   "cell_type": "code",
   "execution_count": 34,
   "id": "ebc1bc6a-838d-4934-9aa8-ac4761272cd6",
   "metadata": {
    "tags": []
   },
   "outputs": [
    {
     "data": {
      "text/html": [
       "<div>\n",
       "<style scoped>\n",
       "    .dataframe tbody tr th:only-of-type {\n",
       "        vertical-align: middle;\n",
       "    }\n",
       "\n",
       "    .dataframe tbody tr th {\n",
       "        vertical-align: top;\n",
       "    }\n",
       "\n",
       "    .dataframe thead th {\n",
       "        text-align: right;\n",
       "    }\n",
       "</style>\n",
       "<table border=\"1\" class=\"dataframe\">\n",
       "  <thead>\n",
       "    <tr style=\"text-align: right;\">\n",
       "      <th></th>\n",
       "      <th>Score</th>\n",
       "      <th>GDP.per.capita</th>\n",
       "      <th>Freedom</th>\n",
       "    </tr>\n",
       "  </thead>\n",
       "  <tbody>\n",
       "    <tr>\n",
       "      <th>Score</th>\n",
       "      <td>1.000000</td>\n",
       "      <td>0.789760</td>\n",
       "      <td>0.607753</td>\n",
       "    </tr>\n",
       "    <tr>\n",
       "      <th>GDP.per.capita</th>\n",
       "      <td>0.789760</td>\n",
       "      <td>1.000000</td>\n",
       "      <td>0.432323</td>\n",
       "    </tr>\n",
       "    <tr>\n",
       "      <th>Freedom</th>\n",
       "      <td>0.607753</td>\n",
       "      <td>0.432323</td>\n",
       "      <td>1.000000</td>\n",
       "    </tr>\n",
       "  </tbody>\n",
       "</table>\n",
       "</div>"
      ],
      "text/plain": [
       "                   Score  GDP.per.capita   Freedom\n",
       "Score           1.000000        0.789760  0.607753\n",
       "GDP.per.capita  0.789760        1.000000  0.432323\n",
       "Freedom         0.607753        0.432323  1.000000"
      ]
     },
     "execution_count": 34,
     "metadata": {},
     "output_type": "execute_result"
    }
   ],
   "source": [
    "corr2 = df2.corr(numeric_only = True)\n",
    "corr2"
   ]
  },
  {
   "cell_type": "code",
   "execution_count": 36,
   "id": "96eb3a64-b521-4b9b-8ca5-846219699dee",
   "metadata": {
    "tags": []
   },
   "outputs": [
    {
     "data": {
      "text/plain": [
       "<Axes: >"
      ]
     },
     "execution_count": 36,
     "metadata": {},
     "output_type": "execute_result"
    },
    {
     "data": {
      "image/png": "[encoded data removed]",
      "text/plain": [
       "<Figure size 640x480 with 2 Axes>"
      ]
     },
     "metadata": {},
     "output_type": "display_data"
    }
   ],
   "source": [
    "sns.heatmap(corr2, annot = True, cmap = 'Reds')"
   ]
  },
  {
   "cell_type": "code",
   "execution_count": 40,
   "id": "f54b2fbd-a2ab-412e-aa19-1a36c6072427",
   "metadata": {
    "tags": []
   },
   "outputs": [
    {
     "data": {
      "text/plain": [
       "<Axes: >"
      ]
     },
     "execution_count": 40,
     "metadata": {},
     "output_type": "execute_result"
    },
    {
     "data": {
      "image/png": "[encoded data removed]",
      "text/plain": [
       "<Figure size 640x480 with 2 Axes>"
      ]
     },
     "metadata": {},
     "output_type": "display_data"
    }
   ],
   "source": [
    "df3 = df2020[['Generosity', 'Social.support','Score']].copy()\n",
    "corr3 = df3.corr(numeric_only = True)\n",
    "sns.heatmap(corr3, annot = True, cmap = 'Blues')"
   ]
  },
  {
   "cell_type": "code",
   "execution_count": 39,
   "id": "6cd6cf68-fe44-49cb-983a-257bdb0ce191",
   "metadata": {
    "tags": []
   },
   "outputs": [
    {
     "data": {
      "text/html": [
       "<div>\n",
       "<style scoped>\n",
       "    .dataframe tbody tr th:only-of-type {\n",
       "        vertical-align: middle;\n",
       "    }\n",
       "\n",
       "    .dataframe tbody tr th {\n",
       "        vertical-align: top;\n",
       "    }\n",
       "\n",
       "    .dataframe thead th {\n",
       "        text-align: right;\n",
       "    }\n",
       "</style>\n",
       "<table border=\"1\" class=\"dataframe\">\n",
       "  <thead>\n",
       "    <tr style=\"text-align: right;\">\n",
       "      <th></th>\n",
       "      <th>Generosity</th>\n",
       "      <th>Social.support</th>\n",
       "      <th>Score</th>\n",
       "    </tr>\n",
       "  </thead>\n",
       "  <tbody>\n",
       "    <tr>\n",
       "      <th>Generosity</th>\n",
       "      <td>1.000000</td>\n",
       "      <td>-0.056780</td>\n",
       "      <td>0.069043</td>\n",
       "    </tr>\n",
       "    <tr>\n",
       "      <th>Social.support</th>\n",
       "      <td>-0.056780</td>\n",
       "      <td>1.000000</td>\n",
       "      <td>0.765001</td>\n",
       "    </tr>\n",
       "    <tr>\n",
       "      <th>Score</th>\n",
       "      <td>0.069043</td>\n",
       "      <td>0.765001</td>\n",
       "      <td>1.000000</td>\n",
       "    </tr>\n",
       "  </tbody>\n",
       "</table>\n",
       "</div>"
      ],
      "text/plain": [
       "                Generosity  Social.support     Score\n",
       "Generosity        1.000000       -0.056780  0.069043\n",
       "Social.support   -0.056780        1.000000  0.765001\n",
       "Score             0.069043        0.765001  1.000000"
      ]
     },
     "execution_count": 39,
     "metadata": {},
     "output_type": "execute_result"
    }
   ],
   "source": [
    "corr3\n"
   ]
  },
  {
   "cell_type": "code",
   "execution_count": 38,
   "id": "2da72a64-61b8-4980-a76d-6e32020d7b49",
   "metadata": {
    "tags": []
   },
   "outputs": [
    {
     "data": {
      "text/plain": [
       "<Axes: >"
      ]
     },
     "execution_count": 38,
     "metadata": {},
     "output_type": "execute_result"
    },
    {
     "data": {
      "image/png": "[encoded data removed]",
      "text/plain": [
       "<Figure size 640x480 with 2 Axes>"
      ]
     },
     "metadata": {},
     "output_type": "display_data"
    }
   ],
   "source": [
    "df4 = df2021[['Generosity', 'Social.support','Score']].copy()\n",
    "corr4 = df4.corr(numeric_only = True)\n",
    "corr4\n",
    "sns.heatmap(corr4, annot = True, cmap = 'Reds')"
   ]
  },
  {
   "cell_type": "code",
   "execution_count": 42,
   "id": "b1745fca-ad95-4d26-a301-5a5f81e6c01f",
   "metadata": {
    "tags": []
   },
   "outputs": [
    {
     "data": {
      "text/html": [
       "<div>\n",
       "<style scoped>\n",
       "    .dataframe tbody tr th:only-of-type {\n",
       "        vertical-align: middle;\n",
       "    }\n",
       "\n",
       "    .dataframe tbody tr th {\n",
       "        vertical-align: top;\n",
       "    }\n",
       "\n",
       "    .dataframe thead th {\n",
       "        text-align: right;\n",
       "    }\n",
       "</style>\n",
       "<table border=\"1\" class=\"dataframe\">\n",
       "  <thead>\n",
       "    <tr style=\"text-align: right;\">\n",
       "      <th></th>\n",
       "      <th>Country</th>\n",
       "      <th>GDP.per.capita</th>\n",
       "    </tr>\n",
       "    <tr>\n",
       "      <th>Rank</th>\n",
       "      <th></th>\n",
       "      <th></th>\n",
       "    </tr>\n",
       "  </thead>\n",
       "  <tbody>\n",
       "    <tr>\n",
       "      <th>1</th>\n",
       "      <td>Finland</td>\n",
       "      <td>10.639267</td>\n",
       "    </tr>\n",
       "    <tr>\n",
       "      <th>2</th>\n",
       "      <td>Denmark</td>\n",
       "      <td>10.774001</td>\n",
       "    </tr>\n",
       "    <tr>\n",
       "      <th>3</th>\n",
       "      <td>Switzerland</td>\n",
       "      <td>10.979933</td>\n",
       "    </tr>\n",
       "    <tr>\n",
       "      <th>4</th>\n",
       "      <td>Iceland</td>\n",
       "      <td>10.772559</td>\n",
       "    </tr>\n",
       "    <tr>\n",
       "      <th>5</th>\n",
       "      <td>Norway</td>\n",
       "      <td>11.087804</td>\n",
       "    </tr>\n",
       "    <tr>\n",
       "      <th>...</th>\n",
       "      <td>...</td>\n",
       "      <td>...</td>\n",
       "    </tr>\n",
       "    <tr>\n",
       "      <th>149</th>\n",
       "      <td>Central African Republic</td>\n",
       "      <td>6.625160</td>\n",
       "    </tr>\n",
       "    <tr>\n",
       "      <th>150</th>\n",
       "      <td>Rwanda</td>\n",
       "      <td>7.600104</td>\n",
       "    </tr>\n",
       "    <tr>\n",
       "      <th>151</th>\n",
       "      <td>Zimbabwe</td>\n",
       "      <td>7.865712</td>\n",
       "    </tr>\n",
       "    <tr>\n",
       "      <th>152</th>\n",
       "      <td>South Sudan</td>\n",
       "      <td>7.425360</td>\n",
       "    </tr>\n",
       "    <tr>\n",
       "      <th>153</th>\n",
       "      <td>Afghanistan</td>\n",
       "      <td>7.462861</td>\n",
       "    </tr>\n",
       "  </tbody>\n",
       "</table>\n",
       "<p>153 rows × 2 columns</p>\n",
       "</div>"
      ],
      "text/plain": [
       "                       Country  GDP.per.capita\n",
       "Rank                                          \n",
       "1                      Finland       10.639267\n",
       "2                      Denmark       10.774001\n",
       "3                  Switzerland       10.979933\n",
       "4                      Iceland       10.772559\n",
       "5                       Norway       11.087804\n",
       "...                        ...             ...\n",
       "149   Central African Republic        6.625160\n",
       "150                     Rwanda        7.600104\n",
       "151                   Zimbabwe        7.865712\n",
       "152                South Sudan        7.425360\n",
       "153                Afghanistan        7.462861\n",
       "\n",
       "[153 rows x 2 columns]"
      ]
     },
     "execution_count": 42,
     "metadata": {},
     "output_type": "execute_result"
    }
   ],
   "source": [
    "economy = df2020.loc[:,['Country', 'GDP.per.capita']]\n",
    "economy"
   ]
  },
  {
   "cell_type": "code",
   "execution_count": 44,
   "id": "33082b4c-0e97-4006-bda4-865470503686",
   "metadata": {
    "tags": []
   },
   "outputs": [
    {
     "data": {
      "text/plain": [
       "Country\n",
       "Luxembourg                  11.450681\n",
       "Singapore                   11.395521\n",
       "Ireland                     11.160978\n",
       "United Arab Emirates        11.109999\n",
       "Kuwait                      11.089825\n",
       "                              ...    \n",
       "Liberia                      7.054380\n",
       "Niger                        6.842167\n",
       "Congo (Kinshasa)             6.694256\n",
       "Central African Republic     6.625160\n",
       "Burundi                      6.492642\n",
       "Name: GDP.per.capita, Length: 153, dtype: float64"
      ]
     },
     "execution_count": 44,
     "metadata": {},
     "output_type": "execute_result"
    }
   ],
   "source": [
    "economy = economy.groupby(economy.Country)['GDP.per.capita'].mean().sort_values(ascending = False )\n",
    "economy"
   ]
  },
  {
   "cell_type": "code",
   "execution_count": 45,
   "id": "d3dae828-3176-40b4-a132-bc22476f5198",
   "metadata": {
    "tags": []
   },
   "outputs": [
    {
     "data": {
      "text/plain": [
       "27.0"
      ]
     },
     "execution_count": 45,
     "metadata": {},
     "output_type": "execute_result"
    }
   ],
   "source": [
    "economy = economy.rank(method = 'min', ascending = False )['South Korea']\n",
    "economy"
   ]
  },
  {
   "cell_type": "code",
   "execution_count": 47,
   "id": "6d6b4d18-3ecf-4cef-b4c6-7f0eacef5c0d",
   "metadata": {
    "tags": []
   },
   "outputs": [],
   "source": [
    "#동점일경우 작은순위로 해당 모두 표시 (min)"
   ]
  },
  {
   "cell_type": "code",
   "execution_count": 48,
   "id": "810303ee-c956-40fe-ab25-d09df4011d64",
   "metadata": {
    "tags": []
   },
   "outputs": [
    {
     "data": {
      "text/plain": [
       "Country\n",
       "Iceland                     0.974670\n",
       "Turkmenistan                0.958966\n",
       "Denmark                     0.955991\n",
       "Finland                     0.954330\n",
       "Norway                      0.952487\n",
       "                              ...   \n",
       "Rwanda                      0.540835\n",
       "Burundi                     0.490326\n",
       "Afghanistan                 0.470367\n",
       "Benin                       0.468671\n",
       "Central African Republic    0.319460\n",
       "Name: Social.support, Length: 153, dtype: float64"
      ]
     },
     "execution_count": 48,
     "metadata": {},
     "output_type": "execute_result"
    }
   ],
   "source": [
    "social = df2020.loc[:,['Country', 'Social.support']]\n",
    "social = social.groupby(social.Country)['Social.support'].mean().sort_values(ascending = False )\n",
    "social"
   ]
  },
  {
   "cell_type": "code",
   "execution_count": 49,
   "id": "4804210e-b98c-4497-a81d-3c1e6c17356a",
   "metadata": {
    "tags": []
   },
   "outputs": [
    {
     "data": {
      "text/plain": [
       "99.0"
      ]
     },
     "execution_count": 49,
     "metadata": {},
     "output_type": "execute_result"
    }
   ],
   "source": [
    "social = social.rank(method = 'min', ascending = False )['South Korea']\n",
    "social"
   ]
  },
  {
   "cell_type": "code",
   "execution_count": 51,
   "id": "9f35c631-daa2-4acc-9182-40208122c36b",
   "metadata": {
    "tags": []
   },
   "outputs": [
    {
     "data": {
      "text/plain": [
       "Country\n",
       "Singapore                    76.804581\n",
       "Hong Kong S.A.R. of China    76.771706\n",
       "Japan                        75.000969\n",
       "Spain                        74.402710\n",
       "Switzerland                  74.102448\n",
       "                               ...    \n",
       "Nigeria                      49.861908\n",
       "Ivory Coast                  49.503773\n",
       "Chad                         48.220539\n",
       "Lesotho                      48.003624\n",
       "Central African Republic     45.200001\n",
       "Name: Life.expectancy, Length: 153, dtype: float64"
      ]
     },
     "execution_count": 51,
     "metadata": {},
     "output_type": "execute_result"
    }
   ],
   "source": [
    "life = df2020.loc[:,['Country', 'Life.expectancy']]\n",
    "life = life.groupby(life.Country)['Life.expectancy'].mean().sort_values(ascending = False )\n",
    "life"
   ]
  },
  {
   "cell_type": "code",
   "execution_count": 52,
   "id": "2d6a8534-3bf4-4aa0-b692-6e4c0c7bd246",
   "metadata": {
    "tags": []
   },
   "outputs": [
    {
     "data": {
      "text/plain": [
       "10.0"
      ]
     },
     "execution_count": 52,
     "metadata": {},
     "output_type": "execute_result"
    }
   ],
   "source": [
    "life = life.rank(method = 'max', ascending = False )['South Korea']\n",
    "life"
   ]
  },
  {
   "cell_type": "code",
   "execution_count": 53,
   "id": "746fe76c-5ae9-4221-97f2-c2d57ce551bc",
   "metadata": {
    "tags": []
   },
   "outputs": [
    {
     "data": {
      "text/plain": [
       "140.0"
      ]
     },
     "execution_count": 53,
     "metadata": {},
     "output_type": "execute_result"
    }
   ],
   "source": [
    "freedom = df2020.loc[:,['Country', 'Freedom']]\n",
    "freedom = freedom.groupby(freedom.Country)['Freedom'].mean().sort_values(ascending = False )\n",
    "freedom = freedom.rank(method = 'max', ascending = False )['South Korea']\n",
    "freedom"
   ]
  },
  {
   "cell_type": "code",
   "execution_count": null,
   "id": "14ab20a9-9d74-45ea-b6a1-f0e589fad860",
   "metadata": {},
   "outputs": [],
   "source": []
  }
 ],
 "metadata": {
  "kernelspec": {
   "display_name": "Python 3 (ipykernel)",
   "language": "python",
   "name": "python3"
  },
  "language_info": {
   "codemirror_mode": {
    "name": "ipython",
    "version": 3
   },
   "file_extension": ".py",
   "mimetype": "text/x-python",
   "name": "python",
   "nbconvert_exporter": "python",
   "pygments_lexer": "ipython3",
   "version": "3.11.5"
  }
 },
 "nbformat": 4,
 "nbformat_minor": 5
}
