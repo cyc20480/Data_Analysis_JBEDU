{
 "cells": [
  {
   "cell_type": "code",
   "execution_count": 1,
   "id": "6066e2e6",
   "metadata": {},
   "outputs": [
    {
     "data": {
      "text/html": [
       "<div>\n",
       "<style scoped>\n",
       "    .dataframe tbody tr th:only-of-type {\n",
       "        vertical-align: middle;\n",
       "    }\n",
       "\n",
       "    .dataframe tbody tr th {\n",
       "        vertical-align: top;\n",
       "    }\n",
       "\n",
       "    .dataframe thead th {\n",
       "        text-align: right;\n",
       "    }\n",
       "</style>\n",
       "<table border=\"1\" class=\"dataframe\">\n",
       "  <thead>\n",
       "    <tr style=\"text-align: right;\">\n",
       "      <th></th>\n",
       "      <th>hatchery</th>\n",
       "      <th>chick</th>\n",
       "    </tr>\n",
       "  </thead>\n",
       "  <tbody>\n",
       "    <tr>\n",
       "      <th>0</th>\n",
       "      <td>A</td>\n",
       "      <td>30</td>\n",
       "    </tr>\n",
       "    <tr>\n",
       "      <th>1</th>\n",
       "      <td>B</td>\n",
       "      <td>30</td>\n",
       "    </tr>\n",
       "    <tr>\n",
       "      <th>2</th>\n",
       "      <td>C</td>\n",
       "      <td>29</td>\n",
       "    </tr>\n",
       "    <tr>\n",
       "      <th>3</th>\n",
       "      <td>D</td>\n",
       "      <td>26</td>\n",
       "    </tr>\n",
       "    <tr>\n",
       "      <th>4</th>\n",
       "      <td>E</td>\n",
       "      <td>24</td>\n",
       "    </tr>\n",
       "    <tr>\n",
       "      <th>5</th>\n",
       "      <td>F</td>\n",
       "      <td>28</td>\n",
       "    </tr>\n",
       "    <tr>\n",
       "      <th>6</th>\n",
       "      <td>G</td>\n",
       "      <td>27</td>\n",
       "    </tr>\n",
       "  </tbody>\n",
       "</table>\n",
       "</div>"
      ],
      "text/plain": [
       "  hatchery  chick\n",
       "0        A     30\n",
       "1        B     30\n",
       "2        C     29\n",
       "3        D     26\n",
       "4        E     24\n",
       "5        F     28\n",
       "6        G     27"
      ]
     },
     "execution_count": 1,
     "metadata": {},
     "output_type": "execute_result"
    }
   ],
   "source": [
    "import pandas as pd  \n",
    "\n",
    "hat = pd.read_csv('data/chick001.csv') \n",
    "hat"
   ]
  },
  {
   "cell_type": "code",
   "execution_count": 2,
   "id": "6a60687f",
   "metadata": {},
   "outputs": [
    {
     "data": {
      "text/html": [
       "<div>\n",
       "<style scoped>\n",
       "    .dataframe tbody tr th:only-of-type {\n",
       "        vertical-align: middle;\n",
       "    }\n",
       "\n",
       "    .dataframe tbody tr th {\n",
       "        vertical-align: top;\n",
       "    }\n",
       "\n",
       "    .dataframe thead th {\n",
       "        text-align: right;\n",
       "    }\n",
       "</style>\n",
       "<table border=\"1\" class=\"dataframe\">\n",
       "  <thead>\n",
       "    <tr style=\"text-align: right;\">\n",
       "      <th></th>\n",
       "      <th>hatchery</th>\n",
       "      <th>chick</th>\n",
       "    </tr>\n",
       "  </thead>\n",
       "  <tbody>\n",
       "    <tr>\n",
       "      <th>0</th>\n",
       "      <td>A</td>\n",
       "      <td>30</td>\n",
       "    </tr>\n",
       "    <tr>\n",
       "      <th>1</th>\n",
       "      <td>B</td>\n",
       "      <td>30</td>\n",
       "    </tr>\n",
       "    <tr>\n",
       "      <th>2</th>\n",
       "      <td>C</td>\n",
       "      <td>29</td>\n",
       "    </tr>\n",
       "    <tr>\n",
       "      <th>3</th>\n",
       "      <td>D</td>\n",
       "      <td>26</td>\n",
       "    </tr>\n",
       "    <tr>\n",
       "      <th>4</th>\n",
       "      <td>E</td>\n",
       "      <td>24</td>\n",
       "    </tr>\n",
       "  </tbody>\n",
       "</table>\n",
       "</div>"
      ],
      "text/plain": [
       "  hatchery  chick\n",
       "0        A     30\n",
       "1        B     30\n",
       "2        C     29\n",
       "3        D     26\n",
       "4        E     24"
      ]
     },
     "execution_count": 2,
     "metadata": {},
     "output_type": "execute_result"
    }
   ],
   "source": [
    "hat.head()   ## 위에서 5개"
   ]
  },
  {
   "cell_type": "code",
   "execution_count": 3,
   "id": "a22058bc",
   "metadata": {},
   "outputs": [
    {
     "data": {
      "text/plain": [
       "194"
      ]
     },
     "execution_count": 3,
     "metadata": {},
     "output_type": "execute_result"
    }
   ],
   "source": [
    "hat.chick.sum() # 합계 구하기"
   ]
  },
  {
   "cell_type": "code",
   "execution_count": 4,
   "id": "7e89f3a2",
   "metadata": {},
   "outputs": [
    {
     "data": {
      "text/plain": [
       "27.714285714285715"
      ]
     },
     "execution_count": 4,
     "metadata": {},
     "output_type": "execute_result"
    }
   ],
   "source": [
    "hat.chick.mean() # 평균 구하기"
   ]
  },
  {
   "cell_type": "code",
   "execution_count": 5,
   "id": "fe281bef",
   "metadata": {},
   "outputs": [
    {
     "data": {
      "text/plain": [
       "2.2146697055682827"
      ]
     },
     "execution_count": 5,
     "metadata": {},
     "output_type": "execute_result"
    }
   ],
   "source": [
    "hat.chick.std() # 표준편차 구하기"
   ]
  },
  {
   "cell_type": "code",
   "execution_count": 6,
   "id": "23c96784",
   "metadata": {},
   "outputs": [
    {
     "data": {
      "text/plain": [
       "28.0"
      ]
     },
     "execution_count": 6,
     "metadata": {},
     "output_type": "execute_result"
    }
   ],
   "source": [
    "hat.chick.median() # 중앙값 구하기"
   ]
  },
  {
   "cell_type": "code",
   "execution_count": 7,
   "id": "a2fa0b71",
   "metadata": {},
   "outputs": [
    {
     "data": {
      "text/plain": [
       "24"
      ]
     },
     "execution_count": 7,
     "metadata": {},
     "output_type": "execute_result"
    }
   ],
   "source": [
    "hat.chick.min() # 최소값 구하기"
   ]
  },
  {
   "cell_type": "code",
   "execution_count": 8,
   "id": "100e119e",
   "metadata": {},
   "outputs": [
    {
     "data": {
      "text/plain": [
       "30"
      ]
     },
     "execution_count": 8,
     "metadata": {},
     "output_type": "execute_result"
    }
   ],
   "source": [
    "hat.chick.max() # 최대값 구하기"
   ]
  },
  {
   "cell_type": "code",
   "execution_count": 9,
   "id": "4d8eb3be",
   "metadata": {},
   "outputs": [
    {
     "name": "stdout",
     "output_type": "stream",
     "text": [
      "<class 'pandas.core.frame.DataFrame'>\n",
      "RangeIndex: 7 entries, 0 to 6\n",
      "Data columns (total 2 columns):\n",
      " #   Column    Non-Null Count  Dtype \n",
      "---  ------    --------------  ----- \n",
      " 0   hatchery  7 non-null      object\n",
      " 1   chick     7 non-null      int64 \n",
      "dtypes: int64(1), object(1)\n",
      "memory usage: 240.0+ bytes\n"
     ]
    }
   ],
   "source": [
    "hat.info()"
   ]
  },
  {
   "cell_type": "code",
   "execution_count": 11,
   "id": "e8a8fb7d",
   "metadata": {},
   "outputs": [
    {
     "data": {
      "text/html": [
       "<div>\n",
       "<style scoped>\n",
       "    .dataframe tbody tr th:only-of-type {\n",
       "        vertical-align: middle;\n",
       "    }\n",
       "\n",
       "    .dataframe tbody tr th {\n",
       "        vertical-align: top;\n",
       "    }\n",
       "\n",
       "    .dataframe thead th {\n",
       "        text-align: right;\n",
       "    }\n",
       "</style>\n",
       "<table border=\"1\" class=\"dataframe\">\n",
       "  <thead>\n",
       "    <tr style=\"text-align: right;\">\n",
       "      <th></th>\n",
       "      <th>hatchery</th>\n",
       "      <th>chick</th>\n",
       "    </tr>\n",
       "  </thead>\n",
       "  <tbody>\n",
       "    <tr>\n",
       "      <th>0</th>\n",
       "      <td>A</td>\n",
       "      <td>30</td>\n",
       "    </tr>\n",
       "    <tr>\n",
       "      <th>1</th>\n",
       "      <td>B</td>\n",
       "      <td>30</td>\n",
       "    </tr>\n",
       "    <tr>\n",
       "      <th>2</th>\n",
       "      <td>C</td>\n",
       "      <td>29</td>\n",
       "    </tr>\n",
       "    <tr>\n",
       "      <th>5</th>\n",
       "      <td>F</td>\n",
       "      <td>28</td>\n",
       "    </tr>\n",
       "    <tr>\n",
       "      <th>6</th>\n",
       "      <td>G</td>\n",
       "      <td>27</td>\n",
       "    </tr>\n",
       "    <tr>\n",
       "      <th>3</th>\n",
       "      <td>D</td>\n",
       "      <td>26</td>\n",
       "    </tr>\n",
       "    <tr>\n",
       "      <th>4</th>\n",
       "      <td>E</td>\n",
       "      <td>24</td>\n",
       "    </tr>\n",
       "  </tbody>\n",
       "</table>\n",
       "</div>"
      ],
      "text/plain": [
       "  hatchery  chick\n",
       "0        A     30\n",
       "1        B     30\n",
       "2        C     29\n",
       "5        F     28\n",
       "6        G     27\n",
       "3        D     26\n",
       "4        E     24"
      ]
     },
     "execution_count": 11,
     "metadata": {},
     "output_type": "execute_result"
    }
   ],
   "source": [
    "# 데이터 정렬하기, chick 열을 기준으로 오름차순 정렬\n",
    "hat.sort_values(by=['chick'], ascending=False)"
   ]
  },
  {
   "cell_type": "code",
   "execution_count": 13,
   "id": "f85729cd",
   "metadata": {},
   "outputs": [
    {
     "data": {
      "image/png": "[encoded data removed]",
      "text/plain": [
       "<Figure size 1500x1000 with 1 Axes>"
      ]
     },
     "metadata": {},
     "output_type": "display_data"
    }
   ],
   "source": [
    "import matplotlib.pyplot as plt\n",
    "\n",
    "plt.rc('font', family='Malgun Gothic')     # 한글처리\n",
    "plt.rcParams['axes.unicode_minus']=False   # '-'표시 처리\n",
    "\n",
    "# 막대 그래프 그리기\n",
    "plt.figure(figsize=(15, 10))\n",
    "plt.bar(hat['hatchery'], hat['chick'], \n",
    "                    color = ('red','orange','yellow','green','blue','navy','purple'))\n",
    "plt.title('부화장별 병아리 부화현황')\n",
    "plt.xlabel('부화장')\n",
    "plt.ylabel('부화 마리 수')\n",
    "plt.show()"
   ]
  },
  {
   "cell_type": "code",
   "execution_count": 14,
   "id": "a193af96",
   "metadata": {},
   "outputs": [
    {
     "data": {
      "image/png": "[encoded data removed]",
      "text/plain": [
       "<Figure size 1000x700 with 1 Axes>"
      ]
     },
     "metadata": {},
     "output_type": "display_data"
    }
   ],
   "source": [
    "import seaborn as sns\n",
    "\n",
    "col7 = sns.color_palette('Pastel2', 7)\n",
    "plt.figure(figsize=(10, 7))\n",
    "plt.bar(hat['hatchery'], hat['chick'], color = col7, edgecolor = 'black')\n",
    "plt.title('부화장별 병아리 부화현황')\n",
    "plt.xlabel('부화장')\n",
    "plt.ylabel('부화 마리 수')\n",
    "plt.show()"
   ]
  },
  {
   "cell_type": "code",
   "execution_count": 15,
   "id": "329c55f0",
   "metadata": {},
   "outputs": [
    {
     "data": {
      "image/png": "[encoded data removed]",
      "text/plain": [
       "<Figure size 1000x700 with 1 Axes>"
      ]
     },
     "metadata": {},
     "output_type": "display_data"
    }
   ],
   "source": [
    "# 텍스트 추가 사용자 정의 함수 만들기\n",
    "def addtext(x,y):\n",
    "    for i in range(len(x)):\n",
    "        plt.text(i,y[i]+0.5,y[i], ha = 'center')\n",
    "        \n",
    "\n",
    "# 막대 위에 텍스트 추가하기\n",
    "col7 = sns.color_palette('Pastel2', 7)\n",
    "plt.figure(figsize=(10, 7))\n",
    "plt.bar(hat['hatchery'], hat['chick'], color = col7, edgecolor = 'black')\n",
    "addtext(hat['hatchery'], hat['chick']) # 텍스트 표시 사용자 정의 함수 호출\n",
    "plt.title('부화장별 병아리 부화현황', fontsize =17)\n",
    "plt.xlabel('부화장')\n",
    "plt.ylabel('부화 마리 수')\n",
    "plt.show()        \n"
   ]
  },
  {
   "cell_type": "code",
   "execution_count": 17,
   "id": "dfefc817",
   "metadata": {},
   "outputs": [
    {
     "data": {
      "image/png": "[encoded data removed]",
      "text/plain": [
       "<Figure size 1000x700 with 1 Axes>"
      ]
     },
     "metadata": {},
     "output_type": "display_data"
    }
   ],
   "source": [
    "# 빨간색 수평선 추가하기\n",
    "col7 = sns.color_palette('Pastel2', 7)\n",
    "plt.figure(figsize=(10, 7))\n",
    "plt.bar(hat['hatchery'], hat['chick'], color = col7, edgecolor = 'black')\n",
    "addtext(hat['hatchery'], hat['chick']) # 텍스트 표시 사용자 정의 함수 호출\n",
    "\n",
    "plt.hlines(27.7, -1, 7, colors = 'red', linestyles = 'dashed')\n",
    "\n",
    "plt.title('부화장별 병아리 부화현황', fontsize =17)\n",
    "plt.xlabel('부화장')\n",
    "plt.ylabel('부화 마리 수')\n",
    "plt.show()        "
   ]
  },
  {
   "cell_type": "code",
   "execution_count": null,
   "id": "89d38a00",
   "metadata": {},
   "outputs": [],
   "source": []
  },
  {
   "cell_type": "code",
   "execution_count": null,
   "id": "5919d6c8",
   "metadata": {},
   "outputs": [],
   "source": []
  },
  {
   "cell_type": "code",
   "execution_count": null,
   "id": "129d3bb7",
   "metadata": {},
   "outputs": [],
   "source": []
  },
  {
   "cell_type": "code",
   "execution_count": null,
   "id": "93c3a097",
   "metadata": {},
   "outputs": [],
   "source": []
  }
 ],
 "metadata": {
  "kernelspec": {
   "display_name": "Python 3 (ipykernel)",
   "language": "python",
   "name": "python3"
  },
  "language_info": {
   "codemirror_mode": {
    "name": "ipython",
    "version": 3
   },
   "file_extension": ".py",
   "mimetype": "text/x-python",
   "name": "python",
   "nbconvert_exporter": "python",
   "pygments_lexer": "ipython3",
   "version": "3.10.9"
  }
 },
 "nbformat": 4,
 "nbformat_minor": 5
}
