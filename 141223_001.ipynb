{
 "cells": [
  {
   "cell_type": "markdown",
   "id": "68e135c0-d0c4-478c-9fa5-8f55c1820e05",
   "metadata": {},
   "source": [
    "### 실무테크닉100 교재"
   ]
  },
  {
   "cell_type": "code",
   "execution_count": 1,
   "id": "5ae16f66-cb4b-4342-a425-1ab1f9eeb2dd",
   "metadata": {},
   "outputs": [],
   "source": [
    "##############    주문 분석   #################\n",
    "\n",
    "# customer_master.csv       : 고객데이터, 이름, 성별 등\n",
    "# item_master.csv           : 취급하는 상품 데이터, 상품명, 가격 등\n",
    "# transaction_1.csv         : 구매내역 데이터\n",
    "# transaction_2.csv          : 위와 연결된 구매내역 분할 데이터\n",
    "# transaction_detail_1.csv   : 구매내역 상세 데이터\n",
    "# transaction_detail_2.csv   : 위와 연결된 분할 데이터"
   ]
  },
  {
   "cell_type": "code",
   "execution_count": 2,
   "id": "8b5892e8-49bf-4357-80ff-72bc2f6a774f",
   "metadata": {
    "tags": []
   },
   "outputs": [],
   "source": [
    "# 경고(warning) 비표시\n",
    "import warnings\n",
    "warnings.filterwarnings('ignore')"
   ]
  },
  {
   "cell_type": "code",
   "execution_count": 3,
   "id": "623ced25-64d1-46f7-a21b-2028a6c3dc0f",
   "metadata": {
    "tags": []
   },
   "outputs": [
    {
     "data": {
      "text/html": [
       "<div>\n",
       "<style scoped>\n",
       "    .dataframe tbody tr th:only-of-type {\n",
       "        vertical-align: middle;\n",
       "    }\n",
       "\n",
       "    .dataframe tbody tr th {\n",
       "        vertical-align: top;\n",
       "    }\n",
       "\n",
       "    .dataframe thead th {\n",
       "        text-align: right;\n",
       "    }\n",
       "</style>\n",
       "<table border=\"1\" class=\"dataframe\">\n",
       "  <thead>\n",
       "    <tr style=\"text-align: right;\">\n",
       "      <th></th>\n",
       "      <th>customer_id</th>\n",
       "      <th>customer_name</th>\n",
       "      <th>registration_date</th>\n",
       "      <th>email</th>\n",
       "      <th>gender</th>\n",
       "      <th>age</th>\n",
       "      <th>birth</th>\n",
       "      <th>pref</th>\n",
       "    </tr>\n",
       "  </thead>\n",
       "  <tbody>\n",
       "    <tr>\n",
       "      <th>0</th>\n",
       "      <td>IK152942</td>\n",
       "      <td>김서준</td>\n",
       "      <td>2019-01-01 0:25</td>\n",
       "      <td>hirata_yuujirou@example.com</td>\n",
       "      <td>M</td>\n",
       "      <td>29</td>\n",
       "      <td>1990-06-10</td>\n",
       "      <td>대전광역시</td>\n",
       "    </tr>\n",
       "    <tr>\n",
       "      <th>1</th>\n",
       "      <td>TS808488</td>\n",
       "      <td>김예준</td>\n",
       "      <td>2019-01-01 1:13</td>\n",
       "      <td>tamura_shiori@example.com</td>\n",
       "      <td>F</td>\n",
       "      <td>33</td>\n",
       "      <td>1986-05-20</td>\n",
       "      <td>인천광역시</td>\n",
       "    </tr>\n",
       "    <tr>\n",
       "      <th>2</th>\n",
       "      <td>AS834628</td>\n",
       "      <td>김도윤</td>\n",
       "      <td>2019-01-01 2:00</td>\n",
       "      <td>hisano_yuki@example.com</td>\n",
       "      <td>F</td>\n",
       "      <td>63</td>\n",
       "      <td>1956-01-02</td>\n",
       "      <td>광주광역시</td>\n",
       "    </tr>\n",
       "    <tr>\n",
       "      <th>3</th>\n",
       "      <td>AS345469</td>\n",
       "      <td>김시우</td>\n",
       "      <td>2019-01-01 4:48</td>\n",
       "      <td>tsuruoka_kaoru@example.com</td>\n",
       "      <td>M</td>\n",
       "      <td>74</td>\n",
       "      <td>1945-03-25</td>\n",
       "      <td>인천광역시</td>\n",
       "    </tr>\n",
       "    <tr>\n",
       "      <th>4</th>\n",
       "      <td>GD892565</td>\n",
       "      <td>김주원</td>\n",
       "      <td>2019-01-01 4:54</td>\n",
       "      <td>oouchi_takashi@example.com</td>\n",
       "      <td>M</td>\n",
       "      <td>54</td>\n",
       "      <td>1965-08-05</td>\n",
       "      <td>울산광역시</td>\n",
       "    </tr>\n",
       "  </tbody>\n",
       "</table>\n",
       "</div>"
      ],
      "text/plain": [
       "  customer_id customer_name registration_date                        email  \\\n",
       "0    IK152942           김서준   2019-01-01 0:25  hirata_yuujirou@example.com   \n",
       "1    TS808488           김예준   2019-01-01 1:13    tamura_shiori@example.com   \n",
       "2    AS834628           김도윤   2019-01-01 2:00      hisano_yuki@example.com   \n",
       "3    AS345469           김시우   2019-01-01 4:48   tsuruoka_kaoru@example.com   \n",
       "4    GD892565           김주원   2019-01-01 4:54   oouchi_takashi@example.com   \n",
       "\n",
       "  gender  age       birth   pref  \n",
       "0      M   29  1990-06-10  대전광역시  \n",
       "1      F   33  1986-05-20  인천광역시  \n",
       "2      F   63  1956-01-02  광주광역시  \n",
       "3      M   74  1945-03-25  인천광역시  \n",
       "4      M   54  1965-08-05  울산광역시  "
      ]
     },
     "execution_count": 3,
     "metadata": {},
     "output_type": "execute_result"
    }
   ],
   "source": [
    "import pandas as pd\n",
    "customer_master = pd.read_csv('Data/customer_master.csv')\n",
    "customer_master.head()"
   ]
  },
  {
   "cell_type": "code",
   "execution_count": 4,
   "id": "544e88bf-0d1d-4e92-8d10-40522813e5e2",
   "metadata": {
    "tags": []
   },
   "outputs": [
    {
     "data": {
      "text/html": [
       "<div>\n",
       "<style scoped>\n",
       "    .dataframe tbody tr th:only-of-type {\n",
       "        vertical-align: middle;\n",
       "    }\n",
       "\n",
       "    .dataframe tbody tr th {\n",
       "        vertical-align: top;\n",
       "    }\n",
       "\n",
       "    .dataframe thead th {\n",
       "        text-align: right;\n",
       "    }\n",
       "</style>\n",
       "<table border=\"1\" class=\"dataframe\">\n",
       "  <thead>\n",
       "    <tr style=\"text-align: right;\">\n",
       "      <th></th>\n",
       "      <th>item_id</th>\n",
       "      <th>item_name</th>\n",
       "      <th>item_price</th>\n",
       "    </tr>\n",
       "  </thead>\n",
       "  <tbody>\n",
       "    <tr>\n",
       "      <th>0</th>\n",
       "      <td>S001</td>\n",
       "      <td>PC-A</td>\n",
       "      <td>50000</td>\n",
       "    </tr>\n",
       "    <tr>\n",
       "      <th>1</th>\n",
       "      <td>S002</td>\n",
       "      <td>PC-B</td>\n",
       "      <td>85000</td>\n",
       "    </tr>\n",
       "    <tr>\n",
       "      <th>2</th>\n",
       "      <td>S003</td>\n",
       "      <td>PC-C</td>\n",
       "      <td>120000</td>\n",
       "    </tr>\n",
       "    <tr>\n",
       "      <th>3</th>\n",
       "      <td>S004</td>\n",
       "      <td>PC-D</td>\n",
       "      <td>180000</td>\n",
       "    </tr>\n",
       "    <tr>\n",
       "      <th>4</th>\n",
       "      <td>S005</td>\n",
       "      <td>PC-E</td>\n",
       "      <td>210000</td>\n",
       "    </tr>\n",
       "  </tbody>\n",
       "</table>\n",
       "</div>"
      ],
      "text/plain": [
       "  item_id item_name  item_price\n",
       "0    S001      PC-A       50000\n",
       "1    S002      PC-B       85000\n",
       "2    S003      PC-C      120000\n",
       "3    S004      PC-D      180000\n",
       "4    S005      PC-E      210000"
      ]
     },
     "execution_count": 4,
     "metadata": {},
     "output_type": "execute_result"
    }
   ],
   "source": [
    "item_master = pd.read_csv('Data/item_master.csv')\n",
    "item_master.head()"
   ]
  },
  {
   "cell_type": "code",
   "execution_count": 5,
   "id": "746cc480-82db-4659-bebe-587ebb26dac6",
   "metadata": {
    "tags": []
   },
   "outputs": [
    {
     "data": {
      "text/html": [
       "<div>\n",
       "<style scoped>\n",
       "    .dataframe tbody tr th:only-of-type {\n",
       "        vertical-align: middle;\n",
       "    }\n",
       "\n",
       "    .dataframe tbody tr th {\n",
       "        vertical-align: top;\n",
       "    }\n",
       "\n",
       "    .dataframe thead th {\n",
       "        text-align: right;\n",
       "    }\n",
       "</style>\n",
       "<table border=\"1\" class=\"dataframe\">\n",
       "  <thead>\n",
       "    <tr style=\"text-align: right;\">\n",
       "      <th></th>\n",
       "      <th>transaction_id</th>\n",
       "      <th>price</th>\n",
       "      <th>payment_date</th>\n",
       "      <th>customer_id</th>\n",
       "    </tr>\n",
       "  </thead>\n",
       "  <tbody>\n",
       "    <tr>\n",
       "      <th>0</th>\n",
       "      <td>T0000000113</td>\n",
       "      <td>210000</td>\n",
       "      <td>2019-02-01 01:36:57</td>\n",
       "      <td>PL563502</td>\n",
       "    </tr>\n",
       "    <tr>\n",
       "      <th>1</th>\n",
       "      <td>T0000000114</td>\n",
       "      <td>50000</td>\n",
       "      <td>2019-02-01 01:37:23</td>\n",
       "      <td>HD678019</td>\n",
       "    </tr>\n",
       "    <tr>\n",
       "      <th>2</th>\n",
       "      <td>T0000000115</td>\n",
       "      <td>120000</td>\n",
       "      <td>2019-02-01 02:34:19</td>\n",
       "      <td>HD298120</td>\n",
       "    </tr>\n",
       "    <tr>\n",
       "      <th>3</th>\n",
       "      <td>T0000000116</td>\n",
       "      <td>210000</td>\n",
       "      <td>2019-02-01 02:47:23</td>\n",
       "      <td>IK452215</td>\n",
       "    </tr>\n",
       "    <tr>\n",
       "      <th>4</th>\n",
       "      <td>T0000000117</td>\n",
       "      <td>170000</td>\n",
       "      <td>2019-02-01 04:33:46</td>\n",
       "      <td>PL542865</td>\n",
       "    </tr>\n",
       "  </tbody>\n",
       "</table>\n",
       "</div>"
      ],
      "text/plain": [
       "  transaction_id   price         payment_date customer_id\n",
       "0    T0000000113  210000  2019-02-01 01:36:57    PL563502\n",
       "1    T0000000114   50000  2019-02-01 01:37:23    HD678019\n",
       "2    T0000000115  120000  2019-02-01 02:34:19    HD298120\n",
       "3    T0000000116  210000  2019-02-01 02:47:23    IK452215\n",
       "4    T0000000117  170000  2019-02-01 04:33:46    PL542865"
      ]
     },
     "execution_count": 5,
     "metadata": {},
     "output_type": "execute_result"
    }
   ],
   "source": [
    "transaction_1 = pd.read_csv('Data/transaction_1.csv')\n",
    "transaction_1.head()"
   ]
  },
  {
   "cell_type": "code",
   "execution_count": 6,
   "id": "3d37becf-a634-491b-90bd-154c052e85e1",
   "metadata": {
    "tags": []
   },
   "outputs": [
    {
     "data": {
      "text/html": [
       "<div>\n",
       "<style scoped>\n",
       "    .dataframe tbody tr th:only-of-type {\n",
       "        vertical-align: middle;\n",
       "    }\n",
       "\n",
       "    .dataframe tbody tr th {\n",
       "        vertical-align: top;\n",
       "    }\n",
       "\n",
       "    .dataframe thead th {\n",
       "        text-align: right;\n",
       "    }\n",
       "</style>\n",
       "<table border=\"1\" class=\"dataframe\">\n",
       "  <thead>\n",
       "    <tr style=\"text-align: right;\">\n",
       "      <th></th>\n",
       "      <th>transaction_id</th>\n",
       "      <th>price</th>\n",
       "      <th>payment_date</th>\n",
       "      <th>customer_id</th>\n",
       "    </tr>\n",
       "  </thead>\n",
       "  <tbody>\n",
       "    <tr>\n",
       "      <th>0</th>\n",
       "      <td>T0000005113</td>\n",
       "      <td>295000</td>\n",
       "      <td>2019-06-15 07:20:27</td>\n",
       "      <td>TS169261</td>\n",
       "    </tr>\n",
       "    <tr>\n",
       "      <th>1</th>\n",
       "      <td>T0000005114</td>\n",
       "      <td>50000</td>\n",
       "      <td>2019-06-15 07:35:47</td>\n",
       "      <td>HI599892</td>\n",
       "    </tr>\n",
       "    <tr>\n",
       "      <th>2</th>\n",
       "      <td>T0000005115</td>\n",
       "      <td>85000</td>\n",
       "      <td>2019-06-15 07:56:36</td>\n",
       "      <td>HI421757</td>\n",
       "    </tr>\n",
       "    <tr>\n",
       "      <th>3</th>\n",
       "      <td>T0000005116</td>\n",
       "      <td>50000</td>\n",
       "      <td>2019-06-15 08:40:55</td>\n",
       "      <td>OA386378</td>\n",
       "    </tr>\n",
       "    <tr>\n",
       "      <th>4</th>\n",
       "      <td>T0000005117</td>\n",
       "      <td>120000</td>\n",
       "      <td>2019-06-15 08:44:23</td>\n",
       "      <td>TS506913</td>\n",
       "    </tr>\n",
       "  </tbody>\n",
       "</table>\n",
       "</div>"
      ],
      "text/plain": [
       "  transaction_id   price         payment_date customer_id\n",
       "0    T0000005113  295000  2019-06-15 07:20:27    TS169261\n",
       "1    T0000005114   50000  2019-06-15 07:35:47    HI599892\n",
       "2    T0000005115   85000  2019-06-15 07:56:36    HI421757\n",
       "3    T0000005116   50000  2019-06-15 08:40:55    OA386378\n",
       "4    T0000005117  120000  2019-06-15 08:44:23    TS506913"
      ]
     },
     "execution_count": 6,
     "metadata": {},
     "output_type": "execute_result"
    }
   ],
   "source": [
    "transaction_2 = pd.read_csv('Data/transaction_2.csv')\n",
    "transaction_2.head()"
   ]
  },
  {
   "cell_type": "code",
   "execution_count": 7,
   "id": "a7ccfaf3-9128-4b8c-8692-075a618bf816",
   "metadata": {
    "tags": []
   },
   "outputs": [
    {
     "data": {
      "text/html": [
       "<div>\n",
       "<style scoped>\n",
       "    .dataframe tbody tr th:only-of-type {\n",
       "        vertical-align: middle;\n",
       "    }\n",
       "\n",
       "    .dataframe tbody tr th {\n",
       "        vertical-align: top;\n",
       "    }\n",
       "\n",
       "    .dataframe thead th {\n",
       "        text-align: right;\n",
       "    }\n",
       "</style>\n",
       "<table border=\"1\" class=\"dataframe\">\n",
       "  <thead>\n",
       "    <tr style=\"text-align: right;\">\n",
       "      <th></th>\n",
       "      <th>detail_id</th>\n",
       "      <th>transaction_id</th>\n",
       "      <th>item_id</th>\n",
       "      <th>quantity</th>\n",
       "    </tr>\n",
       "  </thead>\n",
       "  <tbody>\n",
       "    <tr>\n",
       "      <th>0</th>\n",
       "      <td>0</td>\n",
       "      <td>T0000000113</td>\n",
       "      <td>S005</td>\n",
       "      <td>1</td>\n",
       "    </tr>\n",
       "    <tr>\n",
       "      <th>1</th>\n",
       "      <td>1</td>\n",
       "      <td>T0000000114</td>\n",
       "      <td>S001</td>\n",
       "      <td>1</td>\n",
       "    </tr>\n",
       "    <tr>\n",
       "      <th>2</th>\n",
       "      <td>2</td>\n",
       "      <td>T0000000115</td>\n",
       "      <td>S003</td>\n",
       "      <td>1</td>\n",
       "    </tr>\n",
       "    <tr>\n",
       "      <th>3</th>\n",
       "      <td>3</td>\n",
       "      <td>T0000000116</td>\n",
       "      <td>S005</td>\n",
       "      <td>1</td>\n",
       "    </tr>\n",
       "    <tr>\n",
       "      <th>4</th>\n",
       "      <td>4</td>\n",
       "      <td>T0000000117</td>\n",
       "      <td>S002</td>\n",
       "      <td>2</td>\n",
       "    </tr>\n",
       "  </tbody>\n",
       "</table>\n",
       "</div>"
      ],
      "text/plain": [
       "   detail_id transaction_id item_id  quantity\n",
       "0          0    T0000000113    S005         1\n",
       "1          1    T0000000114    S001         1\n",
       "2          2    T0000000115    S003         1\n",
       "3          3    T0000000116    S005         1\n",
       "4          4    T0000000117    S002         2"
      ]
     },
     "execution_count": 7,
     "metadata": {},
     "output_type": "execute_result"
    }
   ],
   "source": [
    "transaction_detail_1 = pd.read_csv('Data/transaction_detail_1.csv')\n",
    "transaction_detail_1.head()"
   ]
  },
  {
   "cell_type": "code",
   "execution_count": 8,
   "id": "e75fdb65-2e24-4ef3-aa67-697e45a96cb7",
   "metadata": {
    "tags": []
   },
   "outputs": [
    {
     "data": {
      "text/html": [
       "<div>\n",
       "<style scoped>\n",
       "    .dataframe tbody tr th:only-of-type {\n",
       "        vertical-align: middle;\n",
       "    }\n",
       "\n",
       "    .dataframe tbody tr th {\n",
       "        vertical-align: top;\n",
       "    }\n",
       "\n",
       "    .dataframe thead th {\n",
       "        text-align: right;\n",
       "    }\n",
       "</style>\n",
       "<table border=\"1\" class=\"dataframe\">\n",
       "  <thead>\n",
       "    <tr style=\"text-align: right;\">\n",
       "      <th></th>\n",
       "      <th>detail_id</th>\n",
       "      <th>transaction_id</th>\n",
       "      <th>item_id</th>\n",
       "      <th>quantity</th>\n",
       "    </tr>\n",
       "  </thead>\n",
       "  <tbody>\n",
       "    <tr>\n",
       "      <th>0</th>\n",
       "      <td>5000</td>\n",
       "      <td>T0000004870</td>\n",
       "      <td>S002</td>\n",
       "      <td>3</td>\n",
       "    </tr>\n",
       "    <tr>\n",
       "      <th>1</th>\n",
       "      <td>5001</td>\n",
       "      <td>T0000004871</td>\n",
       "      <td>S003</td>\n",
       "      <td>1</td>\n",
       "    </tr>\n",
       "    <tr>\n",
       "      <th>2</th>\n",
       "      <td>5002</td>\n",
       "      <td>T0000004872</td>\n",
       "      <td>S001</td>\n",
       "      <td>2</td>\n",
       "    </tr>\n",
       "    <tr>\n",
       "      <th>3</th>\n",
       "      <td>5003</td>\n",
       "      <td>T0000004873</td>\n",
       "      <td>S004</td>\n",
       "      <td>1</td>\n",
       "    </tr>\n",
       "    <tr>\n",
       "      <th>4</th>\n",
       "      <td>5004</td>\n",
       "      <td>T0000004874</td>\n",
       "      <td>S003</td>\n",
       "      <td>2</td>\n",
       "    </tr>\n",
       "  </tbody>\n",
       "</table>\n",
       "</div>"
      ],
      "text/plain": [
       "   detail_id transaction_id item_id  quantity\n",
       "0       5000    T0000004870    S002         3\n",
       "1       5001    T0000004871    S003         1\n",
       "2       5002    T0000004872    S001         2\n",
       "3       5003    T0000004873    S004         1\n",
       "4       5004    T0000004874    S003         2"
      ]
     },
     "execution_count": 8,
     "metadata": {},
     "output_type": "execute_result"
    }
   ],
   "source": [
    "transaction_detail_2 = pd.read_csv('Data/transaction_detail_2.csv')\n",
    "transaction_detail_2.head()"
   ]
  },
  {
   "cell_type": "code",
   "execution_count": 9,
   "id": "878cfb9a-3d88-4225-b0b9-664a58581b6e",
   "metadata": {
    "tags": []
   },
   "outputs": [
    {
     "data": {
      "text/html": [
       "<div>\n",
       "<style scoped>\n",
       "    .dataframe tbody tr th:only-of-type {\n",
       "        vertical-align: middle;\n",
       "    }\n",
       "\n",
       "    .dataframe tbody tr th {\n",
       "        vertical-align: top;\n",
       "    }\n",
       "\n",
       "    .dataframe thead th {\n",
       "        text-align: right;\n",
       "    }\n",
       "</style>\n",
       "<table border=\"1\" class=\"dataframe\">\n",
       "  <thead>\n",
       "    <tr style=\"text-align: right;\">\n",
       "      <th></th>\n",
       "      <th>transaction_id</th>\n",
       "      <th>price</th>\n",
       "      <th>payment_date</th>\n",
       "      <th>customer_id</th>\n",
       "    </tr>\n",
       "  </thead>\n",
       "  <tbody>\n",
       "    <tr>\n",
       "      <th>0</th>\n",
       "      <td>T0000000113</td>\n",
       "      <td>210000</td>\n",
       "      <td>2019-02-01 01:36:57</td>\n",
       "      <td>PL563502</td>\n",
       "    </tr>\n",
       "    <tr>\n",
       "      <th>1</th>\n",
       "      <td>T0000000114</td>\n",
       "      <td>50000</td>\n",
       "      <td>2019-02-01 01:37:23</td>\n",
       "      <td>HD678019</td>\n",
       "    </tr>\n",
       "    <tr>\n",
       "      <th>2</th>\n",
       "      <td>T0000000115</td>\n",
       "      <td>120000</td>\n",
       "      <td>2019-02-01 02:34:19</td>\n",
       "      <td>HD298120</td>\n",
       "    </tr>\n",
       "    <tr>\n",
       "      <th>3</th>\n",
       "      <td>T0000000116</td>\n",
       "      <td>210000</td>\n",
       "      <td>2019-02-01 02:47:23</td>\n",
       "      <td>IK452215</td>\n",
       "    </tr>\n",
       "    <tr>\n",
       "      <th>4</th>\n",
       "      <td>T0000000117</td>\n",
       "      <td>170000</td>\n",
       "      <td>2019-02-01 04:33:46</td>\n",
       "      <td>PL542865</td>\n",
       "    </tr>\n",
       "    <tr>\n",
       "      <th>...</th>\n",
       "      <td>...</td>\n",
       "      <td>...</td>\n",
       "      <td>...</td>\n",
       "      <td>...</td>\n",
       "    </tr>\n",
       "    <tr>\n",
       "      <th>1781</th>\n",
       "      <td>T0000006894</td>\n",
       "      <td>180000</td>\n",
       "      <td>2019-07-31 21:20:44</td>\n",
       "      <td>HI400734</td>\n",
       "    </tr>\n",
       "    <tr>\n",
       "      <th>1782</th>\n",
       "      <td>T0000006895</td>\n",
       "      <td>85000</td>\n",
       "      <td>2019-07-31 21:52:48</td>\n",
       "      <td>AS339451</td>\n",
       "    </tr>\n",
       "    <tr>\n",
       "      <th>1783</th>\n",
       "      <td>T0000006896</td>\n",
       "      <td>100000</td>\n",
       "      <td>2019-07-31 23:35:25</td>\n",
       "      <td>OA027325</td>\n",
       "    </tr>\n",
       "    <tr>\n",
       "      <th>1784</th>\n",
       "      <td>T0000006897</td>\n",
       "      <td>85000</td>\n",
       "      <td>2019-07-31 23:39:35</td>\n",
       "      <td>TS624738</td>\n",
       "    </tr>\n",
       "    <tr>\n",
       "      <th>1785</th>\n",
       "      <td>T0000006898</td>\n",
       "      <td>85000</td>\n",
       "      <td>2019-07-31 23:41:38</td>\n",
       "      <td>AS834214</td>\n",
       "    </tr>\n",
       "  </tbody>\n",
       "</table>\n",
       "<p>6786 rows × 4 columns</p>\n",
       "</div>"
      ],
      "text/plain": [
       "     transaction_id   price         payment_date customer_id\n",
       "0       T0000000113  210000  2019-02-01 01:36:57    PL563502\n",
       "1       T0000000114   50000  2019-02-01 01:37:23    HD678019\n",
       "2       T0000000115  120000  2019-02-01 02:34:19    HD298120\n",
       "3       T0000000116  210000  2019-02-01 02:47:23    IK452215\n",
       "4       T0000000117  170000  2019-02-01 04:33:46    PL542865\n",
       "...             ...     ...                  ...         ...\n",
       "1781    T0000006894  180000  2019-07-31 21:20:44    HI400734\n",
       "1782    T0000006895   85000  2019-07-31 21:52:48    AS339451\n",
       "1783    T0000006896  100000  2019-07-31 23:35:25    OA027325\n",
       "1784    T0000006897   85000  2019-07-31 23:39:35    TS624738\n",
       "1785    T0000006898   85000  2019-07-31 23:41:38    AS834214\n",
       "\n",
       "[6786 rows x 4 columns]"
      ]
     },
     "execution_count": 9,
     "metadata": {},
     "output_type": "execute_result"
    }
   ],
   "source": [
    "transaction = pd.concat ([transaction_1, transaction_2])\n",
    "transaction"
   ]
  },
  {
   "cell_type": "code",
   "execution_count": 10,
   "id": "e3eb3604-e72a-48b7-980d-650d39424641",
   "metadata": {
    "tags": []
   },
   "outputs": [
    {
     "data": {
      "text/html": [
       "<div>\n",
       "<style scoped>\n",
       "    .dataframe tbody tr th:only-of-type {\n",
       "        vertical-align: middle;\n",
       "    }\n",
       "\n",
       "    .dataframe tbody tr th {\n",
       "        vertical-align: top;\n",
       "    }\n",
       "\n",
       "    .dataframe thead th {\n",
       "        text-align: right;\n",
       "    }\n",
       "</style>\n",
       "<table border=\"1\" class=\"dataframe\">\n",
       "  <thead>\n",
       "    <tr style=\"text-align: right;\">\n",
       "      <th></th>\n",
       "      <th>detail_id</th>\n",
       "      <th>transaction_id</th>\n",
       "      <th>item_id</th>\n",
       "      <th>quantity</th>\n",
       "    </tr>\n",
       "  </thead>\n",
       "  <tbody>\n",
       "    <tr>\n",
       "      <th>0</th>\n",
       "      <td>0</td>\n",
       "      <td>T0000000113</td>\n",
       "      <td>S005</td>\n",
       "      <td>1</td>\n",
       "    </tr>\n",
       "    <tr>\n",
       "      <th>1</th>\n",
       "      <td>1</td>\n",
       "      <td>T0000000114</td>\n",
       "      <td>S001</td>\n",
       "      <td>1</td>\n",
       "    </tr>\n",
       "    <tr>\n",
       "      <th>2</th>\n",
       "      <td>2</td>\n",
       "      <td>T0000000115</td>\n",
       "      <td>S003</td>\n",
       "      <td>1</td>\n",
       "    </tr>\n",
       "    <tr>\n",
       "      <th>3</th>\n",
       "      <td>3</td>\n",
       "      <td>T0000000116</td>\n",
       "      <td>S005</td>\n",
       "      <td>1</td>\n",
       "    </tr>\n",
       "    <tr>\n",
       "      <th>4</th>\n",
       "      <td>4</td>\n",
       "      <td>T0000000117</td>\n",
       "      <td>S002</td>\n",
       "      <td>2</td>\n",
       "    </tr>\n",
       "  </tbody>\n",
       "</table>\n",
       "</div>"
      ],
      "text/plain": [
       "   detail_id transaction_id item_id  quantity\n",
       "0          0    T0000000113    S005         1\n",
       "1          1    T0000000114    S001         1\n",
       "2          2    T0000000115    S003         1\n",
       "3          3    T0000000116    S005         1\n",
       "4          4    T0000000117    S002         2"
      ]
     },
     "execution_count": 10,
     "metadata": {},
     "output_type": "execute_result"
    }
   ],
   "source": [
    "transaction_detail = pd.concat ([transaction_detail_1, transaction_detail_2])\n",
    "transaction_detail.head()"
   ]
  },
  {
   "cell_type": "code",
   "execution_count": 11,
   "id": "5e4bfd49-2e9a-4448-9cd9-f3718e3ec970",
   "metadata": {
    "tags": []
   },
   "outputs": [],
   "source": [
    "transaction.to_csv('Data/transaction.csv')\n",
    "transaction_detail.to_csv('Data/transaction_detail.csv')"
   ]
  },
  {
   "cell_type": "code",
   "execution_count": 12,
   "id": "a9464ee1-599f-42b4-915d-44fdc8c4c124",
   "metadata": {
    "tags": []
   },
   "outputs": [
    {
     "name": "stdout",
     "output_type": "stream",
     "text": [
      "5000\n",
      "1786\n",
      "6786\n"
     ]
    }
   ],
   "source": [
    "print(len(transaction_1))\n",
    "print(len(transaction_2))\n",
    "print(len(transaction))"
   ]
  },
  {
   "cell_type": "code",
   "execution_count": 13,
   "id": "0c5e1c64-af33-4de2-8985-25a6b3b883d1",
   "metadata": {
    "tags": []
   },
   "outputs": [
    {
     "name": "stdout",
     "output_type": "stream",
     "text": [
      "5000\n",
      "2144\n",
      "7144\n"
     ]
    }
   ],
   "source": [
    "print(len(transaction_detail_1))\n",
    "print(len(transaction_detail_2))\n",
    "print(len(transaction_detail))"
   ]
  },
  {
   "cell_type": "code",
   "execution_count": 14,
   "id": "9dacd272-87d0-45b5-be08-1206a62270fa",
   "metadata": {
    "tags": []
   },
   "outputs": [
    {
     "data": {
      "text/html": [
       "<div>\n",
       "<style scoped>\n",
       "    .dataframe tbody tr th:only-of-type {\n",
       "        vertical-align: middle;\n",
       "    }\n",
       "\n",
       "    .dataframe tbody tr th {\n",
       "        vertical-align: top;\n",
       "    }\n",
       "\n",
       "    .dataframe thead th {\n",
       "        text-align: right;\n",
       "    }\n",
       "</style>\n",
       "<table border=\"1\" class=\"dataframe\">\n",
       "  <thead>\n",
       "    <tr style=\"text-align: right;\">\n",
       "      <th></th>\n",
       "      <th>detail_id</th>\n",
       "      <th>transaction_id</th>\n",
       "      <th>item_id</th>\n",
       "      <th>quantity</th>\n",
       "      <th>payment_date</th>\n",
       "      <th>customer_id</th>\n",
       "    </tr>\n",
       "  </thead>\n",
       "  <tbody>\n",
       "    <tr>\n",
       "      <th>0</th>\n",
       "      <td>0</td>\n",
       "      <td>T0000000113</td>\n",
       "      <td>S005</td>\n",
       "      <td>1</td>\n",
       "      <td>2019-02-01 01:36:57</td>\n",
       "      <td>PL563502</td>\n",
       "    </tr>\n",
       "    <tr>\n",
       "      <th>1</th>\n",
       "      <td>1</td>\n",
       "      <td>T0000000114</td>\n",
       "      <td>S001</td>\n",
       "      <td>1</td>\n",
       "      <td>2019-02-01 01:37:23</td>\n",
       "      <td>HD678019</td>\n",
       "    </tr>\n",
       "    <tr>\n",
       "      <th>2</th>\n",
       "      <td>2</td>\n",
       "      <td>T0000000115</td>\n",
       "      <td>S003</td>\n",
       "      <td>1</td>\n",
       "      <td>2019-02-01 02:34:19</td>\n",
       "      <td>HD298120</td>\n",
       "    </tr>\n",
       "    <tr>\n",
       "      <th>3</th>\n",
       "      <td>3</td>\n",
       "      <td>T0000000116</td>\n",
       "      <td>S005</td>\n",
       "      <td>1</td>\n",
       "      <td>2019-02-01 02:47:23</td>\n",
       "      <td>IK452215</td>\n",
       "    </tr>\n",
       "    <tr>\n",
       "      <th>4</th>\n",
       "      <td>4</td>\n",
       "      <td>T0000000117</td>\n",
       "      <td>S002</td>\n",
       "      <td>2</td>\n",
       "      <td>2019-02-01 04:33:46</td>\n",
       "      <td>PL542865</td>\n",
       "    </tr>\n",
       "  </tbody>\n",
       "</table>\n",
       "</div>"
      ],
      "text/plain": [
       "   detail_id transaction_id item_id  quantity         payment_date customer_id\n",
       "0          0    T0000000113    S005         1  2019-02-01 01:36:57    PL563502\n",
       "1          1    T0000000114    S001         1  2019-02-01 01:37:23    HD678019\n",
       "2          2    T0000000115    S003         1  2019-02-01 02:34:19    HD298120\n",
       "3          3    T0000000116    S005         1  2019-02-01 02:47:23    IK452215\n",
       "4          4    T0000000117    S002         2  2019-02-01 04:33:46    PL542865"
      ]
     },
     "execution_count": 14,
     "metadata": {},
     "output_type": "execute_result"
    }
   ],
   "source": [
    "## 매출 데이터 Merge\n",
    "\n",
    "join_data = pd.merge(transaction_detail, transaction[['transaction_id', 'payment_date', 'customer_id']], on = 'transaction_id', how = 'left')\n",
    "join_data.head()"
   ]
  },
  {
   "cell_type": "code",
   "execution_count": 15,
   "id": "73e222c5-1c04-40cd-9eba-656e8e56b1d6",
   "metadata": {
    "tags": []
   },
   "outputs": [
    {
     "name": "stdout",
     "output_type": "stream",
     "text": [
      "6786\n",
      "7144\n",
      "7144\n"
     ]
    }
   ],
   "source": [
    "print(len(transaction))\n",
    "print(len(transaction_detail)) # how = left 에 의해서 detail기준\n",
    "print(len(join_data))"
   ]
  },
  {
   "cell_type": "code",
   "execution_count": 16,
   "id": "2742677a-4955-4ace-afe6-40edc4ac5a6d",
   "metadata": {},
   "outputs": [
    {
     "data": {
      "text/html": [
       "<div>\n",
       "<style scoped>\n",
       "    .dataframe tbody tr th:only-of-type {\n",
       "        vertical-align: middle;\n",
       "    }\n",
       "\n",
       "    .dataframe tbody tr th {\n",
       "        vertical-align: top;\n",
       "    }\n",
       "\n",
       "    .dataframe thead th {\n",
       "        text-align: right;\n",
       "    }\n",
       "</style>\n",
       "<table border=\"1\" class=\"dataframe\">\n",
       "  <thead>\n",
       "    <tr style=\"text-align: right;\">\n",
       "      <th></th>\n",
       "      <th>detail_id</th>\n",
       "      <th>transaction_id</th>\n",
       "      <th>item_id</th>\n",
       "      <th>quantity</th>\n",
       "      <th>payment_date</th>\n",
       "      <th>customer_id</th>\n",
       "      <th>customer_name</th>\n",
       "      <th>registration_date</th>\n",
       "      <th>email</th>\n",
       "      <th>gender</th>\n",
       "      <th>age</th>\n",
       "      <th>birth</th>\n",
       "      <th>pref</th>\n",
       "    </tr>\n",
       "  </thead>\n",
       "  <tbody>\n",
       "    <tr>\n",
       "      <th>0</th>\n",
       "      <td>0</td>\n",
       "      <td>T0000000113</td>\n",
       "      <td>S005</td>\n",
       "      <td>1</td>\n",
       "      <td>2019-02-01 01:36:57</td>\n",
       "      <td>PL563502</td>\n",
       "      <td>김태경</td>\n",
       "      <td>2019-01-07 14:34</td>\n",
       "      <td>imoto_yoshimasa@example.com</td>\n",
       "      <td>M</td>\n",
       "      <td>30</td>\n",
       "      <td>1989-07-15</td>\n",
       "      <td>대전광역시</td>\n",
       "    </tr>\n",
       "    <tr>\n",
       "      <th>1</th>\n",
       "      <td>1</td>\n",
       "      <td>T0000000114</td>\n",
       "      <td>S001</td>\n",
       "      <td>1</td>\n",
       "      <td>2019-02-01 01:37:23</td>\n",
       "      <td>HD678019</td>\n",
       "      <td>김영웅</td>\n",
       "      <td>2019-01-27 18:00</td>\n",
       "      <td>mifune_rokurou@example.com</td>\n",
       "      <td>M</td>\n",
       "      <td>73</td>\n",
       "      <td>1945-11-29</td>\n",
       "      <td>서울특별시</td>\n",
       "    </tr>\n",
       "    <tr>\n",
       "      <th>2</th>\n",
       "      <td>2</td>\n",
       "      <td>T0000000115</td>\n",
       "      <td>S003</td>\n",
       "      <td>1</td>\n",
       "      <td>2019-02-01 02:34:19</td>\n",
       "      <td>HD298120</td>\n",
       "      <td>김강현</td>\n",
       "      <td>2019-01-11 8:16</td>\n",
       "      <td>yamane_kogan@example.com</td>\n",
       "      <td>M</td>\n",
       "      <td>42</td>\n",
       "      <td>1977-05-17</td>\n",
       "      <td>광주광역시</td>\n",
       "    </tr>\n",
       "    <tr>\n",
       "      <th>3</th>\n",
       "      <td>3</td>\n",
       "      <td>T0000000116</td>\n",
       "      <td>S005</td>\n",
       "      <td>1</td>\n",
       "      <td>2019-02-01 02:47:23</td>\n",
       "      <td>IK452215</td>\n",
       "      <td>김주한</td>\n",
       "      <td>2019-01-10 5:07</td>\n",
       "      <td>ikeda_natsumi@example.com</td>\n",
       "      <td>F</td>\n",
       "      <td>47</td>\n",
       "      <td>1972-03-17</td>\n",
       "      <td>인천광역시</td>\n",
       "    </tr>\n",
       "    <tr>\n",
       "      <th>4</th>\n",
       "      <td>4</td>\n",
       "      <td>T0000000117</td>\n",
       "      <td>S002</td>\n",
       "      <td>2</td>\n",
       "      <td>2019-02-01 04:33:46</td>\n",
       "      <td>PL542865</td>\n",
       "      <td>김영빈</td>\n",
       "      <td>2019-01-25 6:46</td>\n",
       "      <td>kurita_kenichi@example.com</td>\n",
       "      <td>M</td>\n",
       "      <td>74</td>\n",
       "      <td>1944-12-17</td>\n",
       "      <td>광주광역시</td>\n",
       "    </tr>\n",
       "  </tbody>\n",
       "</table>\n",
       "</div>"
      ],
      "text/plain": [
       "   detail_id transaction_id item_id  quantity         payment_date  \\\n",
       "0          0    T0000000113    S005         1  2019-02-01 01:36:57   \n",
       "1          1    T0000000114    S001         1  2019-02-01 01:37:23   \n",
       "2          2    T0000000115    S003         1  2019-02-01 02:34:19   \n",
       "3          3    T0000000116    S005         1  2019-02-01 02:47:23   \n",
       "4          4    T0000000117    S002         2  2019-02-01 04:33:46   \n",
       "\n",
       "  customer_id customer_name registration_date                        email  \\\n",
       "0    PL563502           김태경  2019-01-07 14:34  imoto_yoshimasa@example.com   \n",
       "1    HD678019           김영웅  2019-01-27 18:00   mifune_rokurou@example.com   \n",
       "2    HD298120           김강현   2019-01-11 8:16     yamane_kogan@example.com   \n",
       "3    IK452215           김주한   2019-01-10 5:07    ikeda_natsumi@example.com   \n",
       "4    PL542865           김영빈   2019-01-25 6:46   kurita_kenichi@example.com   \n",
       "\n",
       "  gender  age       birth   pref  \n",
       "0      M   30  1989-07-15  대전광역시  \n",
       "1      M   73  1945-11-29  서울특별시  \n",
       "2      M   42  1977-05-17  광주광역시  \n",
       "3      F   47  1972-03-17  인천광역시  \n",
       "4      M   74  1944-12-17  광주광역시  "
      ]
     },
     "execution_count": 16,
     "metadata": {},
     "output_type": "execute_result"
    }
   ],
   "source": [
    "join_data_customer = pd.merge(join_data, customer_master, on = 'customer_id', how = 'left')\n",
    "join_data_customer.head()"
   ]
  },
  {
   "cell_type": "code",
   "execution_count": 17,
   "id": "9b60a994-eacb-4e94-8bd2-81d8736905d7",
   "metadata": {},
   "outputs": [],
   "source": [
    "join_data_customer.to_csv('Data/join_customer.csv', encoding = 'utf-8-sig')"
   ]
  },
  {
   "cell_type": "code",
   "execution_count": 18,
   "id": "b29e0f50-a817-4c61-8c03-5bd232cb2a18",
   "metadata": {},
   "outputs": [
    {
     "data": {
      "text/html": [
       "<div>\n",
       "<style scoped>\n",
       "    .dataframe tbody tr th:only-of-type {\n",
       "        vertical-align: middle;\n",
       "    }\n",
       "\n",
       "    .dataframe tbody tr th {\n",
       "        vertical-align: top;\n",
       "    }\n",
       "\n",
       "    .dataframe thead th {\n",
       "        text-align: right;\n",
       "    }\n",
       "</style>\n",
       "<table border=\"1\" class=\"dataframe\">\n",
       "  <thead>\n",
       "    <tr style=\"text-align: right;\">\n",
       "      <th></th>\n",
       "      <th>detail_id</th>\n",
       "      <th>transaction_id</th>\n",
       "      <th>item_id</th>\n",
       "      <th>quantity</th>\n",
       "      <th>payment_date</th>\n",
       "      <th>customer_id</th>\n",
       "      <th>item_name</th>\n",
       "      <th>item_price</th>\n",
       "    </tr>\n",
       "  </thead>\n",
       "  <tbody>\n",
       "    <tr>\n",
       "      <th>0</th>\n",
       "      <td>0</td>\n",
       "      <td>T0000000113</td>\n",
       "      <td>S005</td>\n",
       "      <td>1</td>\n",
       "      <td>2019-02-01 01:36:57</td>\n",
       "      <td>PL563502</td>\n",
       "      <td>PC-E</td>\n",
       "      <td>210000</td>\n",
       "    </tr>\n",
       "    <tr>\n",
       "      <th>1</th>\n",
       "      <td>1</td>\n",
       "      <td>T0000000114</td>\n",
       "      <td>S001</td>\n",
       "      <td>1</td>\n",
       "      <td>2019-02-01 01:37:23</td>\n",
       "      <td>HD678019</td>\n",
       "      <td>PC-A</td>\n",
       "      <td>50000</td>\n",
       "    </tr>\n",
       "    <tr>\n",
       "      <th>2</th>\n",
       "      <td>2</td>\n",
       "      <td>T0000000115</td>\n",
       "      <td>S003</td>\n",
       "      <td>1</td>\n",
       "      <td>2019-02-01 02:34:19</td>\n",
       "      <td>HD298120</td>\n",
       "      <td>PC-C</td>\n",
       "      <td>120000</td>\n",
       "    </tr>\n",
       "    <tr>\n",
       "      <th>3</th>\n",
       "      <td>3</td>\n",
       "      <td>T0000000116</td>\n",
       "      <td>S005</td>\n",
       "      <td>1</td>\n",
       "      <td>2019-02-01 02:47:23</td>\n",
       "      <td>IK452215</td>\n",
       "      <td>PC-E</td>\n",
       "      <td>210000</td>\n",
       "    </tr>\n",
       "    <tr>\n",
       "      <th>4</th>\n",
       "      <td>4</td>\n",
       "      <td>T0000000117</td>\n",
       "      <td>S002</td>\n",
       "      <td>2</td>\n",
       "      <td>2019-02-01 04:33:46</td>\n",
       "      <td>PL542865</td>\n",
       "      <td>PC-B</td>\n",
       "      <td>85000</td>\n",
       "    </tr>\n",
       "  </tbody>\n",
       "</table>\n",
       "</div>"
      ],
      "text/plain": [
       "   detail_id transaction_id item_id  quantity         payment_date  \\\n",
       "0          0    T0000000113    S005         1  2019-02-01 01:36:57   \n",
       "1          1    T0000000114    S001         1  2019-02-01 01:37:23   \n",
       "2          2    T0000000115    S003         1  2019-02-01 02:34:19   \n",
       "3          3    T0000000116    S005         1  2019-02-01 02:47:23   \n",
       "4          4    T0000000117    S002         2  2019-02-01 04:33:46   \n",
       "\n",
       "  customer_id item_name  item_price  \n",
       "0    PL563502      PC-E      210000  \n",
       "1    HD678019      PC-A       50000  \n",
       "2    HD298120      PC-C      120000  \n",
       "3    IK452215      PC-E      210000  \n",
       "4    PL542865      PC-B       85000  "
      ]
     },
     "execution_count": 18,
     "metadata": {},
     "output_type": "execute_result"
    }
   ],
   "source": [
    "join_data_item = pd.merge(join_data, item_master, on = 'item_id', how = 'left')\n",
    "join_data_item.head()"
   ]
  },
  {
   "cell_type": "code",
   "execution_count": 19,
   "id": "94679cd0-e987-4d44-9555-4aaba26412f8",
   "metadata": {
    "tags": []
   },
   "outputs": [],
   "source": [
    "join_data_item.to_csv('Data/join_data_item.csv', encoding = 'utf-8-sig')"
   ]
  },
  {
   "cell_type": "code",
   "execution_count": 20,
   "id": "257f50e1-e489-4345-8761-52db60de6f4b",
   "metadata": {
    "tags": []
   },
   "outputs": [],
   "source": [
    "join_data_item['price'] = join_data_item['quantity']*join_data_item['item_price']"
   ]
  },
  {
   "cell_type": "code",
   "execution_count": 21,
   "id": "c3156dc0-edfd-404a-bd76-eedb7a5e165a",
   "metadata": {
    "tags": []
   },
   "outputs": [
    {
     "data": {
      "text/html": [
       "<div>\n",
       "<style scoped>\n",
       "    .dataframe tbody tr th:only-of-type {\n",
       "        vertical-align: middle;\n",
       "    }\n",
       "\n",
       "    .dataframe tbody tr th {\n",
       "        vertical-align: top;\n",
       "    }\n",
       "\n",
       "    .dataframe thead th {\n",
       "        text-align: right;\n",
       "    }\n",
       "</style>\n",
       "<table border=\"1\" class=\"dataframe\">\n",
       "  <thead>\n",
       "    <tr style=\"text-align: right;\">\n",
       "      <th></th>\n",
       "      <th>detail_id</th>\n",
       "      <th>transaction_id</th>\n",
       "      <th>item_id</th>\n",
       "      <th>quantity</th>\n",
       "      <th>payment_date</th>\n",
       "      <th>customer_id</th>\n",
       "      <th>item_name</th>\n",
       "      <th>item_price</th>\n",
       "      <th>price</th>\n",
       "    </tr>\n",
       "  </thead>\n",
       "  <tbody>\n",
       "    <tr>\n",
       "      <th>0</th>\n",
       "      <td>0</td>\n",
       "      <td>T0000000113</td>\n",
       "      <td>S005</td>\n",
       "      <td>1</td>\n",
       "      <td>2019-02-01 01:36:57</td>\n",
       "      <td>PL563502</td>\n",
       "      <td>PC-E</td>\n",
       "      <td>210000</td>\n",
       "      <td>210000</td>\n",
       "    </tr>\n",
       "    <tr>\n",
       "      <th>1</th>\n",
       "      <td>1</td>\n",
       "      <td>T0000000114</td>\n",
       "      <td>S001</td>\n",
       "      <td>1</td>\n",
       "      <td>2019-02-01 01:37:23</td>\n",
       "      <td>HD678019</td>\n",
       "      <td>PC-A</td>\n",
       "      <td>50000</td>\n",
       "      <td>50000</td>\n",
       "    </tr>\n",
       "    <tr>\n",
       "      <th>2</th>\n",
       "      <td>2</td>\n",
       "      <td>T0000000115</td>\n",
       "      <td>S003</td>\n",
       "      <td>1</td>\n",
       "      <td>2019-02-01 02:34:19</td>\n",
       "      <td>HD298120</td>\n",
       "      <td>PC-C</td>\n",
       "      <td>120000</td>\n",
       "      <td>120000</td>\n",
       "    </tr>\n",
       "    <tr>\n",
       "      <th>3</th>\n",
       "      <td>3</td>\n",
       "      <td>T0000000116</td>\n",
       "      <td>S005</td>\n",
       "      <td>1</td>\n",
       "      <td>2019-02-01 02:47:23</td>\n",
       "      <td>IK452215</td>\n",
       "      <td>PC-E</td>\n",
       "      <td>210000</td>\n",
       "      <td>210000</td>\n",
       "    </tr>\n",
       "    <tr>\n",
       "      <th>4</th>\n",
       "      <td>4</td>\n",
       "      <td>T0000000117</td>\n",
       "      <td>S002</td>\n",
       "      <td>2</td>\n",
       "      <td>2019-02-01 04:33:46</td>\n",
       "      <td>PL542865</td>\n",
       "      <td>PC-B</td>\n",
       "      <td>85000</td>\n",
       "      <td>170000</td>\n",
       "    </tr>\n",
       "    <tr>\n",
       "      <th>...</th>\n",
       "      <td>...</td>\n",
       "      <td>...</td>\n",
       "      <td>...</td>\n",
       "      <td>...</td>\n",
       "      <td>...</td>\n",
       "      <td>...</td>\n",
       "      <td>...</td>\n",
       "      <td>...</td>\n",
       "      <td>...</td>\n",
       "    </tr>\n",
       "    <tr>\n",
       "      <th>7139</th>\n",
       "      <td>7139</td>\n",
       "      <td>T0000006894</td>\n",
       "      <td>S004</td>\n",
       "      <td>1</td>\n",
       "      <td>2019-07-31 21:20:44</td>\n",
       "      <td>HI400734</td>\n",
       "      <td>PC-D</td>\n",
       "      <td>180000</td>\n",
       "      <td>180000</td>\n",
       "    </tr>\n",
       "    <tr>\n",
       "      <th>7140</th>\n",
       "      <td>7140</td>\n",
       "      <td>T0000006895</td>\n",
       "      <td>S002</td>\n",
       "      <td>1</td>\n",
       "      <td>2019-07-31 21:52:48</td>\n",
       "      <td>AS339451</td>\n",
       "      <td>PC-B</td>\n",
       "      <td>85000</td>\n",
       "      <td>85000</td>\n",
       "    </tr>\n",
       "    <tr>\n",
       "      <th>7141</th>\n",
       "      <td>7141</td>\n",
       "      <td>T0000006896</td>\n",
       "      <td>S001</td>\n",
       "      <td>2</td>\n",
       "      <td>2019-07-31 23:35:25</td>\n",
       "      <td>OA027325</td>\n",
       "      <td>PC-A</td>\n",
       "      <td>50000</td>\n",
       "      <td>100000</td>\n",
       "    </tr>\n",
       "    <tr>\n",
       "      <th>7142</th>\n",
       "      <td>7142</td>\n",
       "      <td>T0000006897</td>\n",
       "      <td>S002</td>\n",
       "      <td>1</td>\n",
       "      <td>2019-07-31 23:39:35</td>\n",
       "      <td>TS624738</td>\n",
       "      <td>PC-B</td>\n",
       "      <td>85000</td>\n",
       "      <td>85000</td>\n",
       "    </tr>\n",
       "    <tr>\n",
       "      <th>7143</th>\n",
       "      <td>7143</td>\n",
       "      <td>T0000006898</td>\n",
       "      <td>S002</td>\n",
       "      <td>1</td>\n",
       "      <td>2019-07-31 23:41:38</td>\n",
       "      <td>AS834214</td>\n",
       "      <td>PC-B</td>\n",
       "      <td>85000</td>\n",
       "      <td>85000</td>\n",
       "    </tr>\n",
       "  </tbody>\n",
       "</table>\n",
       "<p>7144 rows × 9 columns</p>\n",
       "</div>"
      ],
      "text/plain": [
       "      detail_id transaction_id item_id  quantity         payment_date  \\\n",
       "0             0    T0000000113    S005         1  2019-02-01 01:36:57   \n",
       "1             1    T0000000114    S001         1  2019-02-01 01:37:23   \n",
       "2             2    T0000000115    S003         1  2019-02-01 02:34:19   \n",
       "3             3    T0000000116    S005         1  2019-02-01 02:47:23   \n",
       "4             4    T0000000117    S002         2  2019-02-01 04:33:46   \n",
       "...         ...            ...     ...       ...                  ...   \n",
       "7139       7139    T0000006894    S004         1  2019-07-31 21:20:44   \n",
       "7140       7140    T0000006895    S002         1  2019-07-31 21:52:48   \n",
       "7141       7141    T0000006896    S001         2  2019-07-31 23:35:25   \n",
       "7142       7142    T0000006897    S002         1  2019-07-31 23:39:35   \n",
       "7143       7143    T0000006898    S002         1  2019-07-31 23:41:38   \n",
       "\n",
       "     customer_id item_name  item_price   price  \n",
       "0       PL563502      PC-E      210000  210000  \n",
       "1       HD678019      PC-A       50000   50000  \n",
       "2       HD298120      PC-C      120000  120000  \n",
       "3       IK452215      PC-E      210000  210000  \n",
       "4       PL542865      PC-B       85000  170000  \n",
       "...          ...       ...         ...     ...  \n",
       "7139    HI400734      PC-D      180000  180000  \n",
       "7140    AS339451      PC-B       85000   85000  \n",
       "7141    OA027325      PC-A       50000  100000  \n",
       "7142    TS624738      PC-B       85000   85000  \n",
       "7143    AS834214      PC-B       85000   85000  \n",
       "\n",
       "[7144 rows x 9 columns]"
      ]
     },
     "execution_count": 21,
     "metadata": {},
     "output_type": "execute_result"
    }
   ],
   "source": [
    "join_data_item"
   ]
  },
  {
   "cell_type": "code",
   "execution_count": 22,
   "id": "bab5e78c-bcfe-4975-a462-1e3526dae695",
   "metadata": {
    "tags": []
   },
   "outputs": [],
   "source": [
    "join_data_item.to_csv('Data/join_data_item.csv', encoding = 'utf-8-sig')"
   ]
  },
  {
   "cell_type": "code",
   "execution_count": 23,
   "id": "e1776f74-c02b-44d5-b043-6a9f9936a78d",
   "metadata": {
    "tags": []
   },
   "outputs": [
    {
     "data": {
      "text/plain": [
       "971135000"
      ]
     },
     "execution_count": 23,
     "metadata": {},
     "output_type": "execute_result"
    }
   ],
   "source": [
    "join_data_item['price'].sum()"
   ]
  },
  {
   "cell_type": "code",
   "execution_count": 24,
   "id": "b72a2784-b937-4f8d-8f4f-bbb2b5cf99ad",
   "metadata": {
    "tags": []
   },
   "outputs": [
    {
     "data": {
      "text/plain": [
       "971135000"
      ]
     },
     "execution_count": 24,
     "metadata": {},
     "output_type": "execute_result"
    }
   ],
   "source": [
    "join_data_item.sum()['price']"
   ]
  },
  {
   "cell_type": "code",
   "execution_count": 25,
   "id": "f820862e-99ac-4b1e-9b80-031f1027e721",
   "metadata": {
    "tags": []
   },
   "outputs": [
    {
     "data": {
      "text/plain": [
       "detail_id         0\n",
       "transaction_id    0\n",
       "item_id           0\n",
       "quantity          0\n",
       "payment_date      0\n",
       "customer_id       0\n",
       "item_name         0\n",
       "item_price        0\n",
       "price             0\n",
       "dtype: int64"
      ]
     },
     "execution_count": 25,
     "metadata": {},
     "output_type": "execute_result"
    }
   ],
   "source": [
    "join_data_item.isnull().sum()"
   ]
  },
  {
   "cell_type": "code",
   "execution_count": 26,
   "id": "8429387e-e094-4288-a9d3-0b20d4f185a2",
   "metadata": {
    "tags": []
   },
   "outputs": [
    {
     "data": {
      "text/html": [
       "<div>\n",
       "<style scoped>\n",
       "    .dataframe tbody tr th:only-of-type {\n",
       "        vertical-align: middle;\n",
       "    }\n",
       "\n",
       "    .dataframe tbody tr th {\n",
       "        vertical-align: top;\n",
       "    }\n",
       "\n",
       "    .dataframe thead th {\n",
       "        text-align: right;\n",
       "    }\n",
       "</style>\n",
       "<table border=\"1\" class=\"dataframe\">\n",
       "  <thead>\n",
       "    <tr style=\"text-align: right;\">\n",
       "      <th></th>\n",
       "      <th>detail_id</th>\n",
       "      <th>quantity</th>\n",
       "      <th>item_price</th>\n",
       "      <th>price</th>\n",
       "    </tr>\n",
       "  </thead>\n",
       "  <tbody>\n",
       "    <tr>\n",
       "      <th>count</th>\n",
       "      <td>7144.000000</td>\n",
       "      <td>7144.000000</td>\n",
       "      <td>7144.000000</td>\n",
       "      <td>7144.000000</td>\n",
       "    </tr>\n",
       "    <tr>\n",
       "      <th>mean</th>\n",
       "      <td>3571.500000</td>\n",
       "      <td>1.199888</td>\n",
       "      <td>121698.628219</td>\n",
       "      <td>135937.150056</td>\n",
       "    </tr>\n",
       "    <tr>\n",
       "      <th>std</th>\n",
       "      <td>2062.439494</td>\n",
       "      <td>0.513647</td>\n",
       "      <td>64571.311830</td>\n",
       "      <td>68511.453297</td>\n",
       "    </tr>\n",
       "    <tr>\n",
       "      <th>min</th>\n",
       "      <td>0.000000</td>\n",
       "      <td>1.000000</td>\n",
       "      <td>50000.000000</td>\n",
       "      <td>50000.000000</td>\n",
       "    </tr>\n",
       "    <tr>\n",
       "      <th>25%</th>\n",
       "      <td>1785.750000</td>\n",
       "      <td>1.000000</td>\n",
       "      <td>50000.000000</td>\n",
       "      <td>85000.000000</td>\n",
       "    </tr>\n",
       "    <tr>\n",
       "      <th>50%</th>\n",
       "      <td>3571.500000</td>\n",
       "      <td>1.000000</td>\n",
       "      <td>102500.000000</td>\n",
       "      <td>120000.000000</td>\n",
       "    </tr>\n",
       "    <tr>\n",
       "      <th>75%</th>\n",
       "      <td>5357.250000</td>\n",
       "      <td>1.000000</td>\n",
       "      <td>187500.000000</td>\n",
       "      <td>210000.000000</td>\n",
       "    </tr>\n",
       "    <tr>\n",
       "      <th>max</th>\n",
       "      <td>7143.000000</td>\n",
       "      <td>4.000000</td>\n",
       "      <td>210000.000000</td>\n",
       "      <td>420000.000000</td>\n",
       "    </tr>\n",
       "  </tbody>\n",
       "</table>\n",
       "</div>"
      ],
      "text/plain": [
       "         detail_id     quantity     item_price          price\n",
       "count  7144.000000  7144.000000    7144.000000    7144.000000\n",
       "mean   3571.500000     1.199888  121698.628219  135937.150056\n",
       "std    2062.439494     0.513647   64571.311830   68511.453297\n",
       "min       0.000000     1.000000   50000.000000   50000.000000\n",
       "25%    1785.750000     1.000000   50000.000000   85000.000000\n",
       "50%    3571.500000     1.000000  102500.000000  120000.000000\n",
       "75%    5357.250000     1.000000  187500.000000  210000.000000\n",
       "max    7143.000000     4.000000  210000.000000  420000.000000"
      ]
     },
     "execution_count": 26,
     "metadata": {},
     "output_type": "execute_result"
    }
   ],
   "source": [
    "join_data_item.describe()"
   ]
  },
  {
   "cell_type": "code",
   "execution_count": 27,
   "id": "04a225c3-c524-48cc-826f-aec568c23c55",
   "metadata": {
    "tags": []
   },
   "outputs": [
    {
     "data": {
      "text/plain": [
       "'2019-02-01 01:36:57'"
      ]
     },
     "execution_count": 27,
     "metadata": {},
     "output_type": "execute_result"
    }
   ],
   "source": [
    "join_data_item['payment_date'].min()"
   ]
  },
  {
   "cell_type": "code",
   "execution_count": 28,
   "id": "ea00f4e6-02bc-445c-b59a-125d177194da",
   "metadata": {
    "tags": []
   },
   "outputs": [
    {
     "data": {
      "text/plain": [
       "'2019-07-31 23:41:38'"
      ]
     },
     "execution_count": 28,
     "metadata": {},
     "output_type": "execute_result"
    }
   ],
   "source": [
    "join_data_item['payment_date'].max()"
   ]
  },
  {
   "cell_type": "code",
   "execution_count": 29,
   "id": "c348667f-747a-4d6d-a155-a5ae853c84b3",
   "metadata": {
    "tags": []
   },
   "outputs": [
    {
     "data": {
      "text/plain": [
       "detail_id          int64\n",
       "transaction_id    object\n",
       "item_id           object\n",
       "quantity           int64\n",
       "payment_date      object\n",
       "customer_id       object\n",
       "item_name         object\n",
       "item_price         int64\n",
       "price              int64\n",
       "dtype: object"
      ]
     },
     "execution_count": 29,
     "metadata": {},
     "output_type": "execute_result"
    }
   ],
   "source": [
    "join_data_item.dtypes"
   ]
  },
  {
   "cell_type": "code",
   "execution_count": 30,
   "id": "d3c38aa0-fa07-4854-ad1c-fbe0c5f9a2d6",
   "metadata": {
    "tags": []
   },
   "outputs": [],
   "source": [
    "join_data_item['payment_date'] = pd.to_datetime(join_data_item['payment_date'])"
   ]
  },
  {
   "cell_type": "code",
   "execution_count": 31,
   "id": "d407eb31-9e70-4704-aa99-0f436b7c49e2",
   "metadata": {
    "tags": []
   },
   "outputs": [
    {
     "data": {
      "text/plain": [
       "detail_id                  int64\n",
       "transaction_id            object\n",
       "item_id                   object\n",
       "quantity                   int64\n",
       "payment_date      datetime64[ns]\n",
       "customer_id               object\n",
       "item_name                 object\n",
       "item_price                 int64\n",
       "price                      int64\n",
       "dtype: object"
      ]
     },
     "execution_count": 31,
     "metadata": {},
     "output_type": "execute_result"
    }
   ],
   "source": [
    "join_data_item.dtypes"
   ]
  },
  {
   "cell_type": "code",
   "execution_count": 32,
   "id": "9151be7a-f114-49c2-a4c3-a2158870cf14",
   "metadata": {
    "tags": []
   },
   "outputs": [
    {
     "data": {
      "text/html": [
       "<div>\n",
       "<style scoped>\n",
       "    .dataframe tbody tr th:only-of-type {\n",
       "        vertical-align: middle;\n",
       "    }\n",
       "\n",
       "    .dataframe tbody tr th {\n",
       "        vertical-align: top;\n",
       "    }\n",
       "\n",
       "    .dataframe thead th {\n",
       "        text-align: right;\n",
       "    }\n",
       "</style>\n",
       "<table border=\"1\" class=\"dataframe\">\n",
       "  <thead>\n",
       "    <tr style=\"text-align: right;\">\n",
       "      <th></th>\n",
       "      <th>detail_id</th>\n",
       "      <th>transaction_id</th>\n",
       "      <th>item_id</th>\n",
       "      <th>quantity</th>\n",
       "      <th>payment_date</th>\n",
       "      <th>customer_id</th>\n",
       "      <th>item_name</th>\n",
       "      <th>item_price</th>\n",
       "      <th>price</th>\n",
       "      <th>payment_month</th>\n",
       "    </tr>\n",
       "  </thead>\n",
       "  <tbody>\n",
       "    <tr>\n",
       "      <th>0</th>\n",
       "      <td>0</td>\n",
       "      <td>T0000000113</td>\n",
       "      <td>S005</td>\n",
       "      <td>1</td>\n",
       "      <td>2019-02-01 01:36:57</td>\n",
       "      <td>PL563502</td>\n",
       "      <td>PC-E</td>\n",
       "      <td>210000</td>\n",
       "      <td>210000</td>\n",
       "      <td>201902</td>\n",
       "    </tr>\n",
       "    <tr>\n",
       "      <th>1</th>\n",
       "      <td>1</td>\n",
       "      <td>T0000000114</td>\n",
       "      <td>S001</td>\n",
       "      <td>1</td>\n",
       "      <td>2019-02-01 01:37:23</td>\n",
       "      <td>HD678019</td>\n",
       "      <td>PC-A</td>\n",
       "      <td>50000</td>\n",
       "      <td>50000</td>\n",
       "      <td>201902</td>\n",
       "    </tr>\n",
       "    <tr>\n",
       "      <th>2</th>\n",
       "      <td>2</td>\n",
       "      <td>T0000000115</td>\n",
       "      <td>S003</td>\n",
       "      <td>1</td>\n",
       "      <td>2019-02-01 02:34:19</td>\n",
       "      <td>HD298120</td>\n",
       "      <td>PC-C</td>\n",
       "      <td>120000</td>\n",
       "      <td>120000</td>\n",
       "      <td>201902</td>\n",
       "    </tr>\n",
       "    <tr>\n",
       "      <th>3</th>\n",
       "      <td>3</td>\n",
       "      <td>T0000000116</td>\n",
       "      <td>S005</td>\n",
       "      <td>1</td>\n",
       "      <td>2019-02-01 02:47:23</td>\n",
       "      <td>IK452215</td>\n",
       "      <td>PC-E</td>\n",
       "      <td>210000</td>\n",
       "      <td>210000</td>\n",
       "      <td>201902</td>\n",
       "    </tr>\n",
       "    <tr>\n",
       "      <th>4</th>\n",
       "      <td>4</td>\n",
       "      <td>T0000000117</td>\n",
       "      <td>S002</td>\n",
       "      <td>2</td>\n",
       "      <td>2019-02-01 04:33:46</td>\n",
       "      <td>PL542865</td>\n",
       "      <td>PC-B</td>\n",
       "      <td>85000</td>\n",
       "      <td>170000</td>\n",
       "      <td>201902</td>\n",
       "    </tr>\n",
       "  </tbody>\n",
       "</table>\n",
       "</div>"
      ],
      "text/plain": [
       "   detail_id transaction_id item_id  quantity        payment_date customer_id  \\\n",
       "0          0    T0000000113    S005         1 2019-02-01 01:36:57    PL563502   \n",
       "1          1    T0000000114    S001         1 2019-02-01 01:37:23    HD678019   \n",
       "2          2    T0000000115    S003         1 2019-02-01 02:34:19    HD298120   \n",
       "3          3    T0000000116    S005         1 2019-02-01 02:47:23    IK452215   \n",
       "4          4    T0000000117    S002         2 2019-02-01 04:33:46    PL542865   \n",
       "\n",
       "  item_name  item_price   price payment_month  \n",
       "0      PC-E      210000  210000        201902  \n",
       "1      PC-A       50000   50000        201902  \n",
       "2      PC-C      120000  120000        201902  \n",
       "3      PC-E      210000  210000        201902  \n",
       "4      PC-B       85000  170000        201902  "
      ]
     },
     "execution_count": 32,
     "metadata": {},
     "output_type": "execute_result"
    }
   ],
   "source": [
    "join_data_item['payment_month'] = join_data_item['payment_date'].dt.strftime('%Y%m')\n",
    "join_data_item.head()"
   ]
  },
  {
   "cell_type": "code",
   "execution_count": 33,
   "id": "dd7554d3-a855-4e90-9577-7d7485c1f125",
   "metadata": {
    "tags": []
   },
   "outputs": [
    {
     "data": {
      "text/plain": [
       "payment_month\n",
       "201902    160185000\n",
       "201903    160370000\n",
       "201904    160510000\n",
       "201905    155420000\n",
       "201906    164030000\n",
       "201907    170620000\n",
       "Name: price, dtype: int64"
      ]
     },
     "execution_count": 33,
     "metadata": {},
     "output_type": "execute_result"
    }
   ],
   "source": [
    "join_data_item.groupby('payment_month')['price'].sum()"
   ]
  },
  {
   "cell_type": "code",
   "execution_count": 34,
   "id": "6ac1e39a-0045-403f-9200-0c5166fd5ebb",
   "metadata": {
    "tags": []
   },
   "outputs": [
    {
     "data": {
      "text/html": [
       "<div>\n",
       "<style scoped>\n",
       "    .dataframe tbody tr th:only-of-type {\n",
       "        vertical-align: middle;\n",
       "    }\n",
       "\n",
       "    .dataframe tbody tr th {\n",
       "        vertical-align: top;\n",
       "    }\n",
       "\n",
       "    .dataframe thead th {\n",
       "        text-align: right;\n",
       "    }\n",
       "</style>\n",
       "<table border=\"1\" class=\"dataframe\">\n",
       "  <thead>\n",
       "    <tr style=\"text-align: right;\">\n",
       "      <th></th>\n",
       "      <th>payment_month</th>\n",
       "      <th>price</th>\n",
       "    </tr>\n",
       "  </thead>\n",
       "  <tbody>\n",
       "    <tr>\n",
       "      <th>0</th>\n",
       "      <td>201902</td>\n",
       "      <td>160185000</td>\n",
       "    </tr>\n",
       "    <tr>\n",
       "      <th>1</th>\n",
       "      <td>201903</td>\n",
       "      <td>160370000</td>\n",
       "    </tr>\n",
       "    <tr>\n",
       "      <th>2</th>\n",
       "      <td>201904</td>\n",
       "      <td>160510000</td>\n",
       "    </tr>\n",
       "    <tr>\n",
       "      <th>3</th>\n",
       "      <td>201905</td>\n",
       "      <td>155420000</td>\n",
       "    </tr>\n",
       "    <tr>\n",
       "      <th>4</th>\n",
       "      <td>201906</td>\n",
       "      <td>164030000</td>\n",
       "    </tr>\n",
       "    <tr>\n",
       "      <th>5</th>\n",
       "      <td>201907</td>\n",
       "      <td>170620000</td>\n",
       "    </tr>\n",
       "  </tbody>\n",
       "</table>\n",
       "</div>"
      ],
      "text/plain": [
       "  payment_month      price\n",
       "0        201902  160185000\n",
       "1        201903  160370000\n",
       "2        201904  160510000\n",
       "3        201905  155420000\n",
       "4        201906  164030000\n",
       "5        201907  170620000"
      ]
     },
     "execution_count": 34,
     "metadata": {},
     "output_type": "execute_result"
    }
   ],
   "source": [
    "a = join_data_item.groupby('payment_month')['price'].sum()\n",
    "a = pd.DataFrame(a)\n",
    "a = a.reset_index(drop = False)\n",
    "a"
   ]
  },
  {
   "cell_type": "code",
   "execution_count": 35,
   "id": "6dab6082-415a-4b99-bc99-0f5adb26f9b1",
   "metadata": {
    "tags": []
   },
   "outputs": [
    {
     "data": {
      "image/png": "[encoded data removed]",
      "text/plain": [
       "<Figure size 640x480 with 1 Axes>"
      ]
     },
     "metadata": {},
     "output_type": "display_data"
    }
   ],
   "source": [
    "import matplotlib.pyplot as plt\n",
    "\n",
    "plt.rc('font', family='malgun gothic')\n",
    "plt.rcParams['axes.unicode_minus'] = False\n",
    "\n",
    "plt.bar(a['payment_month'],a['price'])\n",
    "plt.show()"
   ]
  },
  {
   "cell_type": "code",
   "execution_count": 36,
   "id": "c9f5adbc-c253-4130-ac18-962d032a8a80",
   "metadata": {},
   "outputs": [
    {
     "data": {
      "text/plain": [
       "item_name\n",
       "PC-A    152150000\n",
       "PC-B    151725000\n",
       "PC-C    122640000\n",
       "PC-D    162000000\n",
       "PC-E    382620000\n",
       "Name: price, dtype: int64"
      ]
     },
     "execution_count": 36,
     "metadata": {},
     "output_type": "execute_result"
    }
   ],
   "source": [
    "join_data_item.groupby('item_name')['price'].sum()"
   ]
  },
  {
   "cell_type": "code",
   "execution_count": 37,
   "id": "95398f2d-20c2-41fc-99d5-64e7e9b82886",
   "metadata": {},
   "outputs": [
    {
     "data": {
      "text/plain": [
       "item_name\n",
       "PC-A    2143\n",
       "PC-B    1429\n",
       "PC-C     929\n",
       "PC-D     857\n",
       "PC-E    1786\n",
       "Name: price, dtype: int64"
      ]
     },
     "execution_count": 37,
     "metadata": {},
     "output_type": "execute_result"
    }
   ],
   "source": [
    "join_data_item.groupby('item_name')['price'].count()"
   ]
  },
  {
   "cell_type": "code",
   "execution_count": 38,
   "id": "ea01c303-c85c-4e6b-8d5e-71ff6ec9a02c",
   "metadata": {
    "tags": []
   },
   "outputs": [
    {
     "data": {
      "text/plain": [
       "item_name\n",
       "PC-A    3043\n",
       "PC-B    1785\n",
       "PC-C    1022\n",
       "PC-D     900\n",
       "PC-E    1822\n",
       "Name: quantity, dtype: int64"
      ]
     },
     "execution_count": 38,
     "metadata": {},
     "output_type": "execute_result"
    }
   ],
   "source": [
    "join_data_item.groupby('item_name')['quantity'].sum()"
   ]
  },
  {
   "cell_type": "code",
   "execution_count": 40,
   "id": "c23ca016-5a97-4736-9ca7-d580c866cb97",
   "metadata": {
    "tags": []
   },
   "outputs": [
    {
     "data": {
      "text/html": [
       "<div>\n",
       "<style scoped>\n",
       "    .dataframe tbody tr th:only-of-type {\n",
       "        vertical-align: middle;\n",
       "    }\n",
       "\n",
       "    .dataframe tbody tr th {\n",
       "        vertical-align: top;\n",
       "    }\n",
       "\n",
       "    .dataframe thead tr th {\n",
       "        text-align: left;\n",
       "    }\n",
       "\n",
       "    .dataframe thead tr:last-of-type th {\n",
       "        text-align: right;\n",
       "    }\n",
       "</style>\n",
       "<table border=\"1\" class=\"dataframe\">\n",
       "  <thead>\n",
       "    <tr>\n",
       "      <th></th>\n",
       "      <th colspan=\"6\" halign=\"left\">quantity</th>\n",
       "    </tr>\n",
       "    <tr>\n",
       "      <th>payment_month</th>\n",
       "      <th>201902</th>\n",
       "      <th>201903</th>\n",
       "      <th>201904</th>\n",
       "      <th>201905</th>\n",
       "      <th>201906</th>\n",
       "      <th>201907</th>\n",
       "    </tr>\n",
       "    <tr>\n",
       "      <th>item_name</th>\n",
       "      <th></th>\n",
       "      <th></th>\n",
       "      <th></th>\n",
       "      <th></th>\n",
       "      <th></th>\n",
       "      <th></th>\n",
       "    </tr>\n",
       "  </thead>\n",
       "  <tbody>\n",
       "    <tr>\n",
       "      <th>PC-A</th>\n",
       "      <td>483</td>\n",
       "      <td>520</td>\n",
       "      <td>518</td>\n",
       "      <td>497</td>\n",
       "      <td>520</td>\n",
       "      <td>505</td>\n",
       "    </tr>\n",
       "    <tr>\n",
       "      <th>PC-B</th>\n",
       "      <td>297</td>\n",
       "      <td>300</td>\n",
       "      <td>276</td>\n",
       "      <td>298</td>\n",
       "      <td>282</td>\n",
       "      <td>332</td>\n",
       "    </tr>\n",
       "    <tr>\n",
       "      <th>PC-C</th>\n",
       "      <td>165</td>\n",
       "      <td>159</td>\n",
       "      <td>183</td>\n",
       "      <td>171</td>\n",
       "      <td>182</td>\n",
       "      <td>162</td>\n",
       "    </tr>\n",
       "    <tr>\n",
       "      <th>PC-D</th>\n",
       "      <td>173</td>\n",
       "      <td>143</td>\n",
       "      <td>135</td>\n",
       "      <td>144</td>\n",
       "      <td>160</td>\n",
       "      <td>145</td>\n",
       "    </tr>\n",
       "    <tr>\n",
       "      <th>PC-E</th>\n",
       "      <td>285</td>\n",
       "      <td>305</td>\n",
       "      <td>309</td>\n",
       "      <td>280</td>\n",
       "      <td>302</td>\n",
       "      <td>341</td>\n",
       "    </tr>\n",
       "  </tbody>\n",
       "</table>\n",
       "</div>"
      ],
      "text/plain": [
       "              quantity                                   \n",
       "payment_month   201902 201903 201904 201905 201906 201907\n",
       "item_name                                                \n",
       "PC-A               483    520    518    497    520    505\n",
       "PC-B               297    300    276    298    282    332\n",
       "PC-C               165    159    183    171    182    162\n",
       "PC-D               173    143    135    144    160    145\n",
       "PC-E               285    305    309    280    302    341"
      ]
     },
     "execution_count": 40,
     "metadata": {},
     "output_type": "execute_result"
    }
   ],
   "source": [
    "table_a = pd.pivot_table(join_data_item, index = 'item_name',\n",
    "                         columns = 'payment_month', values = ['quantity'],\n",
    "                         aggfunc = 'sum' )\n",
    "table_a"
   ]
  },
  {
   "cell_type": "code",
   "execution_count": 42,
   "id": "dae6e27d-704d-4ab0-a028-1204c2c207ab",
   "metadata": {
    "tags": []
   },
   "outputs": [
    {
     "data": {
      "text/plain": [
       "<Axes: xlabel='None-payment_month', ylabel='item_name'>"
      ]
     },
     "execution_count": 42,
     "metadata": {},
     "output_type": "execute_result"
    },
    {
     "data": {
      "image/png": "[encoded data removed]",
      "text/plain": [
       "<Figure size 640x480 with 2 Axes>"
      ]
     },
     "metadata": {},
     "output_type": "display_data"
    }
   ],
   "source": [
    "import seaborn as sns\n",
    "\n",
    "sns.heatmap(table_a, annot = True, fmt = 'd', cmap = 'GnBu')\n"
   ]
  },
  {
   "cell_type": "code",
   "execution_count": 43,
   "id": "6b06c4a4-da76-478a-b4b8-8c984657b012",
   "metadata": {
    "tags": []
   },
   "outputs": [
    {
     "data": {
      "text/html": [
       "<div>\n",
       "<style scoped>\n",
       "    .dataframe tbody tr th:only-of-type {\n",
       "        vertical-align: middle;\n",
       "    }\n",
       "\n",
       "    .dataframe tbody tr th {\n",
       "        vertical-align: top;\n",
       "    }\n",
       "\n",
       "    .dataframe thead th {\n",
       "        text-align: right;\n",
       "    }\n",
       "</style>\n",
       "<table border=\"1\" class=\"dataframe\">\n",
       "  <thead>\n",
       "    <tr style=\"text-align: right;\">\n",
       "      <th></th>\n",
       "      <th></th>\n",
       "      <th>price</th>\n",
       "      <th>quantity</th>\n",
       "    </tr>\n",
       "    <tr>\n",
       "      <th>payment_month</th>\n",
       "      <th>item_name</th>\n",
       "      <th></th>\n",
       "      <th></th>\n",
       "    </tr>\n",
       "  </thead>\n",
       "  <tbody>\n",
       "    <tr>\n",
       "      <th rowspan=\"5\" valign=\"top\">201902</th>\n",
       "      <th>PC-A</th>\n",
       "      <td>24150000</td>\n",
       "      <td>483</td>\n",
       "    </tr>\n",
       "    <tr>\n",
       "      <th>PC-B</th>\n",
       "      <td>25245000</td>\n",
       "      <td>297</td>\n",
       "    </tr>\n",
       "    <tr>\n",
       "      <th>PC-C</th>\n",
       "      <td>19800000</td>\n",
       "      <td>165</td>\n",
       "    </tr>\n",
       "    <tr>\n",
       "      <th>PC-D</th>\n",
       "      <td>31140000</td>\n",
       "      <td>173</td>\n",
       "    </tr>\n",
       "    <tr>\n",
       "      <th>PC-E</th>\n",
       "      <td>59850000</td>\n",
       "      <td>285</td>\n",
       "    </tr>\n",
       "    <tr>\n",
       "      <th rowspan=\"5\" valign=\"top\">201903</th>\n",
       "      <th>PC-A</th>\n",
       "      <td>26000000</td>\n",
       "      <td>520</td>\n",
       "    </tr>\n",
       "    <tr>\n",
       "      <th>PC-B</th>\n",
       "      <td>25500000</td>\n",
       "      <td>300</td>\n",
       "    </tr>\n",
       "    <tr>\n",
       "      <th>PC-C</th>\n",
       "      <td>19080000</td>\n",
       "      <td>159</td>\n",
       "    </tr>\n",
       "    <tr>\n",
       "      <th>PC-D</th>\n",
       "      <td>25740000</td>\n",
       "      <td>143</td>\n",
       "    </tr>\n",
       "    <tr>\n",
       "      <th>PC-E</th>\n",
       "      <td>64050000</td>\n",
       "      <td>305</td>\n",
       "    </tr>\n",
       "    <tr>\n",
       "      <th rowspan=\"5\" valign=\"top\">201904</th>\n",
       "      <th>PC-A</th>\n",
       "      <td>25900000</td>\n",
       "      <td>518</td>\n",
       "    </tr>\n",
       "    <tr>\n",
       "      <th>PC-B</th>\n",
       "      <td>23460000</td>\n",
       "      <td>276</td>\n",
       "    </tr>\n",
       "    <tr>\n",
       "      <th>PC-C</th>\n",
       "      <td>21960000</td>\n",
       "      <td>183</td>\n",
       "    </tr>\n",
       "    <tr>\n",
       "      <th>PC-D</th>\n",
       "      <td>24300000</td>\n",
       "      <td>135</td>\n",
       "    </tr>\n",
       "    <tr>\n",
       "      <th>PC-E</th>\n",
       "      <td>64890000</td>\n",
       "      <td>309</td>\n",
       "    </tr>\n",
       "    <tr>\n",
       "      <th rowspan=\"5\" valign=\"top\">201905</th>\n",
       "      <th>PC-A</th>\n",
       "      <td>24850000</td>\n",
       "      <td>497</td>\n",
       "    </tr>\n",
       "    <tr>\n",
       "      <th>PC-B</th>\n",
       "      <td>25330000</td>\n",
       "      <td>298</td>\n",
       "    </tr>\n",
       "    <tr>\n",
       "      <th>PC-C</th>\n",
       "      <td>20520000</td>\n",
       "      <td>171</td>\n",
       "    </tr>\n",
       "    <tr>\n",
       "      <th>PC-D</th>\n",
       "      <td>25920000</td>\n",
       "      <td>144</td>\n",
       "    </tr>\n",
       "    <tr>\n",
       "      <th>PC-E</th>\n",
       "      <td>58800000</td>\n",
       "      <td>280</td>\n",
       "    </tr>\n",
       "    <tr>\n",
       "      <th rowspan=\"5\" valign=\"top\">201906</th>\n",
       "      <th>PC-A</th>\n",
       "      <td>26000000</td>\n",
       "      <td>520</td>\n",
       "    </tr>\n",
       "    <tr>\n",
       "      <th>PC-B</th>\n",
       "      <td>23970000</td>\n",
       "      <td>282</td>\n",
       "    </tr>\n",
       "    <tr>\n",
       "      <th>PC-C</th>\n",
       "      <td>21840000</td>\n",
       "      <td>182</td>\n",
       "    </tr>\n",
       "    <tr>\n",
       "      <th>PC-D</th>\n",
       "      <td>28800000</td>\n",
       "      <td>160</td>\n",
       "    </tr>\n",
       "    <tr>\n",
       "      <th>PC-E</th>\n",
       "      <td>63420000</td>\n",
       "      <td>302</td>\n",
       "    </tr>\n",
       "    <tr>\n",
       "      <th rowspan=\"5\" valign=\"top\">201907</th>\n",
       "      <th>PC-A</th>\n",
       "      <td>25250000</td>\n",
       "      <td>505</td>\n",
       "    </tr>\n",
       "    <tr>\n",
       "      <th>PC-B</th>\n",
       "      <td>28220000</td>\n",
       "      <td>332</td>\n",
       "    </tr>\n",
       "    <tr>\n",
       "      <th>PC-C</th>\n",
       "      <td>19440000</td>\n",
       "      <td>162</td>\n",
       "    </tr>\n",
       "    <tr>\n",
       "      <th>PC-D</th>\n",
       "      <td>26100000</td>\n",
       "      <td>145</td>\n",
       "    </tr>\n",
       "    <tr>\n",
       "      <th>PC-E</th>\n",
       "      <td>71610000</td>\n",
       "      <td>341</td>\n",
       "    </tr>\n",
       "  </tbody>\n",
       "</table>\n",
       "</div>"
      ],
      "text/plain": [
       "                            price  quantity\n",
       "payment_month item_name                    \n",
       "201902        PC-A       24150000       483\n",
       "              PC-B       25245000       297\n",
       "              PC-C       19800000       165\n",
       "              PC-D       31140000       173\n",
       "              PC-E       59850000       285\n",
       "201903        PC-A       26000000       520\n",
       "              PC-B       25500000       300\n",
       "              PC-C       19080000       159\n",
       "              PC-D       25740000       143\n",
       "              PC-E       64050000       305\n",
       "201904        PC-A       25900000       518\n",
       "              PC-B       23460000       276\n",
       "              PC-C       21960000       183\n",
       "              PC-D       24300000       135\n",
       "              PC-E       64890000       309\n",
       "201905        PC-A       24850000       497\n",
       "              PC-B       25330000       298\n",
       "              PC-C       20520000       171\n",
       "              PC-D       25920000       144\n",
       "              PC-E       58800000       280\n",
       "201906        PC-A       26000000       520\n",
       "              PC-B       23970000       282\n",
       "              PC-C       21840000       182\n",
       "              PC-D       28800000       160\n",
       "              PC-E       63420000       302\n",
       "201907        PC-A       25250000       505\n",
       "              PC-B       28220000       332\n",
       "              PC-C       19440000       162\n",
       "              PC-D       26100000       145\n",
       "              PC-E       71610000       341"
      ]
     },
     "execution_count": 43,
     "metadata": {},
     "output_type": "execute_result"
    }
   ],
   "source": [
    "join_data_item.groupby(['payment_month','item_name'])[['price','quantity']].sum()"
   ]
  },
  {
   "cell_type": "code",
   "execution_count": 44,
   "id": "a01665c9-31a7-4b61-8b9c-e33ecf293735",
   "metadata": {
    "tags": []
   },
   "outputs": [
    {
     "data": {
      "text/html": [
       "<div>\n",
       "<style scoped>\n",
       "    .dataframe tbody tr th:only-of-type {\n",
       "        vertical-align: middle;\n",
       "    }\n",
       "\n",
       "    .dataframe tbody tr th {\n",
       "        vertical-align: top;\n",
       "    }\n",
       "\n",
       "    .dataframe thead tr th {\n",
       "        text-align: left;\n",
       "    }\n",
       "\n",
       "    .dataframe thead tr:last-of-type th {\n",
       "        text-align: right;\n",
       "    }\n",
       "</style>\n",
       "<table border=\"1\" class=\"dataframe\">\n",
       "  <thead>\n",
       "    <tr>\n",
       "      <th></th>\n",
       "      <th colspan=\"6\" halign=\"left\">price</th>\n",
       "      <th colspan=\"6\" halign=\"left\">quantity</th>\n",
       "    </tr>\n",
       "    <tr>\n",
       "      <th>payment_month</th>\n",
       "      <th>201902</th>\n",
       "      <th>201903</th>\n",
       "      <th>201904</th>\n",
       "      <th>201905</th>\n",
       "      <th>201906</th>\n",
       "      <th>201907</th>\n",
       "      <th>201902</th>\n",
       "      <th>201903</th>\n",
       "      <th>201904</th>\n",
       "      <th>201905</th>\n",
       "      <th>201906</th>\n",
       "      <th>201907</th>\n",
       "    </tr>\n",
       "    <tr>\n",
       "      <th>item_name</th>\n",
       "      <th></th>\n",
       "      <th></th>\n",
       "      <th></th>\n",
       "      <th></th>\n",
       "      <th></th>\n",
       "      <th></th>\n",
       "      <th></th>\n",
       "      <th></th>\n",
       "      <th></th>\n",
       "      <th></th>\n",
       "      <th></th>\n",
       "      <th></th>\n",
       "    </tr>\n",
       "  </thead>\n",
       "  <tbody>\n",
       "    <tr>\n",
       "      <th>PC-A</th>\n",
       "      <td>24150000</td>\n",
       "      <td>26000000</td>\n",
       "      <td>25900000</td>\n",
       "      <td>24850000</td>\n",
       "      <td>26000000</td>\n",
       "      <td>25250000</td>\n",
       "      <td>483</td>\n",
       "      <td>520</td>\n",
       "      <td>518</td>\n",
       "      <td>497</td>\n",
       "      <td>520</td>\n",
       "      <td>505</td>\n",
       "    </tr>\n",
       "    <tr>\n",
       "      <th>PC-B</th>\n",
       "      <td>25245000</td>\n",
       "      <td>25500000</td>\n",
       "      <td>23460000</td>\n",
       "      <td>25330000</td>\n",
       "      <td>23970000</td>\n",
       "      <td>28220000</td>\n",
       "      <td>297</td>\n",
       "      <td>300</td>\n",
       "      <td>276</td>\n",
       "      <td>298</td>\n",
       "      <td>282</td>\n",
       "      <td>332</td>\n",
       "    </tr>\n",
       "    <tr>\n",
       "      <th>PC-C</th>\n",
       "      <td>19800000</td>\n",
       "      <td>19080000</td>\n",
       "      <td>21960000</td>\n",
       "      <td>20520000</td>\n",
       "      <td>21840000</td>\n",
       "      <td>19440000</td>\n",
       "      <td>165</td>\n",
       "      <td>159</td>\n",
       "      <td>183</td>\n",
       "      <td>171</td>\n",
       "      <td>182</td>\n",
       "      <td>162</td>\n",
       "    </tr>\n",
       "    <tr>\n",
       "      <th>PC-D</th>\n",
       "      <td>31140000</td>\n",
       "      <td>25740000</td>\n",
       "      <td>24300000</td>\n",
       "      <td>25920000</td>\n",
       "      <td>28800000</td>\n",
       "      <td>26100000</td>\n",
       "      <td>173</td>\n",
       "      <td>143</td>\n",
       "      <td>135</td>\n",
       "      <td>144</td>\n",
       "      <td>160</td>\n",
       "      <td>145</td>\n",
       "    </tr>\n",
       "    <tr>\n",
       "      <th>PC-E</th>\n",
       "      <td>59850000</td>\n",
       "      <td>64050000</td>\n",
       "      <td>64890000</td>\n",
       "      <td>58800000</td>\n",
       "      <td>63420000</td>\n",
       "      <td>71610000</td>\n",
       "      <td>285</td>\n",
       "      <td>305</td>\n",
       "      <td>309</td>\n",
       "      <td>280</td>\n",
       "      <td>302</td>\n",
       "      <td>341</td>\n",
       "    </tr>\n",
       "  </tbody>\n",
       "</table>\n",
       "</div>"
      ],
      "text/plain": [
       "                  price                                                    \\\n",
       "payment_month    201902    201903    201904    201905    201906    201907   \n",
       "item_name                                                                   \n",
       "PC-A           24150000  26000000  25900000  24850000  26000000  25250000   \n",
       "PC-B           25245000  25500000  23460000  25330000  23970000  28220000   \n",
       "PC-C           19800000  19080000  21960000  20520000  21840000  19440000   \n",
       "PC-D           31140000  25740000  24300000  25920000  28800000  26100000   \n",
       "PC-E           59850000  64050000  64890000  58800000  63420000  71610000   \n",
       "\n",
       "              quantity                                     \n",
       "payment_month   201902 201903 201904 201905 201906 201907  \n",
       "item_name                                                  \n",
       "PC-A               483    520    518    497    520    505  \n",
       "PC-B               297    300    276    298    282    332  \n",
       "PC-C               165    159    183    171    182    162  \n",
       "PC-D               173    143    135    144    160    145  \n",
       "PC-E               285    305    309    280    302    341  "
      ]
     },
     "execution_count": 44,
     "metadata": {},
     "output_type": "execute_result"
    }
   ],
   "source": [
    "table_a2 = pd.pivot_table(join_data_item, index = 'item_name',\n",
    "                         columns = 'payment_month', values = ['price','quantity'],\n",
    "                         aggfunc = 'sum' )\n",
    "table_a2"
   ]
  },
  {
   "cell_type": "code",
   "execution_count": 49,
   "id": "f0e4b43d-1b14-4d15-8649-4d30057c2594",
   "metadata": {
    "tags": []
   },
   "outputs": [
    {
     "data": {
      "text/html": [
       "<div>\n",
       "<style scoped>\n",
       "    .dataframe tbody tr th:only-of-type {\n",
       "        vertical-align: middle;\n",
       "    }\n",
       "\n",
       "    .dataframe tbody tr th {\n",
       "        vertical-align: top;\n",
       "    }\n",
       "\n",
       "    .dataframe thead th {\n",
       "        text-align: right;\n",
       "    }\n",
       "</style>\n",
       "<table border=\"1\" class=\"dataframe\">\n",
       "  <thead>\n",
       "    <tr style=\"text-align: right;\">\n",
       "      <th>item_name</th>\n",
       "      <th>PC-A</th>\n",
       "      <th>PC-B</th>\n",
       "      <th>PC-C</th>\n",
       "      <th>PC-D</th>\n",
       "      <th>PC-E</th>\n",
       "    </tr>\n",
       "    <tr>\n",
       "      <th>payment_month</th>\n",
       "      <th></th>\n",
       "      <th></th>\n",
       "      <th></th>\n",
       "      <th></th>\n",
       "      <th></th>\n",
       "    </tr>\n",
       "  </thead>\n",
       "  <tbody>\n",
       "    <tr>\n",
       "      <th>201902</th>\n",
       "      <td>24150000</td>\n",
       "      <td>25245000</td>\n",
       "      <td>19800000</td>\n",
       "      <td>31140000</td>\n",
       "      <td>59850000</td>\n",
       "    </tr>\n",
       "    <tr>\n",
       "      <th>201903</th>\n",
       "      <td>26000000</td>\n",
       "      <td>25500000</td>\n",
       "      <td>19080000</td>\n",
       "      <td>25740000</td>\n",
       "      <td>64050000</td>\n",
       "    </tr>\n",
       "    <tr>\n",
       "      <th>201904</th>\n",
       "      <td>25900000</td>\n",
       "      <td>23460000</td>\n",
       "      <td>21960000</td>\n",
       "      <td>24300000</td>\n",
       "      <td>64890000</td>\n",
       "    </tr>\n",
       "    <tr>\n",
       "      <th>201905</th>\n",
       "      <td>24850000</td>\n",
       "      <td>25330000</td>\n",
       "      <td>20520000</td>\n",
       "      <td>25920000</td>\n",
       "      <td>58800000</td>\n",
       "    </tr>\n",
       "    <tr>\n",
       "      <th>201906</th>\n",
       "      <td>26000000</td>\n",
       "      <td>23970000</td>\n",
       "      <td>21840000</td>\n",
       "      <td>28800000</td>\n",
       "      <td>63420000</td>\n",
       "    </tr>\n",
       "    <tr>\n",
       "      <th>201907</th>\n",
       "      <td>25250000</td>\n",
       "      <td>28220000</td>\n",
       "      <td>19440000</td>\n",
       "      <td>26100000</td>\n",
       "      <td>71610000</td>\n",
       "    </tr>\n",
       "  </tbody>\n",
       "</table>\n",
       "</div>"
      ],
      "text/plain": [
       "item_name          PC-A      PC-B      PC-C      PC-D      PC-E\n",
       "payment_month                                                  \n",
       "201902         24150000  25245000  19800000  31140000  59850000\n",
       "201903         26000000  25500000  19080000  25740000  64050000\n",
       "201904         25900000  23460000  21960000  24300000  64890000\n",
       "201905         24850000  25330000  20520000  25920000  58800000\n",
       "201906         26000000  23970000  21840000  28800000  63420000\n",
       "201907         25250000  28220000  19440000  26100000  71610000"
      ]
     },
     "execution_count": 49,
     "metadata": {},
     "output_type": "execute_result"
    }
   ],
   "source": [
    "table_a3 = pd.pivot_table(join_data_item, index =  'payment_month',\n",
    "                         columns = 'item_name', values = 'price',\n",
    "                         aggfunc = 'sum' )\n",
    "table_a3"
   ]
  },
  {
   "cell_type": "code",
   "execution_count": 64,
   "id": "bed6d639-ad93-4688-b712-5156c202bd86",
   "metadata": {
    "tags": []
   },
   "outputs": [
    {
     "data": {
      "image/png": "[encoded data removed]",
      "text/plain": [
       "<Figure size 640x480 with 1 Axes>"
      ]
     },
     "metadata": {},
     "output_type": "display_data"
    }
   ],
   "source": [
    "plt.plot(list(table_a3.index), table_a3['PC-A'], label = 'PC-A')\n",
    "plt.plot(list(table_a3.index), table_a3['PC-B'], label = 'PC-B')\n",
    "plt.plot(list(table_a3.index), table_a3['PC-C'], label = 'PC-C')\n",
    "plt.plot(list(table_a3.index), table_a3['PC-D'], label = 'PC-D')\n",
    "plt.plot(list(table_a3.index), table_a3['PC-E'], label = 'PC-E')\n",
    "plt.legend()\n",
    "plt.show()"
   ]
  },
  {
   "cell_type": "code",
   "execution_count": 65,
   "id": "8e01b756-4fdb-4590-b453-07c00a922714",
   "metadata": {
    "tags": []
   },
   "outputs": [
    {
     "data": {
      "image/png": "[encoded data removed]",
      "text/plain": [
       "<Figure size 640x480 with 1 Axes>"
      ]
     },
     "metadata": {},
     "output_type": "display_data"
    }
   ],
   "source": [
    "products = join_data_item['item_name'].unique(); products.sort()\n",
    "for i in products:\n",
    "    plt.plot(list(table_a3.index), table_a3[i], label = i)\n",
    "plt.legend()\n",
    "plt.show()"
   ]
  },
  {
   "cell_type": "code",
   "execution_count": 66,
   "id": "2344a649-fdcb-452c-866d-167444dd3933",
   "metadata": {
    "tags": []
   },
   "outputs": [
    {
     "data": {
      "image/png": "[encoded data removed]",
      "text/plain": [
       "<Figure size 640x480 with 1 Axes>"
      ]
     },
     "metadata": {},
     "output_type": "display_data"
    }
   ],
   "source": [
    "products = join_data_item['item_name'].unique(); products.sort()\n",
    "for i in products:\n",
    "    plt.bar(list(table_a3.index), table_a3[i], label = i)\n",
    "plt.legend()\n",
    "plt.show()"
   ]
  }
 ],
 "metadata": {
  "kernelspec": {
   "display_name": "Python 3 (ipykernel)",
   "language": "python",
   "name": "python3"
  },
  "language_info": {
   "codemirror_mode": {
    "name": "ipython",
    "version": 3
   },
   "file_extension": ".py",
   "mimetype": "text/x-python",
   "name": "python",
   "nbconvert_exporter": "python",
   "pygments_lexer": "ipython3",
   "version": "3.11.5"
  }
 },
 "nbformat": 4,
 "nbformat_minor": 5
}
