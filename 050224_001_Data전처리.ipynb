{
 "cells": [
  {
   "cell_type": "code",
   "execution_count": 1,
   "id": "e142b390-4cca-4490-b61c-f26c3a7cf097",
   "metadata": {
    "tags": []
   },
   "outputs": [],
   "source": [
    "# 경고 메시지 무시\n",
    "import warnings\n",
    "warnings.filterwarnings(action='ignore')\n",
    "\n",
    "import os\n",
    "import numpy as np\n",
    "import pandas as pd \n",
    "import matplotlib.pyplot as plt\n",
    "import seaborn as sns\n",
    "from sklearn.datasets import load_iris\n",
    "from sklearn.model_selection import train_test_split\n",
    "from sklearn.neighbors import KNeighborsClassifier\n",
    "from sklearn.metrics import accuracy_score\n",
    "from datetime import datetime, date, time\n",
    "from sklearn.preprocessing import StandardScaler\n",
    "from sklearn.preprocessing import MinMaxScaler\n",
    "\n",
    "plt.rc('font', family='malgun gothic')    # 한글처리\n",
    "plt.rcParams['axes.unicode_minus']=False  # '- 표시"
   ]
  },
  {
   "cell_type": "code",
   "execution_count": 2,
   "id": "92a781e5-6d9f-43ac-a207-95cf079fb5ee",
   "metadata": {
    "tags": []
   },
   "outputs": [
    {
     "data": {
      "text/plain": [
       "['대전태평(암반)_2009_hr.xlsx',\n",
       " '대전태평(암반)_2010_hr.xlsx',\n",
       " '대전태평(암반)_2011_hr.xlsx',\n",
       " '대전태평(암반)_2012_hr.xlsx',\n",
       " '대전태평(암반)_2013_hr.xlsx',\n",
       " '대전태평(암반)_2014_hr.xlsx',\n",
       " '대전태평(암반)_2015_hr.xlsx',\n",
       " '대전태평(암반)_2016_hr.xlsx']"
      ]
     },
     "execution_count": 2,
     "metadata": {},
     "output_type": "execute_result"
    }
   ],
   "source": [
    "path = 'Data/대전태평(암반)/'\n",
    "file_list = os.listdir(path)\n",
    "file_list_py = [file for file in file_list if file.endswith('.xlsx')]\n",
    "file_list_py"
   ]
  },
  {
   "cell_type": "code",
   "execution_count": 3,
   "id": "212fb8ba-cb91-4d12-a0c1-5c5ff0fafe43",
   "metadata": {
    "tags": []
   },
   "outputs": [
    {
     "data": {
      "text/html": [
       "<div>\n",
       "<style scoped>\n",
       "    .dataframe tbody tr th:only-of-type {\n",
       "        vertical-align: middle;\n",
       "    }\n",
       "\n",
       "    .dataframe tbody tr th {\n",
       "        vertical-align: top;\n",
       "    }\n",
       "\n",
       "    .dataframe thead th {\n",
       "        text-align: right;\n",
       "    }\n",
       "</style>\n",
       "<table border=\"1\" class=\"dataframe\">\n",
       "  <thead>\n",
       "    <tr style=\"text-align: right;\">\n",
       "      <th></th>\n",
       "      <th>관측소</th>\n",
       "      <th>구분</th>\n",
       "      <th>날짜</th>\n",
       "      <th>시간</th>\n",
       "      <th>수온(℃)</th>\n",
       "      <th>수위(el.m)</th>\n",
       "      <th>EC(㎲/㎝)</th>\n",
       "    </tr>\n",
       "  </thead>\n",
       "  <tbody>\n",
       "    <tr>\n",
       "      <th>0</th>\n",
       "      <td>대전태평</td>\n",
       "      <td>(암반)</td>\n",
       "      <td>20090101</td>\n",
       "      <td>0</td>\n",
       "      <td>16.1</td>\n",
       "      <td>44.47</td>\n",
       "      <td>749</td>\n",
       "    </tr>\n",
       "    <tr>\n",
       "      <th>1</th>\n",
       "      <td>대전태평</td>\n",
       "      <td>(암반)</td>\n",
       "      <td>20090101</td>\n",
       "      <td>1</td>\n",
       "      <td>16.1</td>\n",
       "      <td>44.47</td>\n",
       "      <td>749</td>\n",
       "    </tr>\n",
       "    <tr>\n",
       "      <th>2</th>\n",
       "      <td>대전태평</td>\n",
       "      <td>(암반)</td>\n",
       "      <td>20090101</td>\n",
       "      <td>2</td>\n",
       "      <td>16.1</td>\n",
       "      <td>44.47</td>\n",
       "      <td>749</td>\n",
       "    </tr>\n",
       "    <tr>\n",
       "      <th>3</th>\n",
       "      <td>대전태평</td>\n",
       "      <td>(암반)</td>\n",
       "      <td>20090101</td>\n",
       "      <td>3</td>\n",
       "      <td>16.1</td>\n",
       "      <td>44.47</td>\n",
       "      <td>749</td>\n",
       "    </tr>\n",
       "    <tr>\n",
       "      <th>4</th>\n",
       "      <td>대전태평</td>\n",
       "      <td>(암반)</td>\n",
       "      <td>20090101</td>\n",
       "      <td>4</td>\n",
       "      <td>16.1</td>\n",
       "      <td>44.47</td>\n",
       "      <td>749</td>\n",
       "    </tr>\n",
       "    <tr>\n",
       "      <th>...</th>\n",
       "      <td>...</td>\n",
       "      <td>...</td>\n",
       "      <td>...</td>\n",
       "      <td>...</td>\n",
       "      <td>...</td>\n",
       "      <td>...</td>\n",
       "      <td>...</td>\n",
       "    </tr>\n",
       "    <tr>\n",
       "      <th>8761</th>\n",
       "      <td>대전태평</td>\n",
       "      <td>(암반)</td>\n",
       "      <td>20161231</td>\n",
       "      <td>19</td>\n",
       "      <td>16.2</td>\n",
       "      <td>44.49</td>\n",
       "      <td>725</td>\n",
       "    </tr>\n",
       "    <tr>\n",
       "      <th>8762</th>\n",
       "      <td>대전태평</td>\n",
       "      <td>(암반)</td>\n",
       "      <td>20161231</td>\n",
       "      <td>20</td>\n",
       "      <td>16.2</td>\n",
       "      <td>44.49</td>\n",
       "      <td>725</td>\n",
       "    </tr>\n",
       "    <tr>\n",
       "      <th>8763</th>\n",
       "      <td>대전태평</td>\n",
       "      <td>(암반)</td>\n",
       "      <td>20161231</td>\n",
       "      <td>21</td>\n",
       "      <td>16.2</td>\n",
       "      <td>44.49</td>\n",
       "      <td>725</td>\n",
       "    </tr>\n",
       "    <tr>\n",
       "      <th>8764</th>\n",
       "      <td>대전태평</td>\n",
       "      <td>(암반)</td>\n",
       "      <td>20161231</td>\n",
       "      <td>22</td>\n",
       "      <td>16.2</td>\n",
       "      <td>44.49</td>\n",
       "      <td>725</td>\n",
       "    </tr>\n",
       "    <tr>\n",
       "      <th>8765</th>\n",
       "      <td>대전태평</td>\n",
       "      <td>(암반)</td>\n",
       "      <td>20161231</td>\n",
       "      <td>23</td>\n",
       "      <td>16.2</td>\n",
       "      <td>44.49</td>\n",
       "      <td>725</td>\n",
       "    </tr>\n",
       "  </tbody>\n",
       "</table>\n",
       "<p>69548 rows × 7 columns</p>\n",
       "</div>"
      ],
      "text/plain": [
       "       관측소    구분        날짜  시간  수온(℃)  수위(el.m)  EC(㎲/㎝)\n",
       "0     대전태평  (암반)  20090101   0   16.1     44.47      749\n",
       "1     대전태평  (암반)  20090101   1   16.1     44.47      749\n",
       "2     대전태평  (암반)  20090101   2   16.1     44.47      749\n",
       "3     대전태평  (암반)  20090101   3   16.1     44.47      749\n",
       "4     대전태평  (암반)  20090101   4   16.1     44.47      749\n",
       "...    ...   ...       ...  ..    ...       ...      ...\n",
       "8761  대전태평  (암반)  20161231  19   16.2     44.49      725\n",
       "8762  대전태평  (암반)  20161231  20   16.2     44.49      725\n",
       "8763  대전태평  (암반)  20161231  21   16.2     44.49      725\n",
       "8764  대전태평  (암반)  20161231  22   16.2     44.49      725\n",
       "8765  대전태평  (암반)  20161231  23   16.2     44.49      725\n",
       "\n",
       "[69548 rows x 7 columns]"
      ]
     },
     "execution_count": 3,
     "metadata": {},
     "output_type": "execute_result"
    }
   ],
   "source": [
    "df = pd.DataFrame()\n",
    "for i in file_list_py:\n",
    "    data = pd.read_excel(path + i)\n",
    "    df = pd.concat([df , data])\n",
    "df"
   ]
  },
  {
   "cell_type": "code",
   "execution_count": 4,
   "id": "577c2932-c615-4c21-9f0a-90f48961ea7b",
   "metadata": {
    "tags": []
   },
   "outputs": [
    {
     "data": {
      "text/html": [
       "<div>\n",
       "<style scoped>\n",
       "    .dataframe tbody tr th:only-of-type {\n",
       "        vertical-align: middle;\n",
       "    }\n",
       "\n",
       "    .dataframe tbody tr th {\n",
       "        vertical-align: top;\n",
       "    }\n",
       "\n",
       "    .dataframe thead th {\n",
       "        text-align: right;\n",
       "    }\n",
       "</style>\n",
       "<table border=\"1\" class=\"dataframe\">\n",
       "  <thead>\n",
       "    <tr style=\"text-align: right;\">\n",
       "      <th></th>\n",
       "      <th>관측소</th>\n",
       "      <th>구분</th>\n",
       "      <th>날짜</th>\n",
       "      <th>시간</th>\n",
       "      <th>수온(℃)</th>\n",
       "      <th>수위(el.m)</th>\n",
       "      <th>EC(㎲/㎝)</th>\n",
       "    </tr>\n",
       "  </thead>\n",
       "  <tbody>\n",
       "    <tr>\n",
       "      <th>0</th>\n",
       "      <td>대전태평</td>\n",
       "      <td>(암반)</td>\n",
       "      <td>20090101</td>\n",
       "      <td>0</td>\n",
       "      <td>16.1</td>\n",
       "      <td>44.47</td>\n",
       "      <td>749</td>\n",
       "    </tr>\n",
       "    <tr>\n",
       "      <th>1</th>\n",
       "      <td>대전태평</td>\n",
       "      <td>(암반)</td>\n",
       "      <td>20090101</td>\n",
       "      <td>1</td>\n",
       "      <td>16.1</td>\n",
       "      <td>44.47</td>\n",
       "      <td>749</td>\n",
       "    </tr>\n",
       "    <tr>\n",
       "      <th>2</th>\n",
       "      <td>대전태평</td>\n",
       "      <td>(암반)</td>\n",
       "      <td>20090101</td>\n",
       "      <td>2</td>\n",
       "      <td>16.1</td>\n",
       "      <td>44.47</td>\n",
       "      <td>749</td>\n",
       "    </tr>\n",
       "    <tr>\n",
       "      <th>3</th>\n",
       "      <td>대전태평</td>\n",
       "      <td>(암반)</td>\n",
       "      <td>20090101</td>\n",
       "      <td>3</td>\n",
       "      <td>16.1</td>\n",
       "      <td>44.47</td>\n",
       "      <td>749</td>\n",
       "    </tr>\n",
       "    <tr>\n",
       "      <th>4</th>\n",
       "      <td>대전태평</td>\n",
       "      <td>(암반)</td>\n",
       "      <td>20090101</td>\n",
       "      <td>4</td>\n",
       "      <td>16.1</td>\n",
       "      <td>44.47</td>\n",
       "      <td>749</td>\n",
       "    </tr>\n",
       "    <tr>\n",
       "      <th>...</th>\n",
       "      <td>...</td>\n",
       "      <td>...</td>\n",
       "      <td>...</td>\n",
       "      <td>...</td>\n",
       "      <td>...</td>\n",
       "      <td>...</td>\n",
       "      <td>...</td>\n",
       "    </tr>\n",
       "    <tr>\n",
       "      <th>69543</th>\n",
       "      <td>대전태평</td>\n",
       "      <td>(암반)</td>\n",
       "      <td>20161231</td>\n",
       "      <td>19</td>\n",
       "      <td>16.2</td>\n",
       "      <td>44.49</td>\n",
       "      <td>725</td>\n",
       "    </tr>\n",
       "    <tr>\n",
       "      <th>69544</th>\n",
       "      <td>대전태평</td>\n",
       "      <td>(암반)</td>\n",
       "      <td>20161231</td>\n",
       "      <td>20</td>\n",
       "      <td>16.2</td>\n",
       "      <td>44.49</td>\n",
       "      <td>725</td>\n",
       "    </tr>\n",
       "    <tr>\n",
       "      <th>69545</th>\n",
       "      <td>대전태평</td>\n",
       "      <td>(암반)</td>\n",
       "      <td>20161231</td>\n",
       "      <td>21</td>\n",
       "      <td>16.2</td>\n",
       "      <td>44.49</td>\n",
       "      <td>725</td>\n",
       "    </tr>\n",
       "    <tr>\n",
       "      <th>69546</th>\n",
       "      <td>대전태평</td>\n",
       "      <td>(암반)</td>\n",
       "      <td>20161231</td>\n",
       "      <td>22</td>\n",
       "      <td>16.2</td>\n",
       "      <td>44.49</td>\n",
       "      <td>725</td>\n",
       "    </tr>\n",
       "    <tr>\n",
       "      <th>69547</th>\n",
       "      <td>대전태평</td>\n",
       "      <td>(암반)</td>\n",
       "      <td>20161231</td>\n",
       "      <td>23</td>\n",
       "      <td>16.2</td>\n",
       "      <td>44.49</td>\n",
       "      <td>725</td>\n",
       "    </tr>\n",
       "  </tbody>\n",
       "</table>\n",
       "<p>69548 rows × 7 columns</p>\n",
       "</div>"
      ],
      "text/plain": [
       "        관측소    구분        날짜  시간  수온(℃)  수위(el.m)  EC(㎲/㎝)\n",
       "0      대전태평  (암반)  20090101   0   16.1     44.47      749\n",
       "1      대전태평  (암반)  20090101   1   16.1     44.47      749\n",
       "2      대전태평  (암반)  20090101   2   16.1     44.47      749\n",
       "3      대전태평  (암반)  20090101   3   16.1     44.47      749\n",
       "4      대전태평  (암반)  20090101   4   16.1     44.47      749\n",
       "...     ...   ...       ...  ..    ...       ...      ...\n",
       "69543  대전태평  (암반)  20161231  19   16.2     44.49      725\n",
       "69544  대전태평  (암반)  20161231  20   16.2     44.49      725\n",
       "69545  대전태평  (암반)  20161231  21   16.2     44.49      725\n",
       "69546  대전태평  (암반)  20161231  22   16.2     44.49      725\n",
       "69547  대전태평  (암반)  20161231  23   16.2     44.49      725\n",
       "\n",
       "[69548 rows x 7 columns]"
      ]
     },
     "execution_count": 4,
     "metadata": {},
     "output_type": "execute_result"
    }
   ],
   "source": [
    "df = df.reset_index(drop = True)\n",
    "df"
   ]
  },
  {
   "cell_type": "code",
   "execution_count": 5,
   "id": "4a97128c-59d3-4be7-a046-b1b7ddb3f3fa",
   "metadata": {
    "tags": []
   },
   "outputs": [
    {
     "name": "stdout",
     "output_type": "stream",
     "text": [
      "<class 'pandas.core.frame.DataFrame'>\n",
      "RangeIndex: 69548 entries, 0 to 69547\n",
      "Data columns (total 7 columns):\n",
      " #   Column    Non-Null Count  Dtype  \n",
      "---  ------    --------------  -----  \n",
      " 0   관측소       69548 non-null  object \n",
      " 1   구분        69548 non-null  object \n",
      " 2   날짜        69548 non-null  int64  \n",
      " 3   시간        69548 non-null  int64  \n",
      " 4   수온(℃)     69548 non-null  float64\n",
      " 5   수위(el.m)  69548 non-null  float64\n",
      " 6   EC(㎲/㎝)   69548 non-null  int64  \n",
      "dtypes: float64(2), int64(3), object(2)\n",
      "memory usage: 3.7+ MB\n"
     ]
    }
   ],
   "source": [
    "df.info()"
   ]
  },
  {
   "cell_type": "code",
   "execution_count": 7,
   "id": "11949379-fe0f-4b65-868e-5bc797458a6e",
   "metadata": {
    "tags": []
   },
   "outputs": [
    {
     "data": {
      "text/html": [
       "<div>\n",
       "<style scoped>\n",
       "    .dataframe tbody tr th:only-of-type {\n",
       "        vertical-align: middle;\n",
       "    }\n",
       "\n",
       "    .dataframe tbody tr th {\n",
       "        vertical-align: top;\n",
       "    }\n",
       "\n",
       "    .dataframe thead th {\n",
       "        text-align: right;\n",
       "    }\n",
       "</style>\n",
       "<table border=\"1\" class=\"dataframe\">\n",
       "  <thead>\n",
       "    <tr style=\"text-align: right;\">\n",
       "      <th></th>\n",
       "      <th>관측소</th>\n",
       "      <th>구분</th>\n",
       "      <th>날짜</th>\n",
       "      <th>시간</th>\n",
       "      <th>수온(℃)</th>\n",
       "      <th>수위(el.m)</th>\n",
       "      <th>EC(㎲/㎝)</th>\n",
       "      <th>Date</th>\n",
       "    </tr>\n",
       "  </thead>\n",
       "  <tbody>\n",
       "    <tr>\n",
       "      <th>0</th>\n",
       "      <td>대전태평</td>\n",
       "      <td>(암반)</td>\n",
       "      <td>20090101</td>\n",
       "      <td>0</td>\n",
       "      <td>16.1</td>\n",
       "      <td>44.47</td>\n",
       "      <td>749</td>\n",
       "      <td>2009-01-01 00:00:00</td>\n",
       "    </tr>\n",
       "    <tr>\n",
       "      <th>1</th>\n",
       "      <td>대전태평</td>\n",
       "      <td>(암반)</td>\n",
       "      <td>20090101</td>\n",
       "      <td>1</td>\n",
       "      <td>16.1</td>\n",
       "      <td>44.47</td>\n",
       "      <td>749</td>\n",
       "      <td>2009-01-01 01:00:00</td>\n",
       "    </tr>\n",
       "    <tr>\n",
       "      <th>2</th>\n",
       "      <td>대전태평</td>\n",
       "      <td>(암반)</td>\n",
       "      <td>20090101</td>\n",
       "      <td>2</td>\n",
       "      <td>16.1</td>\n",
       "      <td>44.47</td>\n",
       "      <td>749</td>\n",
       "      <td>2009-01-01 02:00:00</td>\n",
       "    </tr>\n",
       "    <tr>\n",
       "      <th>3</th>\n",
       "      <td>대전태평</td>\n",
       "      <td>(암반)</td>\n",
       "      <td>20090101</td>\n",
       "      <td>3</td>\n",
       "      <td>16.1</td>\n",
       "      <td>44.47</td>\n",
       "      <td>749</td>\n",
       "      <td>2009-01-01 03:00:00</td>\n",
       "    </tr>\n",
       "    <tr>\n",
       "      <th>4</th>\n",
       "      <td>대전태평</td>\n",
       "      <td>(암반)</td>\n",
       "      <td>20090101</td>\n",
       "      <td>4</td>\n",
       "      <td>16.1</td>\n",
       "      <td>44.47</td>\n",
       "      <td>749</td>\n",
       "      <td>2009-01-01 04:00:00</td>\n",
       "    </tr>\n",
       "    <tr>\n",
       "      <th>...</th>\n",
       "      <td>...</td>\n",
       "      <td>...</td>\n",
       "      <td>...</td>\n",
       "      <td>...</td>\n",
       "      <td>...</td>\n",
       "      <td>...</td>\n",
       "      <td>...</td>\n",
       "      <td>...</td>\n",
       "    </tr>\n",
       "    <tr>\n",
       "      <th>69543</th>\n",
       "      <td>대전태평</td>\n",
       "      <td>(암반)</td>\n",
       "      <td>20161231</td>\n",
       "      <td>19</td>\n",
       "      <td>16.2</td>\n",
       "      <td>44.49</td>\n",
       "      <td>725</td>\n",
       "      <td>2016-12-31 19:00:00</td>\n",
       "    </tr>\n",
       "    <tr>\n",
       "      <th>69544</th>\n",
       "      <td>대전태평</td>\n",
       "      <td>(암반)</td>\n",
       "      <td>20161231</td>\n",
       "      <td>20</td>\n",
       "      <td>16.2</td>\n",
       "      <td>44.49</td>\n",
       "      <td>725</td>\n",
       "      <td>2016-12-31 20:00:00</td>\n",
       "    </tr>\n",
       "    <tr>\n",
       "      <th>69545</th>\n",
       "      <td>대전태평</td>\n",
       "      <td>(암반)</td>\n",
       "      <td>20161231</td>\n",
       "      <td>21</td>\n",
       "      <td>16.2</td>\n",
       "      <td>44.49</td>\n",
       "      <td>725</td>\n",
       "      <td>2016-12-31 21:00:00</td>\n",
       "    </tr>\n",
       "    <tr>\n",
       "      <th>69546</th>\n",
       "      <td>대전태평</td>\n",
       "      <td>(암반)</td>\n",
       "      <td>20161231</td>\n",
       "      <td>22</td>\n",
       "      <td>16.2</td>\n",
       "      <td>44.49</td>\n",
       "      <td>725</td>\n",
       "      <td>2016-12-31 22:00:00</td>\n",
       "    </tr>\n",
       "    <tr>\n",
       "      <th>69547</th>\n",
       "      <td>대전태평</td>\n",
       "      <td>(암반)</td>\n",
       "      <td>20161231</td>\n",
       "      <td>23</td>\n",
       "      <td>16.2</td>\n",
       "      <td>44.49</td>\n",
       "      <td>725</td>\n",
       "      <td>2016-12-31 23:00:00</td>\n",
       "    </tr>\n",
       "  </tbody>\n",
       "</table>\n",
       "<p>69548 rows × 8 columns</p>\n",
       "</div>"
      ],
      "text/plain": [
       "        관측소    구분        날짜  시간  수온(℃)  수위(el.m)  EC(㎲/㎝)                Date\n",
       "0      대전태평  (암반)  20090101   0   16.1     44.47      749 2009-01-01 00:00:00\n",
       "1      대전태평  (암반)  20090101   1   16.1     44.47      749 2009-01-01 01:00:00\n",
       "2      대전태평  (암반)  20090101   2   16.1     44.47      749 2009-01-01 02:00:00\n",
       "3      대전태평  (암반)  20090101   3   16.1     44.47      749 2009-01-01 03:00:00\n",
       "4      대전태평  (암반)  20090101   4   16.1     44.47      749 2009-01-01 04:00:00\n",
       "...     ...   ...       ...  ..    ...       ...      ...                 ...\n",
       "69543  대전태평  (암반)  20161231  19   16.2     44.49      725 2016-12-31 19:00:00\n",
       "69544  대전태평  (암반)  20161231  20   16.2     44.49      725 2016-12-31 20:00:00\n",
       "69545  대전태평  (암반)  20161231  21   16.2     44.49      725 2016-12-31 21:00:00\n",
       "69546  대전태평  (암반)  20161231  22   16.2     44.49      725 2016-12-31 22:00:00\n",
       "69547  대전태평  (암반)  20161231  23   16.2     44.49      725 2016-12-31 23:00:00\n",
       "\n",
       "[69548 rows x 8 columns]"
      ]
     },
     "execution_count": 7,
     "metadata": {},
     "output_type": "execute_result"
    }
   ],
   "source": [
    "df['Date'] = pd.to_datetime(df['날짜'],format='%Y%m%d') \\\n",
    "             + pd.to_timedelta(df['시간'].astype(int), unit = 'h')\n",
    "df"
   ]
  },
  {
   "cell_type": "code",
   "execution_count": 8,
   "id": "e51be3ec-93a2-42df-9d5b-dbc5b39c202f",
   "metadata": {
    "tags": []
   },
   "outputs": [
    {
     "data": {
      "text/html": [
       "<div>\n",
       "<style scoped>\n",
       "    .dataframe tbody tr th:only-of-type {\n",
       "        vertical-align: middle;\n",
       "    }\n",
       "\n",
       "    .dataframe tbody tr th {\n",
       "        vertical-align: top;\n",
       "    }\n",
       "\n",
       "    .dataframe thead th {\n",
       "        text-align: right;\n",
       "    }\n",
       "</style>\n",
       "<table border=\"1\" class=\"dataframe\">\n",
       "  <thead>\n",
       "    <tr style=\"text-align: right;\">\n",
       "      <th></th>\n",
       "      <th>관측소</th>\n",
       "      <th>구분</th>\n",
       "      <th>날짜</th>\n",
       "      <th>시간</th>\n",
       "      <th>수온(℃)</th>\n",
       "      <th>수위(el.m)</th>\n",
       "      <th>EC(㎲/㎝)</th>\n",
       "      <th>Date</th>\n",
       "    </tr>\n",
       "    <tr>\n",
       "      <th>Date</th>\n",
       "      <th></th>\n",
       "      <th></th>\n",
       "      <th></th>\n",
       "      <th></th>\n",
       "      <th></th>\n",
       "      <th></th>\n",
       "      <th></th>\n",
       "      <th></th>\n",
       "    </tr>\n",
       "  </thead>\n",
       "  <tbody>\n",
       "    <tr>\n",
       "      <th>2009-01-01 00:00:00</th>\n",
       "      <td>대전태평</td>\n",
       "      <td>(암반)</td>\n",
       "      <td>20090101</td>\n",
       "      <td>0</td>\n",
       "      <td>16.1</td>\n",
       "      <td>44.47</td>\n",
       "      <td>749</td>\n",
       "      <td>2009-01-01 00:00:00</td>\n",
       "    </tr>\n",
       "    <tr>\n",
       "      <th>2009-01-01 01:00:00</th>\n",
       "      <td>대전태평</td>\n",
       "      <td>(암반)</td>\n",
       "      <td>20090101</td>\n",
       "      <td>1</td>\n",
       "      <td>16.1</td>\n",
       "      <td>44.47</td>\n",
       "      <td>749</td>\n",
       "      <td>2009-01-01 01:00:00</td>\n",
       "    </tr>\n",
       "    <tr>\n",
       "      <th>2009-01-01 02:00:00</th>\n",
       "      <td>대전태평</td>\n",
       "      <td>(암반)</td>\n",
       "      <td>20090101</td>\n",
       "      <td>2</td>\n",
       "      <td>16.1</td>\n",
       "      <td>44.47</td>\n",
       "      <td>749</td>\n",
       "      <td>2009-01-01 02:00:00</td>\n",
       "    </tr>\n",
       "  </tbody>\n",
       "</table>\n",
       "</div>"
      ],
      "text/plain": [
       "                      관측소    구분        날짜  시간  수온(℃)  수위(el.m)  EC(㎲/㎝)  \\\n",
       "Date                                                                      \n",
       "2009-01-01 00:00:00  대전태평  (암반)  20090101   0   16.1     44.47      749   \n",
       "2009-01-01 01:00:00  대전태평  (암반)  20090101   1   16.1     44.47      749   \n",
       "2009-01-01 02:00:00  대전태평  (암반)  20090101   2   16.1     44.47      749   \n",
       "\n",
       "                                   Date  \n",
       "Date                                     \n",
       "2009-01-01 00:00:00 2009-01-01 00:00:00  \n",
       "2009-01-01 01:00:00 2009-01-01 01:00:00  \n",
       "2009-01-01 02:00:00 2009-01-01 02:00:00  "
      ]
     },
     "execution_count": 8,
     "metadata": {},
     "output_type": "execute_result"
    }
   ],
   "source": [
    "df.set_index(df['Date'], inplace = True)\n",
    "df.head(3)"
   ]
  },
  {
   "cell_type": "code",
   "execution_count": 11,
   "id": "c06a7b66-da52-422a-a3c8-a2997058fab3",
   "metadata": {
    "tags": []
   },
   "outputs": [
    {
     "data": {
      "text/html": [
       "<div>\n",
       "<style scoped>\n",
       "    .dataframe tbody tr th:only-of-type {\n",
       "        vertical-align: middle;\n",
       "    }\n",
       "\n",
       "    .dataframe tbody tr th {\n",
       "        vertical-align: top;\n",
       "    }\n",
       "\n",
       "    .dataframe thead th {\n",
       "        text-align: right;\n",
       "    }\n",
       "</style>\n",
       "<table border=\"1\" class=\"dataframe\">\n",
       "  <thead>\n",
       "    <tr style=\"text-align: right;\">\n",
       "      <th></th>\n",
       "      <th>수온(℃)</th>\n",
       "      <th>수위(el.m)</th>\n",
       "      <th>EC(㎲/㎝)</th>\n",
       "    </tr>\n",
       "    <tr>\n",
       "      <th>Date</th>\n",
       "      <th></th>\n",
       "      <th></th>\n",
       "      <th></th>\n",
       "    </tr>\n",
       "  </thead>\n",
       "  <tbody>\n",
       "    <tr>\n",
       "      <th>2009-01-01 00:00:00</th>\n",
       "      <td>16.1</td>\n",
       "      <td>44.47</td>\n",
       "      <td>749</td>\n",
       "    </tr>\n",
       "    <tr>\n",
       "      <th>2009-01-01 01:00:00</th>\n",
       "      <td>16.1</td>\n",
       "      <td>44.47</td>\n",
       "      <td>749</td>\n",
       "    </tr>\n",
       "    <tr>\n",
       "      <th>2009-01-01 02:00:00</th>\n",
       "      <td>16.1</td>\n",
       "      <td>44.47</td>\n",
       "      <td>749</td>\n",
       "    </tr>\n",
       "    <tr>\n",
       "      <th>2009-01-01 03:00:00</th>\n",
       "      <td>16.1</td>\n",
       "      <td>44.47</td>\n",
       "      <td>749</td>\n",
       "    </tr>\n",
       "    <tr>\n",
       "      <th>2009-01-01 04:00:00</th>\n",
       "      <td>16.1</td>\n",
       "      <td>44.47</td>\n",
       "      <td>749</td>\n",
       "    </tr>\n",
       "    <tr>\n",
       "      <th>...</th>\n",
       "      <td>...</td>\n",
       "      <td>...</td>\n",
       "      <td>...</td>\n",
       "    </tr>\n",
       "    <tr>\n",
       "      <th>2016-12-31 19:00:00</th>\n",
       "      <td>16.2</td>\n",
       "      <td>44.49</td>\n",
       "      <td>725</td>\n",
       "    </tr>\n",
       "    <tr>\n",
       "      <th>2016-12-31 20:00:00</th>\n",
       "      <td>16.2</td>\n",
       "      <td>44.49</td>\n",
       "      <td>725</td>\n",
       "    </tr>\n",
       "    <tr>\n",
       "      <th>2016-12-31 21:00:00</th>\n",
       "      <td>16.2</td>\n",
       "      <td>44.49</td>\n",
       "      <td>725</td>\n",
       "    </tr>\n",
       "    <tr>\n",
       "      <th>2016-12-31 22:00:00</th>\n",
       "      <td>16.2</td>\n",
       "      <td>44.49</td>\n",
       "      <td>725</td>\n",
       "    </tr>\n",
       "    <tr>\n",
       "      <th>2016-12-31 23:00:00</th>\n",
       "      <td>16.2</td>\n",
       "      <td>44.49</td>\n",
       "      <td>725</td>\n",
       "    </tr>\n",
       "  </tbody>\n",
       "</table>\n",
       "<p>69548 rows × 3 columns</p>\n",
       "</div>"
      ],
      "text/plain": [
       "                     수온(℃)  수위(el.m)  EC(㎲/㎝)\n",
       "Date                                         \n",
       "2009-01-01 00:00:00   16.1     44.47      749\n",
       "2009-01-01 01:00:00   16.1     44.47      749\n",
       "2009-01-01 02:00:00   16.1     44.47      749\n",
       "2009-01-01 03:00:00   16.1     44.47      749\n",
       "2009-01-01 04:00:00   16.1     44.47      749\n",
       "...                    ...       ...      ...\n",
       "2016-12-31 19:00:00   16.2     44.49      725\n",
       "2016-12-31 20:00:00   16.2     44.49      725\n",
       "2016-12-31 21:00:00   16.2     44.49      725\n",
       "2016-12-31 22:00:00   16.2     44.49      725\n",
       "2016-12-31 23:00:00   16.2     44.49      725\n",
       "\n",
       "[69548 rows x 3 columns]"
      ]
     },
     "execution_count": 11,
     "metadata": {},
     "output_type": "execute_result"
    }
   ],
   "source": [
    "df1 = df[['수온(℃)','수위(el.m)','EC(㎲/㎝)']]\n",
    "df1"
   ]
  },
  {
   "cell_type": "code",
   "execution_count": 12,
   "id": "d5fbb27a-d5e9-4f75-b9bb-8c1520acb3cc",
   "metadata": {
    "tags": []
   },
   "outputs": [
    {
     "data": {
      "text/html": [
       "<div>\n",
       "<style scoped>\n",
       "    .dataframe tbody tr th:only-of-type {\n",
       "        vertical-align: middle;\n",
       "    }\n",
       "\n",
       "    .dataframe tbody tr th {\n",
       "        vertical-align: top;\n",
       "    }\n",
       "\n",
       "    .dataframe thead th {\n",
       "        text-align: right;\n",
       "    }\n",
       "</style>\n",
       "<table border=\"1\" class=\"dataframe\">\n",
       "  <thead>\n",
       "    <tr style=\"text-align: right;\">\n",
       "      <th></th>\n",
       "      <th>temp</th>\n",
       "      <th>level</th>\n",
       "      <th>EC</th>\n",
       "    </tr>\n",
       "    <tr>\n",
       "      <th>Date</th>\n",
       "      <th></th>\n",
       "      <th></th>\n",
       "      <th></th>\n",
       "    </tr>\n",
       "  </thead>\n",
       "  <tbody>\n",
       "    <tr>\n",
       "      <th>2009-01-01 00:00:00</th>\n",
       "      <td>16.1</td>\n",
       "      <td>44.47</td>\n",
       "      <td>749</td>\n",
       "    </tr>\n",
       "    <tr>\n",
       "      <th>2009-01-01 01:00:00</th>\n",
       "      <td>16.1</td>\n",
       "      <td>44.47</td>\n",
       "      <td>749</td>\n",
       "    </tr>\n",
       "    <tr>\n",
       "      <th>2009-01-01 02:00:00</th>\n",
       "      <td>16.1</td>\n",
       "      <td>44.47</td>\n",
       "      <td>749</td>\n",
       "    </tr>\n",
       "  </tbody>\n",
       "</table>\n",
       "</div>"
      ],
      "text/plain": [
       "                     temp  level   EC\n",
       "Date                                 \n",
       "2009-01-01 00:00:00  16.1  44.47  749\n",
       "2009-01-01 01:00:00  16.1  44.47  749\n",
       "2009-01-01 02:00:00  16.1  44.47  749"
      ]
     },
     "execution_count": 12,
     "metadata": {},
     "output_type": "execute_result"
    }
   ],
   "source": [
    "df1.columns = ['temp','level','EC']\n",
    "df1.head(3)"
   ]
  },
  {
   "cell_type": "code",
   "execution_count": 13,
   "id": "4440eb2d-81bc-4ced-bf48-2a0b82eec6ca",
   "metadata": {
    "tags": []
   },
   "outputs": [
    {
     "data": {
      "text/plain": [
       "temp     0\n",
       "level    0\n",
       "EC       0\n",
       "dtype: int64"
      ]
     },
     "execution_count": 13,
     "metadata": {},
     "output_type": "execute_result"
    }
   ],
   "source": [
    "df1.isnull().sum()"
   ]
  },
  {
   "cell_type": "code",
   "execution_count": 14,
   "id": "55583c98-06ac-434c-abc9-9d6ea903d9a3",
   "metadata": {
    "tags": []
   },
   "outputs": [],
   "source": [
    "df1.to_csv('Data/대전태평(암반)/대전지하수.csv')"
   ]
  },
  {
   "cell_type": "code",
   "execution_count": 15,
   "id": "1fe7c56f-655c-492a-b61f-5466d950b196",
   "metadata": {
    "tags": []
   },
   "outputs": [
    {
     "data": {
      "text/html": [
       "<div>\n",
       "<style scoped>\n",
       "    .dataframe tbody tr th:only-of-type {\n",
       "        vertical-align: middle;\n",
       "    }\n",
       "\n",
       "    .dataframe tbody tr th {\n",
       "        vertical-align: top;\n",
       "    }\n",
       "\n",
       "    .dataframe thead th {\n",
       "        text-align: right;\n",
       "    }\n",
       "</style>\n",
       "<table border=\"1\" class=\"dataframe\">\n",
       "  <thead>\n",
       "    <tr style=\"text-align: right;\">\n",
       "      <th></th>\n",
       "      <th>temp</th>\n",
       "      <th>level</th>\n",
       "      <th>EC</th>\n",
       "    </tr>\n",
       "    <tr>\n",
       "      <th>Date</th>\n",
       "      <th></th>\n",
       "      <th></th>\n",
       "      <th></th>\n",
       "    </tr>\n",
       "  </thead>\n",
       "  <tbody>\n",
       "    <tr>\n",
       "      <th>2009-01-01 00:00:00</th>\n",
       "      <td>16.1</td>\n",
       "      <td>44.47</td>\n",
       "      <td>749</td>\n",
       "    </tr>\n",
       "    <tr>\n",
       "      <th>2009-01-01 01:00:00</th>\n",
       "      <td>16.1</td>\n",
       "      <td>44.47</td>\n",
       "      <td>749</td>\n",
       "    </tr>\n",
       "  </tbody>\n",
       "</table>\n",
       "</div>"
      ],
      "text/plain": [
       "                     temp  level   EC\n",
       "Date                                 \n",
       "2009-01-01 00:00:00  16.1  44.47  749\n",
       "2009-01-01 01:00:00  16.1  44.47  749"
      ]
     },
     "execution_count": 15,
     "metadata": {},
     "output_type": "execute_result"
    }
   ],
   "source": [
    "df = pd.read_csv('Data/대전태평(암반)/대전지하수.csv', index_col = 'Date')\n",
    "df.head(2)"
   ]
  },
  {
   "cell_type": "code",
   "execution_count": 16,
   "id": "1b7ab164-9a73-4f64-b15c-8d581b30c45f",
   "metadata": {
    "tags": []
   },
   "outputs": [
    {
     "name": "stdout",
     "output_type": "stream",
     "text": [
      "<class 'pandas.core.frame.DataFrame'>\n",
      "Index: 69548 entries, 2009-01-01 00:00:00 to 2016-12-31 23:00:00\n",
      "Data columns (total 3 columns):\n",
      " #   Column  Non-Null Count  Dtype  \n",
      "---  ------  --------------  -----  \n",
      " 0   temp    69548 non-null  float64\n",
      " 1   level   69548 non-null  float64\n",
      " 2   EC      69548 non-null  int64  \n",
      "dtypes: float64(2), int64(1)\n",
      "memory usage: 2.1+ MB\n"
     ]
    }
   ],
   "source": [
    "df.info()"
   ]
  },
  {
   "cell_type": "code",
   "execution_count": 18,
   "id": "6b2908e4-87e3-4014-a053-fd77d61a2f22",
   "metadata": {
    "tags": []
   },
   "outputs": [
    {
     "data": {
      "text/html": [
       "<div>\n",
       "<style scoped>\n",
       "    .dataframe tbody tr th:only-of-type {\n",
       "        vertical-align: middle;\n",
       "    }\n",
       "\n",
       "    .dataframe tbody tr th {\n",
       "        vertical-align: top;\n",
       "    }\n",
       "\n",
       "    .dataframe thead th {\n",
       "        text-align: right;\n",
       "    }\n",
       "</style>\n",
       "<table border=\"1\" class=\"dataframe\">\n",
       "  <thead>\n",
       "    <tr style=\"text-align: right;\">\n",
       "      <th></th>\n",
       "      <th>temp</th>\n",
       "      <th>level</th>\n",
       "      <th>EC</th>\n",
       "    </tr>\n",
       "    <tr>\n",
       "      <th>Date</th>\n",
       "      <th></th>\n",
       "      <th></th>\n",
       "      <th></th>\n",
       "    </tr>\n",
       "  </thead>\n",
       "  <tbody>\n",
       "    <tr>\n",
       "      <th>2009-01-01 00:00:00</th>\n",
       "      <td>16.1</td>\n",
       "      <td>44.47</td>\n",
       "      <td>749</td>\n",
       "    </tr>\n",
       "    <tr>\n",
       "      <th>2009-01-01 01:00:00</th>\n",
       "      <td>16.1</td>\n",
       "      <td>44.47</td>\n",
       "      <td>749</td>\n",
       "    </tr>\n",
       "  </tbody>\n",
       "</table>\n",
       "</div>"
      ],
      "text/plain": [
       "                     temp  level   EC\n",
       "Date                                 \n",
       "2009-01-01 00:00:00  16.1  44.47  749\n",
       "2009-01-01 01:00:00  16.1  44.47  749"
      ]
     },
     "execution_count": 18,
     "metadata": {},
     "output_type": "execute_result"
    }
   ],
   "source": [
    "df = pd.read_csv('Data/대전태평(암반)/대전지하수.csv', index_col = 'Date', parse_dates = True)\n",
    "df.head(2)"
   ]
  },
  {
   "cell_type": "code",
   "execution_count": 20,
   "id": "219c6283-513a-49a9-9537-5e0a39b57a4c",
   "metadata": {
    "tags": []
   },
   "outputs": [
    {
     "name": "stdout",
     "output_type": "stream",
     "text": [
      "<class 'pandas.core.frame.DataFrame'>\n",
      "DatetimeIndex: 69548 entries, 2009-01-01 00:00:00 to 2016-12-31 23:00:00\n",
      "Data columns (total 3 columns):\n",
      " #   Column  Non-Null Count  Dtype  \n",
      "---  ------  --------------  -----  \n",
      " 0   temp    69548 non-null  float64\n",
      " 1   level   69548 non-null  float64\n",
      " 2   EC      69548 non-null  int64  \n",
      "dtypes: float64(2), int64(1)\n",
      "memory usage: 2.1 MB\n"
     ]
    }
   ],
   "source": [
    "df.info() # Look at Datetime index (DateTime Format)"
   ]
  },
  {
   "cell_type": "code",
   "execution_count": 21,
   "id": "5552b007-3d7c-4346-9960-90264a769b09",
   "metadata": {
    "tags": []
   },
   "outputs": [
    {
     "data": {
      "text/html": [
       "<div>\n",
       "<style scoped>\n",
       "    .dataframe tbody tr th:only-of-type {\n",
       "        vertical-align: middle;\n",
       "    }\n",
       "\n",
       "    .dataframe tbody tr th {\n",
       "        vertical-align: top;\n",
       "    }\n",
       "\n",
       "    .dataframe thead th {\n",
       "        text-align: right;\n",
       "    }\n",
       "</style>\n",
       "<table border=\"1\" class=\"dataframe\">\n",
       "  <thead>\n",
       "    <tr style=\"text-align: right;\">\n",
       "      <th></th>\n",
       "      <th>temp</th>\n",
       "      <th>level</th>\n",
       "      <th>EC</th>\n",
       "    </tr>\n",
       "  </thead>\n",
       "  <tbody>\n",
       "    <tr>\n",
       "      <th>count</th>\n",
       "      <td>69548.000000</td>\n",
       "      <td>69548.000000</td>\n",
       "      <td>69548.000000</td>\n",
       "    </tr>\n",
       "    <tr>\n",
       "      <th>mean</th>\n",
       "      <td>16.262491</td>\n",
       "      <td>44.295353</td>\n",
       "      <td>727.024027</td>\n",
       "    </tr>\n",
       "    <tr>\n",
       "      <th>std</th>\n",
       "      <td>0.089778</td>\n",
       "      <td>2.539464</td>\n",
       "      <td>51.544590</td>\n",
       "    </tr>\n",
       "    <tr>\n",
       "      <th>min</th>\n",
       "      <td>15.800000</td>\n",
       "      <td>11.530000</td>\n",
       "      <td>13.000000</td>\n",
       "    </tr>\n",
       "    <tr>\n",
       "      <th>25%</th>\n",
       "      <td>16.200000</td>\n",
       "      <td>44.370000</td>\n",
       "      <td>722.000000</td>\n",
       "    </tr>\n",
       "    <tr>\n",
       "      <th>50%</th>\n",
       "      <td>16.300000</td>\n",
       "      <td>44.460000</td>\n",
       "      <td>730.000000</td>\n",
       "    </tr>\n",
       "    <tr>\n",
       "      <th>75%</th>\n",
       "      <td>16.300000</td>\n",
       "      <td>44.550000</td>\n",
       "      <td>742.000000</td>\n",
       "    </tr>\n",
       "    <tr>\n",
       "      <th>max</th>\n",
       "      <td>16.500000</td>\n",
       "      <td>45.900000</td>\n",
       "      <td>778.000000</td>\n",
       "    </tr>\n",
       "  </tbody>\n",
       "</table>\n",
       "</div>"
      ],
      "text/plain": [
       "               temp         level            EC\n",
       "count  69548.000000  69548.000000  69548.000000\n",
       "mean      16.262491     44.295353    727.024027\n",
       "std        0.089778      2.539464     51.544590\n",
       "min       15.800000     11.530000     13.000000\n",
       "25%       16.200000     44.370000    722.000000\n",
       "50%       16.300000     44.460000    730.000000\n",
       "75%       16.300000     44.550000    742.000000\n",
       "max       16.500000     45.900000    778.000000"
      ]
     },
     "execution_count": 21,
     "metadata": {},
     "output_type": "execute_result"
    }
   ],
   "source": [
    "df.describe()"
   ]
  },
  {
   "cell_type": "code",
   "execution_count": 24,
   "id": "c2e75a86-f657-49ec-a806-8ac76bbb9059",
   "metadata": {
    "tags": []
   },
   "outputs": [
    {
     "data": {
      "image/png": "[encoded data removed]",
      "text/plain": [
       "<Figure size 1000x600 with 4 Axes>"
      ]
     },
     "metadata": {},
     "output_type": "display_data"
    }
   ],
   "source": [
    "df.hist(bins = 50, figsize = (10,6)) # x축의 간격을 50개로\n",
    "plt.show()"
   ]
  },
  {
   "cell_type": "code",
   "execution_count": 25,
   "id": "bd329004-62aa-43b5-92f2-b4beb46ae42d",
   "metadata": {
    "tags": []
   },
   "outputs": [
    {
     "data": {
      "image/png": "[encoded data removed]",
      "text/plain": [
       "<Figure size 1000x600 with 4 Axes>"
      ]
     },
     "metadata": {},
     "output_type": "display_data"
    }
   ],
   "source": [
    "df.hist( figsize = (10,6)) # x축의 간격을 50개로\n",
    "plt.show()"
   ]
  },
  {
   "cell_type": "code",
   "execution_count": 27,
   "id": "b307790d-10e5-48aa-a282-33b716e7a99c",
   "metadata": {
    "tags": []
   },
   "outputs": [
    {
     "data": {
      "text/plain": [
       "<Axes: >"
      ]
     },
     "execution_count": 27,
     "metadata": {},
     "output_type": "execute_result"
    },
    {
     "data": {
      "image/png": "[encoded data removed]",
      "text/plain": [
       "<Figure size 640x480 with 1 Axes>"
      ]
     },
     "metadata": {},
     "output_type": "display_data"
    }
   ],
   "source": [
    "df.boxplot()"
   ]
  },
  {
   "cell_type": "code",
   "execution_count": 28,
   "id": "806d2951-896b-4b55-844d-086a91771cd7",
   "metadata": {
    "tags": []
   },
   "outputs": [
    {
     "data": {
      "image/png": "[encoded data removed]",
      "text/plain": [
       "<Figure size 640x480 with 3 Axes>"
      ]
     },
     "metadata": {},
     "output_type": "display_data"
    }
   ],
   "source": [
    "plt.subplot(1,3,1)\n",
    "df.boxplot(column = 'temp')\n",
    "plt.subplot(1,3,2)\n",
    "df.boxplot(column = 'level')\n",
    "plt.subplot(1,3,3)\n",
    "df.boxplot(column = 'EC')\n",
    "plt.show()"
   ]
  },
  {
   "cell_type": "code",
   "execution_count": 29,
   "id": "548cbefa-fddd-453b-a438-92ac300f5833",
   "metadata": {
    "tags": []
   },
   "outputs": [
    {
     "data": {
      "image/png": "[encoded data removed]",
      "text/plain": [
       "<Figure size 640x480 with 3 Axes>"
      ]
     },
     "metadata": {},
     "output_type": "display_data"
    }
   ],
   "source": [
    "plt.subplot(3, 1, 1)\n",
    "df['temp'].plot()\n",
    "plt.subplot(3, 1, 2)\n",
    "df['level'].plot()\n",
    "plt.subplot(3, 1, 3)\n",
    "df['EC'].plot()\n",
    "plt.show()"
   ]
  },
  {
   "cell_type": "code",
   "execution_count": 34,
   "id": "ec77c9ee-8c96-48ec-be88-7b57c57b1ce5",
   "metadata": {
    "tags": []
   },
   "outputs": [
    {
     "name": "stdout",
     "output_type": "stream",
     "text": [
      "IQR temp :  0.10000000000000142\n",
      "16.450000000000003  16.049999999999997\n",
      "227\n",
      "15\n"
     ]
    }
   ],
   "source": [
    "q3_temp = df['temp'].quantile(q = 0.75)\n",
    "q1_temp = df['temp'].quantile(q = 0.25)\n",
    "iqr_temp = q3_temp - q1_temp\n",
    "print('IQR temp : ', iqr_temp )\n",
    "\n",
    "upper_temp = q3_temp + iqr_temp * 1.5\n",
    "lower_temp = q1_temp - iqr_temp * 1.5\n",
    "\n",
    "print(f'{upper_temp}  {lower_temp}')\n",
    "\n",
    "print((df['temp'] > upper_temp ).sum())\n",
    "print((df['temp'] < lower_temp ).sum())"
   ]
  },
  {
   "cell_type": "code",
   "execution_count": 35,
   "id": "c3d351c2-f09a-44ed-bbf5-e5ded6cce7a6",
   "metadata": {
    "tags": []
   },
   "outputs": [
    {
     "name": "stdout",
     "output_type": "stream",
     "text": [
      "IQR level :  0.17999999999999972\n",
      "44.81999999999999  44.099999999999994\n",
      "4492\n",
      "1273\n"
     ]
    }
   ],
   "source": [
    "q3_level = df['level'].quantile(q = 0.75)\n",
    "q1_level = df['level'].quantile(q = 0.25)\n",
    "iqr_level = q3_level - q1_level\n",
    "print('IQR level : ', iqr_level )\n",
    "\n",
    "upper_level = q3_level + iqr_level * 1.5\n",
    "lower_level = q1_level - iqr_level * 1.5\n",
    "\n",
    "print(f'{upper_level}  {lower_level}')\n",
    "\n",
    "print((df['level'] > upper_level ).sum())\n",
    "print((df['level'] < lower_level ).sum())"
   ]
  },
  {
   "cell_type": "code",
   "execution_count": 36,
   "id": "c3d5ed57-74e1-40f0-a6f9-71ae701c6988",
   "metadata": {
    "tags": []
   },
   "outputs": [
    {
     "name": "stdout",
     "output_type": "stream",
     "text": [
      "IQR EC :  20.0\n",
      "772.0  692.0\n",
      "831\n",
      "788\n"
     ]
    }
   ],
   "source": [
    "q3_EC = df['EC'].quantile(q = 0.75)\n",
    "q1_EC = df['EC'].quantile(q = 0.25)\n",
    "iqr_EC = q3_EC - q1_EC\n",
    "print('IQR EC : ', iqr_EC )\n",
    "\n",
    "upper_EC = q3_EC + iqr_EC * 1.5\n",
    "lower_EC = q1_EC - iqr_EC * 1.5\n",
    "\n",
    "print(f'{upper_EC}  {lower_EC}')\n",
    "\n",
    "print((df['EC'] > upper_EC ).sum())\n",
    "print((df['EC'] < lower_EC ).sum())"
   ]
  },
  {
   "cell_type": "code",
   "execution_count": 43,
   "id": "1feada0c-39a0-4776-9e83-5173e1a62527",
   "metadata": {
    "tags": []
   },
   "outputs": [],
   "source": [
    "df_iqr = df[(df['temp'] < upper_temp) & (df['temp'] > lower_temp)&\\\n",
    "            (df['level'] < upper_level) & (df['level'] > lower_level)&\\\n",
    "            (df['EC'] < upper_EC) & (df['EC'] > lower_EC)]"
   ]
  },
  {
   "cell_type": "code",
   "execution_count": 44,
   "id": "162371e5-e5af-412a-84c5-62bab5dac7a4",
   "metadata": {
    "tags": []
   },
   "outputs": [
    {
     "data": {
      "text/html": [
       "<div>\n",
       "<style scoped>\n",
       "    .dataframe tbody tr th:only-of-type {\n",
       "        vertical-align: middle;\n",
       "    }\n",
       "\n",
       "    .dataframe tbody tr th {\n",
       "        vertical-align: top;\n",
       "    }\n",
       "\n",
       "    .dataframe thead th {\n",
       "        text-align: right;\n",
       "    }\n",
       "</style>\n",
       "<table border=\"1\" class=\"dataframe\">\n",
       "  <thead>\n",
       "    <tr style=\"text-align: right;\">\n",
       "      <th></th>\n",
       "      <th>temp</th>\n",
       "      <th>level</th>\n",
       "      <th>EC</th>\n",
       "    </tr>\n",
       "  </thead>\n",
       "  <tbody>\n",
       "    <tr>\n",
       "      <th>count</th>\n",
       "      <td>61814.000000</td>\n",
       "      <td>61814.000000</td>\n",
       "      <td>61814.000000</td>\n",
       "    </tr>\n",
       "    <tr>\n",
       "      <th>mean</th>\n",
       "      <td>16.256793</td>\n",
       "      <td>44.459701</td>\n",
       "      <td>731.698612</td>\n",
       "    </tr>\n",
       "    <tr>\n",
       "      <th>std</th>\n",
       "      <td>0.089692</td>\n",
       "      <td>0.128256</td>\n",
       "      <td>13.882905</td>\n",
       "    </tr>\n",
       "    <tr>\n",
       "      <th>min</th>\n",
       "      <td>16.100000</td>\n",
       "      <td>44.100000</td>\n",
       "      <td>693.000000</td>\n",
       "    </tr>\n",
       "    <tr>\n",
       "      <th>25%</th>\n",
       "      <td>16.200000</td>\n",
       "      <td>44.370000</td>\n",
       "      <td>722.000000</td>\n",
       "    </tr>\n",
       "    <tr>\n",
       "      <th>50%</th>\n",
       "      <td>16.300000</td>\n",
       "      <td>44.450000</td>\n",
       "      <td>730.000000</td>\n",
       "    </tr>\n",
       "    <tr>\n",
       "      <th>75%</th>\n",
       "      <td>16.300000</td>\n",
       "      <td>44.520000</td>\n",
       "      <td>742.000000</td>\n",
       "    </tr>\n",
       "    <tr>\n",
       "      <th>max</th>\n",
       "      <td>16.400000</td>\n",
       "      <td>44.810000</td>\n",
       "      <td>771.000000</td>\n",
       "    </tr>\n",
       "  </tbody>\n",
       "</table>\n",
       "</div>"
      ],
      "text/plain": [
       "               temp         level            EC\n",
       "count  61814.000000  61814.000000  61814.000000\n",
       "mean      16.256793     44.459701    731.698612\n",
       "std        0.089692      0.128256     13.882905\n",
       "min       16.100000     44.100000    693.000000\n",
       "25%       16.200000     44.370000    722.000000\n",
       "50%       16.300000     44.450000    730.000000\n",
       "75%       16.300000     44.520000    742.000000\n",
       "max       16.400000     44.810000    771.000000"
      ]
     },
     "execution_count": 44,
     "metadata": {},
     "output_type": "execute_result"
    }
   ],
   "source": [
    "df_iqr.describe()"
   ]
  },
  {
   "cell_type": "code",
   "execution_count": 47,
   "id": "63803e73-dc4a-4225-a847-6bbbae258b99",
   "metadata": {
    "tags": []
   },
   "outputs": [
    {
     "data": {
      "image/png": "[encoded data removed]",
      "text/plain": [
       "<Figure size 1000x600 with 4 Axes>"
      ]
     },
     "metadata": {},
     "output_type": "display_data"
    }
   ],
   "source": [
    "df_iqr.hist(bins = 50, figsize = (10,6)) # x축의 간격을 50개로\n",
    "plt.show()"
   ]
  },
  {
   "cell_type": "code",
   "execution_count": 48,
   "id": "f9662803-3111-4880-ba35-769b854e924b",
   "metadata": {
    "tags": []
   },
   "outputs": [
    {
     "data": {
      "image/png": "[encoded data removed]",
      "text/plain": [
       "<Figure size 640x480 with 3 Axes>"
      ]
     },
     "metadata": {},
     "output_type": "display_data"
    }
   ],
   "source": [
    "plt.subplot(1, 3, 1)\n",
    "df_iqr.boxplot(column='temp')\n",
    "plt.subplot(1, 3, 2)\n",
    "df_iqr.boxplot(column='level')\n",
    "plt.subplot(1, 3, 3)\n",
    "df_iqr.boxplot(column='EC')\n",
    "plt.show()"
   ]
  },
  {
   "cell_type": "code",
   "execution_count": 49,
   "id": "d25336c7-6075-44f8-a89f-4bfaccb95906",
   "metadata": {
    "tags": []
   },
   "outputs": [
    {
     "data": {
      "image/png": "[encoded data removed]",
      "text/plain": [
       "<Figure size 640x480 with 3 Axes>"
      ]
     },
     "metadata": {},
     "output_type": "display_data"
    }
   ],
   "source": [
    "plt.subplot(3, 1, 1)\n",
    "df_iqr['temp'].plot()\n",
    "plt.subplot(3, 1, 2)\n",
    "df_iqr['level'].plot()\n",
    "plt.subplot(3, 1, 3)\n",
    "df_iqr['EC'].plot()\n",
    "plt.show()"
   ]
  },
  {
   "cell_type": "code",
   "execution_count": 53,
   "id": "1ee86bf8-406e-48f9-99bb-5205df2529dc",
   "metadata": {
    "tags": []
   },
   "outputs": [],
   "source": [
    "df_iqr.to_csv('Data/대전태평(암반)/대전지하수_정제.csv')"
   ]
  },
  {
   "cell_type": "code",
   "execution_count": 54,
   "id": "60b4413a-93f7-4b8d-9903-2bb98317b411",
   "metadata": {
    "tags": []
   },
   "outputs": [
    {
     "data": {
      "text/html": [
       "<div>\n",
       "<style scoped>\n",
       "    .dataframe tbody tr th:only-of-type {\n",
       "        vertical-align: middle;\n",
       "    }\n",
       "\n",
       "    .dataframe tbody tr th {\n",
       "        vertical-align: top;\n",
       "    }\n",
       "\n",
       "    .dataframe thead th {\n",
       "        text-align: right;\n",
       "    }\n",
       "</style>\n",
       "<table border=\"1\" class=\"dataframe\">\n",
       "  <thead>\n",
       "    <tr style=\"text-align: right;\">\n",
       "      <th></th>\n",
       "      <th>Date</th>\n",
       "      <th>temp</th>\n",
       "      <th>level</th>\n",
       "      <th>EC</th>\n",
       "    </tr>\n",
       "  </thead>\n",
       "  <tbody>\n",
       "    <tr>\n",
       "      <th>0</th>\n",
       "      <td>2009-01-01 00:00:00</td>\n",
       "      <td>16.1</td>\n",
       "      <td>44.47</td>\n",
       "      <td>749</td>\n",
       "    </tr>\n",
       "    <tr>\n",
       "      <th>1</th>\n",
       "      <td>2009-01-01 01:00:00</td>\n",
       "      <td>16.1</td>\n",
       "      <td>44.47</td>\n",
       "      <td>749</td>\n",
       "    </tr>\n",
       "    <tr>\n",
       "      <th>2</th>\n",
       "      <td>2009-01-01 02:00:00</td>\n",
       "      <td>16.1</td>\n",
       "      <td>44.47</td>\n",
       "      <td>749</td>\n",
       "    </tr>\n",
       "    <tr>\n",
       "      <th>3</th>\n",
       "      <td>2009-01-01 03:00:00</td>\n",
       "      <td>16.1</td>\n",
       "      <td>44.47</td>\n",
       "      <td>749</td>\n",
       "    </tr>\n",
       "    <tr>\n",
       "      <th>4</th>\n",
       "      <td>2009-01-01 04:00:00</td>\n",
       "      <td>16.1</td>\n",
       "      <td>44.47</td>\n",
       "      <td>749</td>\n",
       "    </tr>\n",
       "  </tbody>\n",
       "</table>\n",
       "</div>"
      ],
      "text/plain": [
       "                  Date  temp  level   EC\n",
       "0  2009-01-01 00:00:00  16.1  44.47  749\n",
       "1  2009-01-01 01:00:00  16.1  44.47  749\n",
       "2  2009-01-01 02:00:00  16.1  44.47  749\n",
       "3  2009-01-01 03:00:00  16.1  44.47  749\n",
       "4  2009-01-01 04:00:00  16.1  44.47  749"
      ]
     },
     "execution_count": 54,
     "metadata": {},
     "output_type": "execute_result"
    }
   ],
   "source": [
    "df = pd.read_csv('data/대전태평(암반)/대전지하수_정제.csv')\n",
    "df.head()"
   ]
  },
  {
   "cell_type": "code",
   "execution_count": 56,
   "id": "1c17fd6b-e156-4918-9f3e-6e53036f5478",
   "metadata": {
    "tags": []
   },
   "outputs": [
    {
     "data": {
      "text/html": [
       "<div>\n",
       "<style scoped>\n",
       "    .dataframe tbody tr th:only-of-type {\n",
       "        vertical-align: middle;\n",
       "    }\n",
       "\n",
       "    .dataframe tbody tr th {\n",
       "        vertical-align: top;\n",
       "    }\n",
       "\n",
       "    .dataframe thead th {\n",
       "        text-align: right;\n",
       "    }\n",
       "</style>\n",
       "<table border=\"1\" class=\"dataframe\">\n",
       "  <thead>\n",
       "    <tr style=\"text-align: right;\">\n",
       "      <th></th>\n",
       "      <th>level</th>\n",
       "      <th>EC</th>\n",
       "    </tr>\n",
       "  </thead>\n",
       "  <tbody>\n",
       "    <tr>\n",
       "      <th>count</th>\n",
       "      <td>61814.000000</td>\n",
       "      <td>61814.000000</td>\n",
       "    </tr>\n",
       "    <tr>\n",
       "      <th>mean</th>\n",
       "      <td>44.459701</td>\n",
       "      <td>731.698612</td>\n",
       "    </tr>\n",
       "    <tr>\n",
       "      <th>std</th>\n",
       "      <td>0.128256</td>\n",
       "      <td>13.882905</td>\n",
       "    </tr>\n",
       "    <tr>\n",
       "      <th>min</th>\n",
       "      <td>44.100000</td>\n",
       "      <td>693.000000</td>\n",
       "    </tr>\n",
       "    <tr>\n",
       "      <th>25%</th>\n",
       "      <td>44.370000</td>\n",
       "      <td>722.000000</td>\n",
       "    </tr>\n",
       "    <tr>\n",
       "      <th>50%</th>\n",
       "      <td>44.450000</td>\n",
       "      <td>730.000000</td>\n",
       "    </tr>\n",
       "    <tr>\n",
       "      <th>75%</th>\n",
       "      <td>44.520000</td>\n",
       "      <td>742.000000</td>\n",
       "    </tr>\n",
       "    <tr>\n",
       "      <th>max</th>\n",
       "      <td>44.810000</td>\n",
       "      <td>771.000000</td>\n",
       "    </tr>\n",
       "  </tbody>\n",
       "</table>\n",
       "</div>"
      ],
      "text/plain": [
       "              level            EC\n",
       "count  61814.000000  61814.000000\n",
       "mean      44.459701    731.698612\n",
       "std        0.128256     13.882905\n",
       "min       44.100000    693.000000\n",
       "25%       44.370000    722.000000\n",
       "50%       44.450000    730.000000\n",
       "75%       44.520000    742.000000\n",
       "max       44.810000    771.000000"
      ]
     },
     "execution_count": 56,
     "metadata": {},
     "output_type": "execute_result"
    }
   ],
   "source": [
    "df1 = df[['level','EC']]\n",
    "df1.describe()"
   ]
  },
  {
   "cell_type": "code",
   "execution_count": 57,
   "id": "2f310e2a-5b00-4d9d-bd3f-58b919010206",
   "metadata": {
    "tags": []
   },
   "outputs": [
    {
     "data": {
      "text/html": [
       "<div>\n",
       "<style scoped>\n",
       "    .dataframe tbody tr th:only-of-type {\n",
       "        vertical-align: middle;\n",
       "    }\n",
       "\n",
       "    .dataframe tbody tr th {\n",
       "        vertical-align: top;\n",
       "    }\n",
       "\n",
       "    .dataframe thead th {\n",
       "        text-align: right;\n",
       "    }\n",
       "</style>\n",
       "<table border=\"1\" class=\"dataframe\">\n",
       "  <thead>\n",
       "    <tr style=\"text-align: right;\">\n",
       "      <th></th>\n",
       "      <th>level</th>\n",
       "      <th>EC</th>\n",
       "    </tr>\n",
       "  </thead>\n",
       "  <tbody>\n",
       "    <tr>\n",
       "      <th>0</th>\n",
       "      <td>44.47</td>\n",
       "      <td>749</td>\n",
       "    </tr>\n",
       "    <tr>\n",
       "      <th>1</th>\n",
       "      <td>44.47</td>\n",
       "      <td>749</td>\n",
       "    </tr>\n",
       "    <tr>\n",
       "      <th>2</th>\n",
       "      <td>44.47</td>\n",
       "      <td>749</td>\n",
       "    </tr>\n",
       "  </tbody>\n",
       "</table>\n",
       "</div>"
      ],
      "text/plain": [
       "   level   EC\n",
       "0  44.47  749\n",
       "1  44.47  749\n",
       "2  44.47  749"
      ]
     },
     "execution_count": 57,
     "metadata": {},
     "output_type": "execute_result"
    }
   ],
   "source": [
    "df2 = df1.copy()\n",
    "df2.head(3)"
   ]
  },
  {
   "cell_type": "code",
   "execution_count": 58,
   "id": "e2a49a49-5900-4150-832e-da062f447295",
   "metadata": {
    "tags": []
   },
   "outputs": [
    {
     "data": {
      "image/png": "[encoded data removed]",
      "text/plain": [
       "<Figure size 640x480 with 2 Axes>"
      ]
     },
     "metadata": {},
     "output_type": "display_data"
    }
   ],
   "source": [
    "df2.hist()\n",
    "plt.show()"
   ]
  },
  {
   "cell_type": "code",
   "execution_count": 59,
   "id": "6f7e9783-5d7a-4956-bb90-dda15e669136",
   "metadata": {
    "tags": []
   },
   "outputs": [
    {
     "data": {
      "image/png": "[encoded data removed]",
      "text/plain": [
       "<Figure size 800x500 with 2 Axes>"
      ]
     },
     "metadata": {},
     "output_type": "display_data"
    }
   ],
   "source": [
    "# StandardScaler를 사용하여 데이터 표준화\n",
    "scaler = StandardScaler()\n",
    "scaled_data = scaler.fit_transform(df1[['level', 'EC']])\n",
    "\n",
    "# 표준화된 데이터로 새로운 데이터프레임 생성\n",
    "df_scaled = pd.DataFrame(scaled_data, columns=['level_z_score', 'EC_z_score'])\n",
    "\n",
    "# 표준화된 데이터에 대한 히스토그램 출력\n",
    "df_scaled.hist(figsize=(8,5))\n",
    "plt.show()"
   ]
  },
  {
   "cell_type": "code",
   "execution_count": 60,
   "id": "4bc134d6-67fe-4ae3-94d7-8c9bc81e973e",
   "metadata": {
    "tags": []
   },
   "outputs": [
    {
     "data": {
      "image/png": "[encoded data removed]",
      "text/plain": [
       "<Figure size 800x500 with 2 Axes>"
      ]
     },
     "metadata": {},
     "output_type": "display_data"
    }
   ],
   "source": [
    "# MinMaxScaler를 사용하여 데이터 정규화\n",
    "scaler = MinMaxScaler()\n",
    "scaled_data = scaler.fit_transform(df1[['level', 'EC']])\n",
    "\n",
    "# 정규화된 데이터로 새로운 데이터프레임 생성\n",
    "df_scaled = pd.DataFrame(scaled_data, columns=['level_minmax', 'EC_minmax'])\n",
    "\n",
    "# 정규화된 데이터에 대한 히스토그램 출력\n",
    "df_scaled.hist(figsize=(8,5))\n",
    "plt.show()"
   ]
  },
  {
   "cell_type": "code",
   "execution_count": null,
   "id": "8b05aead-ac93-45c8-838a-e6ae817834ee",
   "metadata": {},
   "outputs": [],
   "source": []
  },
  {
   "cell_type": "code",
   "execution_count": null,
   "id": "ea4089a8-e271-4bfb-a864-bfb68a9ad11c",
   "metadata": {},
   "outputs": [],
   "source": []
  },
  {
   "cell_type": "code",
   "execution_count": null,
   "id": "1e7a3bde-19be-4b19-a9d6-31da6e84cbdb",
   "metadata": {},
   "outputs": [],
   "source": []
  },
  {
   "cell_type": "code",
   "execution_count": null,
   "id": "96bc3c44-4468-4c0a-96e3-c4f1ccac1ee1",
   "metadata": {},
   "outputs": [],
   "source": []
  },
  {
   "cell_type": "code",
   "execution_count": null,
   "id": "7c3b3f6d-d2d8-467b-a760-8e1511328de6",
   "metadata": {},
   "outputs": [],
   "source": []
  }
 ],
 "metadata": {
  "kernelspec": {
   "display_name": "Python 3 (ipykernel)",
   "language": "python",
   "name": "python3"
  },
  "language_info": {
   "codemirror_mode": {
    "name": "ipython",
    "version": 3
   },
   "file_extension": ".py",
   "mimetype": "text/x-python",
   "name": "python",
   "nbconvert_exporter": "python",
   "pygments_lexer": "ipython3",
   "version": "3.11.5"
  }
 },
 "nbformat": 4,
 "nbformat_minor": 5
}
