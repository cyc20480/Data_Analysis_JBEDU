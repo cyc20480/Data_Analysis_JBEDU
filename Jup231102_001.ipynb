{
 "cells": [
  {
   "cell_type": "code",
   "execution_count": 7,
   "id": "45e7cda4",
   "metadata": {
    "ExecuteTime": {
     "end_time": "2023-11-02T11:47:20.209649Z",
     "start_time": "2023-11-02T11:47:20.198359Z"
    }
   },
   "outputs": [
    {
     "name": "stdout",
     "output_type": "stream",
     "text": [
      "['깨지다', '부서지다']\n",
      "깨지다\n",
      "부서지다\n",
      "빗\n"
     ]
    }
   ],
   "source": [
    "eng ={'break':['깨지다', '부서지다'], 'bring':'가져오다','brush':'붓','brush':'빗', 'brave':'용감한'}\n",
    "print(eng['break'])\n",
    "print(eng['break'][0])\n",
    "print(eng['break'][1])\n",
    "#print(eng['break'][2])\n",
    "print(eng['brush'])"
   ]
  },
  {
   "cell_type": "code",
   "execution_count": 11,
   "id": "d8a9aeb4",
   "metadata": {
    "ExecuteTime": {
     "end_time": "2023-11-02T11:55:23.122646Z",
     "start_time": "2023-11-02T11:52:18.740368Z"
    },
    "scrolled": true
   },
   "outputs": [
    {
     "name": "stdout",
     "output_type": "stream",
     "text": [
      "어떤메뉴?라면\n",
      "라면 3000 원 입니다\n"
     ]
    }
   ],
   "source": [
    "menu={'김밥':2500, '참치김밥':3500, '라면': 3000, '치즈라면':4000}\n",
    "eat=input('어떤메뉴?')\n",
    "print(eat,menu[eat], '원 입니다')"
   ]
  },
  {
   "cell_type": "code",
   "execution_count": 17,
   "id": "9a76fe90",
   "metadata": {
    "ExecuteTime": {
     "end_time": "2023-11-02T11:58:19.652640Z",
     "start_time": "2023-11-02T11:58:06.133082Z"
    }
   },
   "outputs": [
    {
     "name": "stdout",
     "output_type": "stream",
     "text": [
      "어떤메뉴 추가?#@$@#\n",
      "가격은?2100\n",
      "{'김밥': 2500, '참치김밥': 3500, '라면': 3000, '치즈라면': 4000, '#@$@#': 2100}\n"
     ]
    }
   ],
   "source": [
    "menu={'김밥':2500, '참치김밥':3500, '라면': 3000, '치즈라면':4000}\n",
    "name=input('어떤메뉴 추가?')\n",
    "price=int(input('가격은?'))\n",
    "menu[name] = price\n",
    "print(menu)"
   ]
  },
  {
   "cell_type": "code",
   "execution_count": 19,
   "id": "b98e5a16",
   "metadata": {
    "ExecuteTime": {
     "end_time": "2023-11-02T12:24:46.147845Z",
     "start_time": "2023-11-02T12:24:45.571815Z"
    }
   },
   "outputs": [
    {
     "name": "stdout",
     "output_type": "stream",
     "text": [
      "0    1\n",
      "1    2\n",
      "2    3\n",
      "3    4\n",
      "dtype: int64\n",
      "0    1\n",
      "1    2\n",
      "2    3\n",
      "dtype: int64\n"
     ]
    }
   ],
   "source": [
    "### PANDAS\n",
    "import pandas as pd\n",
    "a=pd.Series([1,2,3,4])\n",
    "print(a)\n",
    "b=pd.Series([1,2,3])\n",
    "print(b)"
   ]
  },
  {
   "cell_type": "code",
   "execution_count": 21,
   "id": "b5b24ff2",
   "metadata": {
    "ExecuteTime": {
     "end_time": "2023-11-02T12:27:45.176992Z",
     "start_time": "2023-11-02T12:27:45.161979Z"
    }
   },
   "outputs": [
    {
     "name": "stdout",
     "output_type": "stream",
     "text": [
      "0    1\n",
      "1    2\n",
      "2    3\n",
      "3    4\n",
      "dtype: int64\n",
      "a    1\n",
      "b    2\n",
      "c    3\n",
      "dtype: int64\n"
     ]
    }
   ],
   "source": [
    "import pandas as pd\n",
    "a=pd.Series([1,2,3,4])\n",
    "print(a)\n",
    "b=pd.Series([1,2,3], index=['a','b','c'])\n",
    "print(b)"
   ]
  },
  {
   "cell_type": "code",
   "execution_count": null,
   "id": "480b334e",
   "metadata": {},
   "outputs": [],
   "source": []
  }
 ],
 "metadata": {
  "hide_input": false,
  "kernelspec": {
   "display_name": "Python 3 (ipykernel)",
   "language": "python",
   "name": "python3"
  },
  "language_info": {
   "codemirror_mode": {
    "name": "ipython",
    "version": 3
   },
   "file_extension": ".py",
   "mimetype": "text/x-python",
   "name": "python",
   "nbconvert_exporter": "python",
   "pygments_lexer": "ipython3",
   "version": "3.9.13"
  },
  "nbTranslate": {
   "displayLangs": [
    "*"
   ],
   "hotkey": "alt-t",
   "langInMainMenu": true,
   "sourceLang": "en",
   "targetLang": "fr",
   "useGoogleTranslate": true
  },
  "toc": {
   "base_numbering": 1,
   "nav_menu": {},
   "number_sections": true,
   "sideBar": true,
   "skip_h1_title": false,
   "title_cell": "Table of Contents",
   "title_sidebar": "Contents",
   "toc_cell": false,
   "toc_position": {},
   "toc_section_display": true,
   "toc_window_display": false
  },
  "varInspector": {
   "cols": {
    "lenName": 16,
    "lenType": 16,
    "lenVar": 40
   },
   "kernels_config": {
    "python": {
     "delete_cmd_postfix": "",
     "delete_cmd_prefix": "del ",
     "library": "var_list.py",
     "varRefreshCmd": "print(var_dic_list())"
    },
    "r": {
     "delete_cmd_postfix": ") ",
     "delete_cmd_prefix": "rm(",
     "library": "var_list.r",
     "varRefreshCmd": "cat(var_dic_list()) "
    }
   },
   "types_to_exclude": [
    "module",
    "function",
    "builtin_function_or_method",
    "instance",
    "_Feature"
   ],
   "window_display": false
  }
 },
 "nbformat": 4,
 "nbformat_minor": 5
}
