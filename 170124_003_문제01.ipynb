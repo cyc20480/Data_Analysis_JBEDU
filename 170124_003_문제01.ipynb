{
 "cells": [
  {
   "cell_type": "code",
   "execution_count": 1,
   "id": "0bf97d1e-c3ee-438c-b079-461713393a4f",
   "metadata": {
    "tags": []
   },
   "outputs": [],
   "source": [
    "import warnings\n",
    "warnings.filterwarnings(action='ignore')"
   ]
  },
  {
   "cell_type": "code",
   "execution_count": 2,
   "id": "1069183a-fd07-4955-a2d0-30a6e73856fd",
   "metadata": {
    "tags": []
   },
   "outputs": [],
   "source": [
    "import pandas as pd"
   ]
  },
  {
   "cell_type": "code",
   "execution_count": 6,
   "id": "1958a290-0e5d-4717-9904-87f570959590",
   "metadata": {
    "tags": []
   },
   "outputs": [],
   "source": [
    "trash_data = pd.read_csv('Data/trash_bag.csv', encoding = 'CP949')"
   ]
  },
  {
   "cell_type": "code",
   "execution_count": 7,
   "id": "441ac800-fcd8-44ac-89d8-546ff1585a3b",
   "metadata": {
    "tags": []
   },
   "outputs": [
    {
     "name": "stdout",
     "output_type": "stream",
     "text": [
      "<class 'pandas.core.frame.DataFrame'>\n",
      "RangeIndex: 749 entries, 0 to 748\n",
      "Data columns (total 21 columns):\n",
      " #   Column  Non-Null Count  Dtype \n",
      "---  ------  --------------  ----- \n",
      " 0   시도명     749 non-null    object\n",
      " 1   시군구명    749 non-null    object\n",
      " 2   종류      749 non-null    object\n",
      " 3   처리방식    749 non-null    object\n",
      " 4   용도      749 non-null    object\n",
      " 5   사용대상    749 non-null    object\n",
      " 6   1L가격    749 non-null    int64 \n",
      " 7   1.5L가격  749 non-null    int64 \n",
      " 8   2L가격    749 non-null    int64 \n",
      " 9   2.5L가격  749 non-null    int64 \n",
      " 10  3L가격    749 non-null    int64 \n",
      " 11  5L가격    749 non-null    int64 \n",
      " 12  10L가격   749 non-null    int64 \n",
      " 13  20L가격   749 non-null    int64 \n",
      " 14  30L가격   749 non-null    int64 \n",
      " 15  50L가격   749 non-null    int64 \n",
      " 16  60L가격   749 non-null    int64 \n",
      " 17  75L가격   749 non-null    int64 \n",
      " 18  100L가격  749 non-null    int64 \n",
      " 19  120L가격  749 non-null    int64 \n",
      " 20  125L가격  749 non-null    int64 \n",
      "dtypes: int64(15), object(6)\n",
      "memory usage: 123.0+ KB\n"
     ]
    }
   ],
   "source": [
    "trash_data.info()"
   ]
  },
  {
   "cell_type": "code",
   "execution_count": 11,
   "id": "1ca251d3-979a-4aec-beb7-9fb394df4d25",
   "metadata": {
    "tags": []
   },
   "outputs": [
    {
     "data": {
      "text/plain": [
       "119"
      ]
     },
     "execution_count": 11,
     "metadata": {},
     "output_type": "execute_result"
    }
   ],
   "source": [
    "int(trash_data.loc[(trash_data['용도'] == '음식물쓰레기') & (trash_data['사용대상'] == '가정용')& (trash_data['2L가격'] != 0 )]['2L가격'].mean())"
   ]
  },
  {
   "cell_type": "code",
   "execution_count": null,
   "id": "5efe7230-98c8-4560-8096-e34d694d5dd7",
   "metadata": {},
   "outputs": [],
   "source": []
  },
  {
   "cell_type": "code",
   "execution_count": null,
   "id": "c9ff985d-bede-42ce-98dd-ac668b833eb1",
   "metadata": {},
   "outputs": [],
   "source": []
  },
  {
   "cell_type": "code",
   "execution_count": null,
   "id": "64416bea-c968-4dd1-b418-ee55ac12e0de",
   "metadata": {},
   "outputs": [],
   "source": []
  },
  {
   "cell_type": "code",
   "execution_count": null,
   "id": "ad73ce3b-db28-4b70-8a8e-a6a0629d16be",
   "metadata": {},
   "outputs": [],
   "source": []
  },
  {
   "cell_type": "code",
   "execution_count": null,
   "id": "d6150a34-2953-4667-9373-fb1b2abed320",
   "metadata": {},
   "outputs": [],
   "source": []
  },
  {
   "cell_type": "code",
   "execution_count": null,
   "id": "f8f0a6a0-e24f-4b2a-b3e0-b851b49aade3",
   "metadata": {},
   "outputs": [],
   "source": []
  }
 ],
 "metadata": {
  "kernelspec": {
   "display_name": "Python 3 (ipykernel)",
   "language": "python",
   "name": "python3"
  },
  "language_info": {
   "codemirror_mode": {
    "name": "ipython",
    "version": 3
   },
   "file_extension": ".py",
   "mimetype": "text/x-python",
   "name": "python",
   "nbconvert_exporter": "python",
   "pygments_lexer": "ipython3",
   "version": "3.11.5"
  }
 },
 "nbformat": 4,
 "nbformat_minor": 5
}
