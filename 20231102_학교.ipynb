{
 "cells": [
  {
   "cell_type": "code",
   "execution_count": 3,
   "id": "9fcb4229",
   "metadata": {},
   "outputs": [
    {
     "name": "stdout",
     "output_type": "stream",
     "text": [
      "['깨지다', '부서지다']\n",
      "깨지다\n",
      "부서지다\n",
      "빗\n"
     ]
    }
   ],
   "source": [
    "eng = {'break':['깨지다', '부서지다'], 'bring':'가져오다', \n",
    "                  'brush':'붓', 'brush':'빗', 'brave':'용감한'}\n",
    "print(eng['break'])\n",
    "print(eng['break'][0])\n",
    "print(eng['break'][1])\n",
    "#print(eng['break'][2])\n",
    "print(eng['brush'])\n",
    "\n"
   ]
  },
  {
   "cell_type": "code",
   "execution_count": 4,
   "id": "7cdfe8cc",
   "metadata": {},
   "outputs": [
    {
     "name": "stdout",
     "output_type": "stream",
     "text": [
      "어떤 메뉴를 드시겠습니까? 라면\n",
      "라면 3000 원 입니다.\n"
     ]
    }
   ],
   "source": [
    "menu = {'김밥':2500, '참치김밥': 3500, '라면':3000, '치즈라면': 4000}\n",
    "eat = input('어떤 메뉴를 드시겠습니까? ')\n",
    "print(eat, menu[eat],'원 입니다.')"
   ]
  },
  {
   "cell_type": "code",
   "execution_count": 5,
   "id": "5abd9be1",
   "metadata": {},
   "outputs": [
    {
     "name": "stdout",
     "output_type": "stream",
     "text": [
      "추가할 메뉴는? 돈까스\n",
      "메뉴의 가격은? 5500\n",
      "{'김밥': 2500, '참치김밥': 3500, '라면': 3000, '치즈라면': 4000, '돈까스': 5500}\n"
     ]
    }
   ],
   "source": [
    "menu = {'김밥':2500, '참치김밥': 3500, '라면':3000, '치즈라면': 4000}\n",
    "\n",
    "name = input('추가할 메뉴는? ')\n",
    "price = int(input('메뉴의 가격은? '))\n",
    "menu[name] = price\n",
    "print(menu)"
   ]
  },
  {
   "cell_type": "code",
   "execution_count": null,
   "id": "240a1245",
   "metadata": {},
   "outputs": [],
   "source": []
  },
  {
   "cell_type": "markdown",
   "id": "93c37d27",
   "metadata": {},
   "source": [
    "### 판다스"
   ]
  },
  {
   "cell_type": "code",
   "execution_count": 6,
   "id": "c55e50d5",
   "metadata": {},
   "outputs": [
    {
     "name": "stdout",
     "output_type": "stream",
     "text": [
      "0    1\n",
      "1    2\n",
      "2    3\n",
      "3    4\n",
      "dtype: int64\n",
      "a    1\n",
      "b    2\n",
      "c    3\n",
      "dtype: int64\n"
     ]
    }
   ],
   "source": [
    "import pandas as pd\n",
    "\n",
    "a = pd.Series([1, 2, 3, 4])\n",
    "print(a)\n",
    "b = pd.Series([1, 2, 3], index=['a', 'b', 'c'])\n",
    "print(b)"
   ]
  },
  {
   "cell_type": "code",
   "execution_count": null,
   "id": "08a1cbf4",
   "metadata": {},
   "outputs": [],
   "source": []
  }
 ],
 "metadata": {
  "kernelspec": {
   "display_name": "Python 3 (ipykernel)",
   "language": "python",
   "name": "python3"
  },
  "language_info": {
   "codemirror_mode": {
    "name": "ipython",
    "version": 3
   },
   "file_extension": ".py",
   "mimetype": "text/x-python",
   "name": "python",
   "nbconvert_exporter": "python",
   "pygments_lexer": "ipython3",
   "version": "3.10.9"
  }
 },
 "nbformat": 4,
 "nbformat_minor": 5
}
